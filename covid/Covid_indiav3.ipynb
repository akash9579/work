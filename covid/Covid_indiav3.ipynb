{
  "nbformat": 4,
  "nbformat_minor": 0,
  "metadata": {
    "colab": {
      "name": "Covid_indiav3.ipynb",
      "provenance": [],
      "collapsed_sections": []
    },
    "kernelspec": {
      "name": "python3",
      "display_name": "Python 3"
    }
  },
  "cells": [
    {
      "cell_type": "code",
      "metadata": {
        "id": "6T1p_MyS9MCk",
        "colab_type": "code",
        "colab": {}
      },
      "source": [
        "import pandas as pd\n",
        "import matplotlib.pyplot as plt\n",
        "import numpy as np\n"
      ],
      "execution_count": 1,
      "outputs": []
    },
    {
      "cell_type": "markdown",
      "metadata": {
        "id": "u72_Guh2_Ayi",
        "colab_type": "text"
      },
      "source": [
        "load data into dataframe"
      ]
    },
    {
      "cell_type": "code",
      "metadata": {
        "id": "ewapf39A-2ZN",
        "colab_type": "code",
        "colab": {}
      },
      "source": [
        "data = pd.read_csv('/content/datasets_549966_1296705_complete.csv')"
      ],
      "execution_count": 2,
      "outputs": []
    },
    {
      "cell_type": "code",
      "metadata": {
        "id": "L15dQV8U-3ab",
        "colab_type": "code",
        "colab": {
          "base_uri": "https://localhost:8080/",
          "height": 223
        },
        "outputId": "15b555fc-1e68-40b5-bf52-1e7383339527"
      },
      "source": [
        "data.head(5)"
      ],
      "execution_count": 3,
      "outputs": [
        {
          "output_type": "execute_result",
          "data": {
            "text/html": [
              "<div>\n",
              "<style scoped>\n",
              "    .dataframe tbody tr th:only-of-type {\n",
              "        vertical-align: middle;\n",
              "    }\n",
              "\n",
              "    .dataframe tbody tr th {\n",
              "        vertical-align: top;\n",
              "    }\n",
              "\n",
              "    .dataframe thead th {\n",
              "        text-align: right;\n",
              "    }\n",
              "</style>\n",
              "<table border=\"1\" class=\"dataframe\">\n",
              "  <thead>\n",
              "    <tr style=\"text-align: right;\">\n",
              "      <th></th>\n",
              "      <th>Date</th>\n",
              "      <th>Name of State / UT</th>\n",
              "      <th>Latitude</th>\n",
              "      <th>Longitude</th>\n",
              "      <th>Total Confirmed cases</th>\n",
              "      <th>Death</th>\n",
              "      <th>Cured/Discharged/Migrated</th>\n",
              "      <th>New cases</th>\n",
              "      <th>New deaths</th>\n",
              "      <th>New recovered</th>\n",
              "    </tr>\n",
              "  </thead>\n",
              "  <tbody>\n",
              "    <tr>\n",
              "      <th>0</th>\n",
              "      <td>2020-01-30</td>\n",
              "      <td>Kerala</td>\n",
              "      <td>10.8505</td>\n",
              "      <td>76.2711</td>\n",
              "      <td>1</td>\n",
              "      <td>0</td>\n",
              "      <td>0</td>\n",
              "      <td>0</td>\n",
              "      <td>0</td>\n",
              "      <td>0</td>\n",
              "    </tr>\n",
              "    <tr>\n",
              "      <th>1</th>\n",
              "      <td>2020-01-31</td>\n",
              "      <td>Kerala</td>\n",
              "      <td>10.8505</td>\n",
              "      <td>76.2711</td>\n",
              "      <td>1</td>\n",
              "      <td>0</td>\n",
              "      <td>0</td>\n",
              "      <td>0</td>\n",
              "      <td>0</td>\n",
              "      <td>0</td>\n",
              "    </tr>\n",
              "    <tr>\n",
              "      <th>2</th>\n",
              "      <td>2020-02-01</td>\n",
              "      <td>Kerala</td>\n",
              "      <td>10.8505</td>\n",
              "      <td>76.2711</td>\n",
              "      <td>2</td>\n",
              "      <td>0</td>\n",
              "      <td>0</td>\n",
              "      <td>1</td>\n",
              "      <td>0</td>\n",
              "      <td>0</td>\n",
              "    </tr>\n",
              "    <tr>\n",
              "      <th>3</th>\n",
              "      <td>2020-02-02</td>\n",
              "      <td>Kerala</td>\n",
              "      <td>10.8505</td>\n",
              "      <td>76.2711</td>\n",
              "      <td>3</td>\n",
              "      <td>0</td>\n",
              "      <td>0</td>\n",
              "      <td>1</td>\n",
              "      <td>0</td>\n",
              "      <td>0</td>\n",
              "    </tr>\n",
              "    <tr>\n",
              "      <th>4</th>\n",
              "      <td>2020-02-03</td>\n",
              "      <td>Kerala</td>\n",
              "      <td>10.8505</td>\n",
              "      <td>76.2711</td>\n",
              "      <td>3</td>\n",
              "      <td>0</td>\n",
              "      <td>0</td>\n",
              "      <td>0</td>\n",
              "      <td>0</td>\n",
              "      <td>0</td>\n",
              "    </tr>\n",
              "  </tbody>\n",
              "</table>\n",
              "</div>"
            ],
            "text/plain": [
              "         Date Name of State / UT  ...  New deaths  New recovered\n",
              "0  2020-01-30             Kerala  ...           0              0\n",
              "1  2020-01-31             Kerala  ...           0              0\n",
              "2  2020-02-01             Kerala  ...           0              0\n",
              "3  2020-02-02             Kerala  ...           0              0\n",
              "4  2020-02-03             Kerala  ...           0              0\n",
              "\n",
              "[5 rows x 10 columns]"
            ]
          },
          "metadata": {
            "tags": []
          },
          "execution_count": 3
        }
      ]
    },
    {
      "cell_type": "code",
      "metadata": {
        "id": "mISRgNMjyr4F",
        "colab_type": "code",
        "colab": {
          "base_uri": "https://localhost:8080/",
          "height": 90
        },
        "outputId": "d3d237cd-1a6f-44e6-dd54-06337adb6e25"
      },
      "source": [
        "data.columns"
      ],
      "execution_count": 4,
      "outputs": [
        {
          "output_type": "execute_result",
          "data": {
            "text/plain": [
              "Index(['Date', 'Name of State / UT', 'Latitude', 'Longitude',\n",
              "       'Total Confirmed cases', 'Death', 'Cured/Discharged/Migrated',\n",
              "       'New cases', 'New deaths', 'New recovered'],\n",
              "      dtype='object')"
            ]
          },
          "metadata": {
            "tags": []
          },
          "execution_count": 4
        }
      ]
    },
    {
      "cell_type": "code",
      "metadata": {
        "id": "4QWtGQyS-7Ki",
        "colab_type": "code",
        "colab": {
          "base_uri": "https://localhost:8080/",
          "height": 35
        },
        "outputId": "b085a2aa-f851-43e7-fefc-77898d23375d"
      },
      "source": [
        "data.shape"
      ],
      "execution_count": 5,
      "outputs": [
        {
          "output_type": "execute_result",
          "data": {
            "text/plain": [
              "(3510, 10)"
            ]
          },
          "metadata": {
            "tags": []
          },
          "execution_count": 5
        }
      ]
    },
    {
      "cell_type": "code",
      "metadata": {
        "id": "K0S_fZkd--YC",
        "colab_type": "code",
        "colab": {
          "base_uri": "https://localhost:8080/",
          "height": 344
        },
        "outputId": "a7259d76-2ff9-4870-dbbd-1e1327b4f114"
      },
      "source": [
        "print(data.info())"
      ],
      "execution_count": 6,
      "outputs": [
        {
          "output_type": "stream",
          "text": [
            "<class 'pandas.core.frame.DataFrame'>\n",
            "RangeIndex: 3510 entries, 0 to 3509\n",
            "Data columns (total 10 columns):\n",
            " #   Column                     Non-Null Count  Dtype  \n",
            "---  ------                     --------------  -----  \n",
            " 0   Date                       3510 non-null   object \n",
            " 1   Name of State / UT         3510 non-null   object \n",
            " 2   Latitude                   3510 non-null   float64\n",
            " 3   Longitude                  3510 non-null   float64\n",
            " 4   Total Confirmed cases      3510 non-null   int64  \n",
            " 5   Death                      3510 non-null   int64  \n",
            " 6   Cured/Discharged/Migrated  3510 non-null   int64  \n",
            " 7   New cases                  3510 non-null   int64  \n",
            " 8   New deaths                 3510 non-null   int64  \n",
            " 9   New recovered              3510 non-null   int64  \n",
            "dtypes: float64(2), int64(6), object(2)\n",
            "memory usage: 274.3+ KB\n",
            "None\n"
          ],
          "name": "stdout"
        }
      ]
    },
    {
      "cell_type": "code",
      "metadata": {
        "id": "-Pnh9ndftEpv",
        "colab_type": "code",
        "colab": {}
      },
      "source": [
        "data_india = data.groupby('Date').sum()"
      ],
      "execution_count": 7,
      "outputs": []
    },
    {
      "cell_type": "code",
      "metadata": {
        "id": "VvlA7f15ydJ7",
        "colab_type": "code",
        "colab": {}
      },
      "source": [
        "data_india_state = data.groupby('Name of State / UT').sum()"
      ],
      "execution_count": 8,
      "outputs": []
    },
    {
      "cell_type": "code",
      "metadata": {
        "id": "QN2Otwg1y2Ii",
        "colab_type": "code",
        "colab": {
          "base_uri": "https://localhost:8080/",
          "height": 272
        },
        "outputId": "48139788-eff5-4d54-cf5d-ebd3ba434f77"
      },
      "source": [
        "data_india_state.head()"
      ],
      "execution_count": 9,
      "outputs": [
        {
          "output_type": "execute_result",
          "data": {
            "text/html": [
              "<div>\n",
              "<style scoped>\n",
              "    .dataframe tbody tr th:only-of-type {\n",
              "        vertical-align: middle;\n",
              "    }\n",
              "\n",
              "    .dataframe tbody tr th {\n",
              "        vertical-align: top;\n",
              "    }\n",
              "\n",
              "    .dataframe thead th {\n",
              "        text-align: right;\n",
              "    }\n",
              "</style>\n",
              "<table border=\"1\" class=\"dataframe\">\n",
              "  <thead>\n",
              "    <tr style=\"text-align: right;\">\n",
              "      <th></th>\n",
              "      <th>Latitude</th>\n",
              "      <th>Longitude</th>\n",
              "      <th>Total Confirmed cases</th>\n",
              "      <th>Death</th>\n",
              "      <th>Cured/Discharged/Migrated</th>\n",
              "      <th>New cases</th>\n",
              "      <th>New deaths</th>\n",
              "      <th>New recovered</th>\n",
              "    </tr>\n",
              "    <tr>\n",
              "      <th>Name of State / UT</th>\n",
              "      <th></th>\n",
              "      <th></th>\n",
              "      <th></th>\n",
              "      <th></th>\n",
              "      <th></th>\n",
              "      <th></th>\n",
              "      <th></th>\n",
              "      <th></th>\n",
              "    </tr>\n",
              "  </thead>\n",
              "  <tbody>\n",
              "    <tr>\n",
              "      <th>Andaman and Nicobar Islands</th>\n",
              "      <td>1127.0496</td>\n",
              "      <td>8895.2256</td>\n",
              "      <td>2836</td>\n",
              "      <td>0</td>\n",
              "      <td>2212</td>\n",
              "      <td>89</td>\n",
              "      <td>0</td>\n",
              "      <td>46</td>\n",
              "    </tr>\n",
              "    <tr>\n",
              "      <th>Andhra Pradesh</th>\n",
              "      <td>1750.4190</td>\n",
              "      <td>8771.4000</td>\n",
              "      <td>295441</td>\n",
              "      <td>4647</td>\n",
              "      <td>146386</td>\n",
              "      <td>13890</td>\n",
              "      <td>180</td>\n",
              "      <td>6232</td>\n",
              "    </tr>\n",
              "    <tr>\n",
              "      <th>Arunachal Pradesh</th>\n",
              "      <td>2483.1840</td>\n",
              "      <td>8336.0464</td>\n",
              "      <td>2735</td>\n",
              "      <td>4</td>\n",
              "      <td>440</td>\n",
              "      <td>186</td>\n",
              "      <td>1</td>\n",
              "      <td>61</td>\n",
              "    </tr>\n",
              "    <tr>\n",
              "      <th>Assam</th>\n",
              "      <td>2358.0540</td>\n",
              "      <td>8364.3840</td>\n",
              "      <td>125963</td>\n",
              "      <td>297</td>\n",
              "      <td>64145</td>\n",
              "      <td>7759</td>\n",
              "      <td>11</td>\n",
              "      <td>5333</td>\n",
              "    </tr>\n",
              "    <tr>\n",
              "      <th>Bihar</th>\n",
              "      <td>2509.6100</td>\n",
              "      <td>8531.3100</td>\n",
              "      <td>236116</td>\n",
              "      <td>1501</td>\n",
              "      <td>138480</td>\n",
              "      <td>9638</td>\n",
              "      <td>61</td>\n",
              "      <td>7390</td>\n",
              "    </tr>\n",
              "  </tbody>\n",
              "</table>\n",
              "</div>"
            ],
            "text/plain": [
              "                              Latitude  Longitude  ...  New deaths  New recovered\n",
              "Name of State / UT                                 ...                           \n",
              "Andaman and Nicobar Islands  1127.0496  8895.2256  ...           0             46\n",
              "Andhra Pradesh               1750.4190  8771.4000  ...         180           6232\n",
              "Arunachal Pradesh            2483.1840  8336.0464  ...           1             61\n",
              "Assam                        2358.0540  8364.3840  ...          11           5333\n",
              "Bihar                        2509.6100  8531.3100  ...          61           7390\n",
              "\n",
              "[5 rows x 8 columns]"
            ]
          },
          "metadata": {
            "tags": []
          },
          "execution_count": 9
        }
      ]
    },
    {
      "cell_type": "code",
      "metadata": {
        "id": "WoCsP5M-khHz",
        "colab_type": "code",
        "colab": {
          "base_uri": "https://localhost:8080/",
          "height": 591
        },
        "outputId": "8858812d-e21c-4d2d-ceb9-71cac6d216bd"
      },
      "source": [
        "fig = plt.figure(figsize=(10,10))\n",
        "conf_per_state = data.groupby('Name of State / UT')['Total Confirmed cases'].sum().sort_values(ascending=False)\n",
        "conf_sum=data['Total Confirmed cases'].sum()\n",
        "def absolute_value(val):\n",
        "    a  = val\n",
        "    return (np.round(a,2))\n",
        "conf_per_state.plot(kind=\"pie\",title='Percentage of confirmed cases per states of India',autopct=absolute_value)\n",
        "\n",
        "plt.show ()"
      ],
      "execution_count": 90,
      "outputs": [
        {
          "output_type": "display_data",
          "data": {
            "image/png": "[encoded data removed]",
            "text/plain": [
              "<Figure size 720x720 with 1 Axes>"
            ]
          },
          "metadata": {
            "tags": []
          }
        }
      ]
    },
    {
      "cell_type": "code",
      "metadata": {
        "id": "brvnsDY5sksz",
        "colab_type": "code",
        "colab": {
          "base_uri": "https://localhost:8080/",
          "height": 90
        },
        "outputId": "70819e61-9069-4331-ae0a-03d86d8052bf"
      },
      "source": [
        "data5 = data.groupby('Name of State / UT')['Total Confirmed cases','Cured/Discharged/Migrated','Death'].sum().sort_values(by=['Total Confirmed cases'],ascending=False)"
      ],
      "execution_count": 77,
      "outputs": [
        {
          "output_type": "stream",
          "text": [
            "/usr/local/lib/python3.6/dist-packages/ipykernel_launcher.py:1: FutureWarning:\n",
            "\n",
            "Indexing with multiple keys (implicitly converted to a tuple of keys) will be deprecated, use a list instead.\n",
            "\n"
          ],
          "name": "stderr"
        }
      ]
    },
    {
      "cell_type": "code",
      "metadata": {
        "id": "DqeZX0IZtTdS",
        "colab_type": "code",
        "colab": {
          "base_uri": "https://localhost:8080/",
          "height": 237
        },
        "outputId": "541013d3-3376-4337-828f-751442ba7f5c"
      },
      "source": [
        "data5.head()"
      ],
      "execution_count": 79,
      "outputs": [
        {
          "output_type": "execute_result",
          "data": {
            "text/html": [
              "<div>\n",
              "<style scoped>\n",
              "    .dataframe tbody tr th:only-of-type {\n",
              "        vertical-align: middle;\n",
              "    }\n",
              "\n",
              "    .dataframe tbody tr th {\n",
              "        vertical-align: top;\n",
              "    }\n",
              "\n",
              "    .dataframe thead th {\n",
              "        text-align: right;\n",
              "    }\n",
              "</style>\n",
              "<table border=\"1\" class=\"dataframe\">\n",
              "  <thead>\n",
              "    <tr style=\"text-align: right;\">\n",
              "      <th></th>\n",
              "      <th>Total Confirmed cases</th>\n",
              "      <th>Cured/Discharged/Migrated</th>\n",
              "      <th>Death</th>\n",
              "    </tr>\n",
              "    <tr>\n",
              "      <th>Name of State / UT</th>\n",
              "      <th></th>\n",
              "      <th></th>\n",
              "      <th></th>\n",
              "    </tr>\n",
              "  </thead>\n",
              "  <tbody>\n",
              "    <tr>\n",
              "      <th>Maharashtra</th>\n",
              "      <td>4329277</td>\n",
              "      <td>1860931</td>\n",
              "      <td>175643</td>\n",
              "    </tr>\n",
              "    <tr>\n",
              "      <th>Tamil Nadu</th>\n",
              "      <td>1732446</td>\n",
              "      <td>904972</td>\n",
              "      <td>17964</td>\n",
              "    </tr>\n",
              "    <tr>\n",
              "      <th>Delhi</th>\n",
              "      <td>1661145</td>\n",
              "      <td>784530</td>\n",
              "      <td>49265</td>\n",
              "    </tr>\n",
              "    <tr>\n",
              "      <th>Gujarat</th>\n",
              "      <td>1049752</td>\n",
              "      <td>612154</td>\n",
              "      <td>63163</td>\n",
              "    </tr>\n",
              "    <tr>\n",
              "      <th>Uttar Pradesh</th>\n",
              "      <td>575617</td>\n",
              "      <td>329704</td>\n",
              "      <td>15661</td>\n",
              "    </tr>\n",
              "  </tbody>\n",
              "</table>\n",
              "</div>"
            ],
            "text/plain": [
              "                    Total Confirmed cases  Cured/Discharged/Migrated   Death\n",
              "Name of State / UT                                                          \n",
              "Maharashtra                       4329277                    1860931  175643\n",
              "Tamil Nadu                        1732446                     904972   17964\n",
              "Delhi                             1661145                     784530   49265\n",
              "Gujarat                           1049752                     612154   63163\n",
              "Uttar Pradesh                      575617                     329704   15661"
            ]
          },
          "metadata": {
            "tags": []
          },
          "execution_count": 79
        }
      ]
    },
    {
      "cell_type": "code",
      "metadata": {
        "id": "OH8iWEZVnB1w",
        "colab_type": "code",
        "colab": {
          "base_uri": "https://localhost:8080/",
          "height": 1000
        },
        "outputId": "dbdf0b10-2aae-42d4-e80b-47df0ad3990b"
      },
      "source": [
        "import seaborn as sns\n",
        "f, ax = plt.subplots(figsize=(10, 20))\n",
        "bar1=sns.barplot(x=\"Total Confirmed cases\",y=\"Name of State / UT\",data=data,\n",
        "            label=\"Total Confirmed cases\", color=\"b\", ci=None)\n",
        "\n",
        "\n",
        "bar2=sns.barplot(x=\"Cured/Discharged/Migrated\", y=\"Name of State / UT\", data=data,\n",
        "            label=\"Cured/Discharged/Migrated\", color=\"g\", ci=None)\n",
        "\n",
        "\n",
        "bar3=sns.barplot(x=\"Death\", y=\"Name of State / UT\", data=data,\n",
        "            label=\"Death\", color=\"r\", ci=None)\n",
        "\n",
        "ax.legend(loc=4, ncol = 1)\n",
        "plt.xlabel(\"Confirmed Cases\")\n",
        "plt.show()\n",
        "\n"
      ],
      "execution_count": 89,
      "outputs": [
        {
          "output_type": "display_data",
          "data": {
            "image/png": "[encoded data removed]",
            "text/plain": [
              "<Figure size 720x1440 with 1 Axes>"
            ]
          },
          "metadata": {
            "tags": [],
            "needs_background": "light"
          }
        }
      ]
    },
    {
      "cell_type": "code",
      "metadata": {
        "id": "onmEhnJnt6q8",
        "colab_type": "code",
        "colab": {
          "base_uri": "https://localhost:8080/",
          "height": 648
        },
        "outputId": "85ecd941-2529-4978-b4a9-a10fb060b6dc"
      },
      "source": [
        "group_cases=data[['Total Confirmed cases','Cured/Discharged/Migrated','Death','Name of State / UT']].groupby('Name of State / UT').sum().sort_values('Total Confirmed cases',ascending=False).head()\n",
        "group_cases.plot(kind='bar',width=0.5,colormap='plasma',figsize=(20,10))\n",
        "plt.ylabel('number of cases') \n",
        "plt.xlabel('Top 5 state with respect to Total confirmed cases')  \n",
        "plt.show()"
      ],
      "execution_count": 88,
      "outputs": [
        {
          "output_type": "display_data",
          "data": {
            "image/png": "[encoded data removed]",
            "text/plain": [
              "<Figure size 1440x720 with 1 Axes>"
            ]
          },
          "metadata": {
            "tags": [],
            "needs_background": "light"
          }
        }
      ]
    },
    {
      "cell_type": "code",
      "metadata": {
        "id": "_VaUVFZWtKNN",
        "colab_type": "code",
        "colab": {
          "base_uri": "https://localhost:8080/",
          "height": 237
        },
        "outputId": "1ee1fee2-b4bc-46c6-8663-c5f114bae896"
      },
      "source": [
        "data_india.tail()"
      ],
      "execution_count": 10,
      "outputs": [
        {
          "output_type": "execute_result",
          "data": {
            "text/html": [
              "<div>\n",
              "<style scoped>\n",
              "    .dataframe tbody tr th:only-of-type {\n",
              "        vertical-align: middle;\n",
              "    }\n",
              "\n",
              "    .dataframe tbody tr th {\n",
              "        vertical-align: top;\n",
              "    }\n",
              "\n",
              "    .dataframe thead th {\n",
              "        text-align: right;\n",
              "    }\n",
              "</style>\n",
              "<table border=\"1\" class=\"dataframe\">\n",
              "  <thead>\n",
              "    <tr style=\"text-align: right;\">\n",
              "      <th></th>\n",
              "      <th>Latitude</th>\n",
              "      <th>Longitude</th>\n",
              "      <th>Total Confirmed cases</th>\n",
              "      <th>Death</th>\n",
              "      <th>Cured/Discharged/Migrated</th>\n",
              "      <th>New cases</th>\n",
              "      <th>New deaths</th>\n",
              "      <th>New recovered</th>\n",
              "    </tr>\n",
              "    <tr>\n",
              "      <th>Date</th>\n",
              "      <th></th>\n",
              "      <th></th>\n",
              "      <th></th>\n",
              "      <th></th>\n",
              "      <th></th>\n",
              "      <th></th>\n",
              "      <th></th>\n",
              "      <th></th>\n",
              "    </tr>\n",
              "  </thead>\n",
              "  <tbody>\n",
              "    <tr>\n",
              "      <th>2020-06-25</th>\n",
              "      <td>817.4984</td>\n",
              "      <td>2872.458</td>\n",
              "      <td>464612</td>\n",
              "      <td>14894</td>\n",
              "      <td>271697</td>\n",
              "      <td>16570</td>\n",
              "      <td>418</td>\n",
              "      <td>13012</td>\n",
              "    </tr>\n",
              "    <tr>\n",
              "      <th>2020-06-27</th>\n",
              "      <td>817.4984</td>\n",
              "      <td>2872.458</td>\n",
              "      <td>500930</td>\n",
              "      <td>15685</td>\n",
              "      <td>295881</td>\n",
              "      <td>36318</td>\n",
              "      <td>791</td>\n",
              "      <td>24184</td>\n",
              "    </tr>\n",
              "    <tr>\n",
              "      <th>2020-06-28</th>\n",
              "      <td>817.4984</td>\n",
              "      <td>2872.458</td>\n",
              "      <td>521020</td>\n",
              "      <td>16095</td>\n",
              "      <td>309713</td>\n",
              "      <td>20090</td>\n",
              "      <td>410</td>\n",
              "      <td>13832</td>\n",
              "    </tr>\n",
              "    <tr>\n",
              "      <th>2020-06-29</th>\n",
              "      <td>817.4984</td>\n",
              "      <td>2872.458</td>\n",
              "      <td>541033</td>\n",
              "      <td>16475</td>\n",
              "      <td>321723</td>\n",
              "      <td>20013</td>\n",
              "      <td>380</td>\n",
              "      <td>12010</td>\n",
              "    </tr>\n",
              "    <tr>\n",
              "      <th>2020-06-30</th>\n",
              "      <td>817.4984</td>\n",
              "      <td>2872.458</td>\n",
              "      <td>559836</td>\n",
              "      <td>16893</td>\n",
              "      <td>334822</td>\n",
              "      <td>18803</td>\n",
              "      <td>418</td>\n",
              "      <td>13099</td>\n",
              "    </tr>\n",
              "  </tbody>\n",
              "</table>\n",
              "</div>"
            ],
            "text/plain": [
              "            Latitude  Longitude  ...  New deaths  New recovered\n",
              "Date                             ...                           \n",
              "2020-06-25  817.4984   2872.458  ...         418          13012\n",
              "2020-06-27  817.4984   2872.458  ...         791          24184\n",
              "2020-06-28  817.4984   2872.458  ...         410          13832\n",
              "2020-06-29  817.4984   2872.458  ...         380          12010\n",
              "2020-06-30  817.4984   2872.458  ...         418          13099\n",
              "\n",
              "[5 rows x 8 columns]"
            ]
          },
          "metadata": {
            "tags": []
          },
          "execution_count": 10
        }
      ]
    },
    {
      "cell_type": "code",
      "metadata": {
        "id": "4rJZa_dH_ZPz",
        "colab_type": "code",
        "colab": {
          "base_uri": "https://localhost:8080/",
          "height": 73
        },
        "outputId": "2704cf04-9ac9-4ec2-b0d9-7d4f78d250be"
      },
      "source": [
        "data_num_india = data.groupby('Date')[\"Total Confirmed cases\", \"Cured/Discharged/Migrated\", \"Death\"].sum()"
      ],
      "execution_count": 11,
      "outputs": [
        {
          "output_type": "stream",
          "text": [
            "/usr/local/lib/python3.6/dist-packages/ipykernel_launcher.py:1: FutureWarning: Indexing with multiple keys (implicitly converted to a tuple of keys) will be deprecated, use a list instead.\n",
            "  \"\"\"Entry point for launching an IPython kernel.\n"
          ],
          "name": "stderr"
        }
      ]
    },
    {
      "cell_type": "code",
      "metadata": {
        "id": "-nywe0tgTVma",
        "colab_type": "code",
        "colab": {
          "base_uri": "https://localhost:8080/",
          "height": 237
        },
        "outputId": "3e8f7275-8feb-4194-d44e-6c4d96f90f4e"
      },
      "source": [
        "data_num_india.head(5)"
      ],
      "execution_count": 12,
      "outputs": [
        {
          "output_type": "execute_result",
          "data": {
            "text/html": [
              "<div>\n",
              "<style scoped>\n",
              "    .dataframe tbody tr th:only-of-type {\n",
              "        vertical-align: middle;\n",
              "    }\n",
              "\n",
              "    .dataframe tbody tr th {\n",
              "        vertical-align: top;\n",
              "    }\n",
              "\n",
              "    .dataframe thead th {\n",
              "        text-align: right;\n",
              "    }\n",
              "</style>\n",
              "<table border=\"1\" class=\"dataframe\">\n",
              "  <thead>\n",
              "    <tr style=\"text-align: right;\">\n",
              "      <th></th>\n",
              "      <th>Total Confirmed cases</th>\n",
              "      <th>Cured/Discharged/Migrated</th>\n",
              "      <th>Death</th>\n",
              "    </tr>\n",
              "    <tr>\n",
              "      <th>Date</th>\n",
              "      <th></th>\n",
              "      <th></th>\n",
              "      <th></th>\n",
              "    </tr>\n",
              "  </thead>\n",
              "  <tbody>\n",
              "    <tr>\n",
              "      <th>2020-01-30</th>\n",
              "      <td>1</td>\n",
              "      <td>0</td>\n",
              "      <td>0</td>\n",
              "    </tr>\n",
              "    <tr>\n",
              "      <th>2020-01-31</th>\n",
              "      <td>1</td>\n",
              "      <td>0</td>\n",
              "      <td>0</td>\n",
              "    </tr>\n",
              "    <tr>\n",
              "      <th>2020-02-01</th>\n",
              "      <td>2</td>\n",
              "      <td>0</td>\n",
              "      <td>0</td>\n",
              "    </tr>\n",
              "    <tr>\n",
              "      <th>2020-02-02</th>\n",
              "      <td>3</td>\n",
              "      <td>0</td>\n",
              "      <td>0</td>\n",
              "    </tr>\n",
              "    <tr>\n",
              "      <th>2020-02-03</th>\n",
              "      <td>3</td>\n",
              "      <td>0</td>\n",
              "      <td>0</td>\n",
              "    </tr>\n",
              "  </tbody>\n",
              "</table>\n",
              "</div>"
            ],
            "text/plain": [
              "            Total Confirmed cases  Cured/Discharged/Migrated  Death\n",
              "Date                                                               \n",
              "2020-01-30                      1                          0      0\n",
              "2020-01-31                      1                          0      0\n",
              "2020-02-01                      2                          0      0\n",
              "2020-02-02                      3                          0      0\n",
              "2020-02-03                      3                          0      0"
            ]
          },
          "metadata": {
            "tags": []
          },
          "execution_count": 12
        }
      ]
    },
    {
      "cell_type": "code",
      "metadata": {
        "id": "mDADqStANUjv",
        "colab_type": "code",
        "colab": {}
      },
      "source": [
        "datakerala = data.loc[data['Name of State / UT']=='Kerala']\n",
        "#df.loc[df['column_name'] == some_value]\n",
        "#https://stackoverflow.com/questions/17071871/how-to-select-rows-from-a-dataframe-based-on-column-values"
      ],
      "execution_count": 13,
      "outputs": []
    },
    {
      "cell_type": "code",
      "metadata": {
        "id": "GyaUBsJBNbnH",
        "colab_type": "code",
        "colab": {
          "base_uri": "https://localhost:8080/",
          "height": 441
        },
        "outputId": "7817a665-6a94-4833-b9f0-4bc4f01aa227"
      },
      "source": [
        "datakerala"
      ],
      "execution_count": 14,
      "outputs": [
        {
          "output_type": "execute_result",
          "data": {
            "text/html": [
              "<div>\n",
              "<style scoped>\n",
              "    .dataframe tbody tr th:only-of-type {\n",
              "        vertical-align: middle;\n",
              "    }\n",
              "\n",
              "    .dataframe tbody tr th {\n",
              "        vertical-align: top;\n",
              "    }\n",
              "\n",
              "    .dataframe thead th {\n",
              "        text-align: right;\n",
              "    }\n",
              "</style>\n",
              "<table border=\"1\" class=\"dataframe\">\n",
              "  <thead>\n",
              "    <tr style=\"text-align: right;\">\n",
              "      <th></th>\n",
              "      <th>Date</th>\n",
              "      <th>Name of State / UT</th>\n",
              "      <th>Latitude</th>\n",
              "      <th>Longitude</th>\n",
              "      <th>Total Confirmed cases</th>\n",
              "      <th>Death</th>\n",
              "      <th>Cured/Discharged/Migrated</th>\n",
              "      <th>New cases</th>\n",
              "      <th>New deaths</th>\n",
              "      <th>New recovered</th>\n",
              "    </tr>\n",
              "  </thead>\n",
              "  <tbody>\n",
              "    <tr>\n",
              "      <th>0</th>\n",
              "      <td>2020-01-30</td>\n",
              "      <td>Kerala</td>\n",
              "      <td>10.8505</td>\n",
              "      <td>76.2711</td>\n",
              "      <td>1</td>\n",
              "      <td>0</td>\n",
              "      <td>0</td>\n",
              "      <td>0</td>\n",
              "      <td>0</td>\n",
              "      <td>0</td>\n",
              "    </tr>\n",
              "    <tr>\n",
              "      <th>1</th>\n",
              "      <td>2020-01-31</td>\n",
              "      <td>Kerala</td>\n",
              "      <td>10.8505</td>\n",
              "      <td>76.2711</td>\n",
              "      <td>1</td>\n",
              "      <td>0</td>\n",
              "      <td>0</td>\n",
              "      <td>0</td>\n",
              "      <td>0</td>\n",
              "      <td>0</td>\n",
              "    </tr>\n",
              "    <tr>\n",
              "      <th>2</th>\n",
              "      <td>2020-02-01</td>\n",
              "      <td>Kerala</td>\n",
              "      <td>10.8505</td>\n",
              "      <td>76.2711</td>\n",
              "      <td>2</td>\n",
              "      <td>0</td>\n",
              "      <td>0</td>\n",
              "      <td>1</td>\n",
              "      <td>0</td>\n",
              "      <td>0</td>\n",
              "    </tr>\n",
              "    <tr>\n",
              "      <th>3</th>\n",
              "      <td>2020-02-02</td>\n",
              "      <td>Kerala</td>\n",
              "      <td>10.8505</td>\n",
              "      <td>76.2711</td>\n",
              "      <td>3</td>\n",
              "      <td>0</td>\n",
              "      <td>0</td>\n",
              "      <td>1</td>\n",
              "      <td>0</td>\n",
              "      <td>0</td>\n",
              "    </tr>\n",
              "    <tr>\n",
              "      <th>4</th>\n",
              "      <td>2020-02-03</td>\n",
              "      <td>Kerala</td>\n",
              "      <td>10.8505</td>\n",
              "      <td>76.2711</td>\n",
              "      <td>3</td>\n",
              "      <td>0</td>\n",
              "      <td>0</td>\n",
              "      <td>0</td>\n",
              "      <td>0</td>\n",
              "      <td>0</td>\n",
              "    </tr>\n",
              "    <tr>\n",
              "      <th>...</th>\n",
              "      <td>...</td>\n",
              "      <td>...</td>\n",
              "      <td>...</td>\n",
              "      <td>...</td>\n",
              "      <td>...</td>\n",
              "      <td>...</td>\n",
              "      <td>...</td>\n",
              "      <td>...</td>\n",
              "      <td>...</td>\n",
              "      <td>...</td>\n",
              "    </tr>\n",
              "    <tr>\n",
              "      <th>3351</th>\n",
              "      <td>2020-06-25</td>\n",
              "      <td>Kerala</td>\n",
              "      <td>10.8505</td>\n",
              "      <td>76.2711</td>\n",
              "      <td>3603</td>\n",
              "      <td>22</td>\n",
              "      <td>1888</td>\n",
              "      <td>152</td>\n",
              "      <td>0</td>\n",
              "      <td>79</td>\n",
              "    </tr>\n",
              "    <tr>\n",
              "      <th>3386</th>\n",
              "      <td>2020-06-27</td>\n",
              "      <td>Kerala</td>\n",
              "      <td>10.8505</td>\n",
              "      <td>76.2711</td>\n",
              "      <td>3876</td>\n",
              "      <td>22</td>\n",
              "      <td>2008</td>\n",
              "      <td>273</td>\n",
              "      <td>0</td>\n",
              "      <td>120</td>\n",
              "    </tr>\n",
              "    <tr>\n",
              "      <th>3421</th>\n",
              "      <td>2020-06-28</td>\n",
              "      <td>Kerala</td>\n",
              "      <td>10.8505</td>\n",
              "      <td>76.2711</td>\n",
              "      <td>4071</td>\n",
              "      <td>22</td>\n",
              "      <td>2110</td>\n",
              "      <td>195</td>\n",
              "      <td>0</td>\n",
              "      <td>102</td>\n",
              "    </tr>\n",
              "    <tr>\n",
              "      <th>3456</th>\n",
              "      <td>2020-06-29</td>\n",
              "      <td>Kerala</td>\n",
              "      <td>10.8505</td>\n",
              "      <td>76.2711</td>\n",
              "      <td>4189</td>\n",
              "      <td>22</td>\n",
              "      <td>2152</td>\n",
              "      <td>118</td>\n",
              "      <td>0</td>\n",
              "      <td>42</td>\n",
              "    </tr>\n",
              "    <tr>\n",
              "      <th>3491</th>\n",
              "      <td>2020-06-30</td>\n",
              "      <td>Kerala</td>\n",
              "      <td>10.8505</td>\n",
              "      <td>76.2711</td>\n",
              "      <td>4189</td>\n",
              "      <td>22</td>\n",
              "      <td>2152</td>\n",
              "      <td>0</td>\n",
              "      <td>0</td>\n",
              "      <td>0</td>\n",
              "    </tr>\n",
              "  </tbody>\n",
              "</table>\n",
              "<p>152 rows × 10 columns</p>\n",
              "</div>"
            ],
            "text/plain": [
              "            Date Name of State / UT  ...  New deaths  New recovered\n",
              "0     2020-01-30             Kerala  ...           0              0\n",
              "1     2020-01-31             Kerala  ...           0              0\n",
              "2     2020-02-01             Kerala  ...           0              0\n",
              "3     2020-02-02             Kerala  ...           0              0\n",
              "4     2020-02-03             Kerala  ...           0              0\n",
              "...          ...                ...  ...         ...            ...\n",
              "3351  2020-06-25             Kerala  ...           0             79\n",
              "3386  2020-06-27             Kerala  ...           0            120\n",
              "3421  2020-06-28             Kerala  ...           0            102\n",
              "3456  2020-06-29             Kerala  ...           0             42\n",
              "3491  2020-06-30             Kerala  ...           0              0\n",
              "\n",
              "[152 rows x 10 columns]"
            ]
          },
          "metadata": {
            "tags": []
          },
          "execution_count": 14
        }
      ]
    },
    {
      "cell_type": "markdown",
      "metadata": {
        "id": "Y2CrFFOyAprS",
        "colab_type": "text"
      },
      "source": [
        "data is updated till 30th june"
      ]
    },
    {
      "cell_type": "code",
      "metadata": {
        "id": "vZuNOlbk_8CK",
        "colab_type": "code",
        "colab": {
          "base_uri": "https://localhost:8080/",
          "height": 143
        },
        "outputId": "1b9c6829-6b63-413a-9506-c40199f0ca68"
      },
      "source": [
        "data_num_india.tail(2)"
      ],
      "execution_count": 15,
      "outputs": [
        {
          "output_type": "execute_result",
          "data": {
            "text/html": [
              "<div>\n",
              "<style scoped>\n",
              "    .dataframe tbody tr th:only-of-type {\n",
              "        vertical-align: middle;\n",
              "    }\n",
              "\n",
              "    .dataframe tbody tr th {\n",
              "        vertical-align: top;\n",
              "    }\n",
              "\n",
              "    .dataframe thead th {\n",
              "        text-align: right;\n",
              "    }\n",
              "</style>\n",
              "<table border=\"1\" class=\"dataframe\">\n",
              "  <thead>\n",
              "    <tr style=\"text-align: right;\">\n",
              "      <th></th>\n",
              "      <th>Total Confirmed cases</th>\n",
              "      <th>Cured/Discharged/Migrated</th>\n",
              "      <th>Death</th>\n",
              "    </tr>\n",
              "    <tr>\n",
              "      <th>Date</th>\n",
              "      <th></th>\n",
              "      <th></th>\n",
              "      <th></th>\n",
              "    </tr>\n",
              "  </thead>\n",
              "  <tbody>\n",
              "    <tr>\n",
              "      <th>2020-06-29</th>\n",
              "      <td>541033</td>\n",
              "      <td>321723</td>\n",
              "      <td>16475</td>\n",
              "    </tr>\n",
              "    <tr>\n",
              "      <th>2020-06-30</th>\n",
              "      <td>559836</td>\n",
              "      <td>334822</td>\n",
              "      <td>16893</td>\n",
              "    </tr>\n",
              "  </tbody>\n",
              "</table>\n",
              "</div>"
            ],
            "text/plain": [
              "            Total Confirmed cases  Cured/Discharged/Migrated  Death\n",
              "Date                                                               \n",
              "2020-06-29                 541033                     321723  16475\n",
              "2020-06-30                 559836                     334822  16893"
            ]
          },
          "metadata": {
            "tags": []
          },
          "execution_count": 15
        }
      ]
    },
    {
      "cell_type": "code",
      "metadata": {
        "id": "T_bYz_0mH1fm",
        "colab_type": "code",
        "colab": {
          "base_uri": "https://localhost:8080/",
          "height": 480
        },
        "outputId": "b1975950-f0b0-4d71-89c4-99812dee7406"
      },
      "source": [
        "data_num_india.plot(figsize=(20,8),title='Per Day statistics for india',colormap='plasma')\n",
        "plt.ylabel('number of cases') \n",
        "plt.show()\n",
        "#https://matplotlib.org/3.1.0/tutorials/colors/colormaps.html"
      ],
      "execution_count": 16,
      "outputs": [
        {
          "output_type": "display_data",
          "data": {
            "image/png": "[encoded data removed]",
            "text/plain": [
              "<Figure size 1440x576 with 1 Axes>"
            ]
          },
          "metadata": {
            "tags": [],
            "needs_background": "light"
          }
        }
      ]
    },
    {
      "cell_type": "code",
      "metadata": {
        "id": "OLg5uuK7ID3u",
        "colab_type": "code",
        "colab": {
          "base_uri": "https://localhost:8080/",
          "height": 480
        },
        "outputId": "cb8eb294-77c1-4e44-cf54-04bafc6c0cc0"
      },
      "source": [
        "data_num_india.plot(figsize=(20,8),title='Per Day statistics for india',colormap='viridis',marker='.')\n",
        "plt.ylabel('number of cases') \n",
        "plt.show()\n",
        "#https://matplotlib.org/3.1.1/api/markers_api.html"
      ],
      "execution_count": 17,
      "outputs": [
        {
          "output_type": "display_data",
          "data": {
            "image/png": "[encoded data removed]",
            "text/plain": [
              "<Figure size 1440x576 with 1 Axes>"
            ]
          },
          "metadata": {
            "tags": [],
            "needs_background": "light"
          }
        }
      ]
    },
    {
      "cell_type": "code",
      "metadata": {
        "id": "CH2wenvhIiA_",
        "colab_type": "code",
        "colab": {
          "base_uri": "https://localhost:8080/",
          "height": 175
        },
        "outputId": "b1fd5ca5-f2a5-4e04-e930-2028032e6804"
      },
      "source": [
        "data_num_india.head(3)\n"
      ],
      "execution_count": 18,
      "outputs": [
        {
          "output_type": "execute_result",
          "data": {
            "text/html": [
              "<div>\n",
              "<style scoped>\n",
              "    .dataframe tbody tr th:only-of-type {\n",
              "        vertical-align: middle;\n",
              "    }\n",
              "\n",
              "    .dataframe tbody tr th {\n",
              "        vertical-align: top;\n",
              "    }\n",
              "\n",
              "    .dataframe thead th {\n",
              "        text-align: right;\n",
              "    }\n",
              "</style>\n",
              "<table border=\"1\" class=\"dataframe\">\n",
              "  <thead>\n",
              "    <tr style=\"text-align: right;\">\n",
              "      <th></th>\n",
              "      <th>Total Confirmed cases</th>\n",
              "      <th>Cured/Discharged/Migrated</th>\n",
              "      <th>Death</th>\n",
              "    </tr>\n",
              "    <tr>\n",
              "      <th>Date</th>\n",
              "      <th></th>\n",
              "      <th></th>\n",
              "      <th></th>\n",
              "    </tr>\n",
              "  </thead>\n",
              "  <tbody>\n",
              "    <tr>\n",
              "      <th>2020-01-30</th>\n",
              "      <td>1</td>\n",
              "      <td>0</td>\n",
              "      <td>0</td>\n",
              "    </tr>\n",
              "    <tr>\n",
              "      <th>2020-01-31</th>\n",
              "      <td>1</td>\n",
              "      <td>0</td>\n",
              "      <td>0</td>\n",
              "    </tr>\n",
              "    <tr>\n",
              "      <th>2020-02-01</th>\n",
              "      <td>2</td>\n",
              "      <td>0</td>\n",
              "      <td>0</td>\n",
              "    </tr>\n",
              "  </tbody>\n",
              "</table>\n",
              "</div>"
            ],
            "text/plain": [
              "            Total Confirmed cases  Cured/Discharged/Migrated  Death\n",
              "Date                                                               \n",
              "2020-01-30                      1                          0      0\n",
              "2020-01-31                      1                          0      0\n",
              "2020-02-01                      2                          0      0"
            ]
          },
          "metadata": {
            "tags": []
          },
          "execution_count": 18
        }
      ]
    },
    {
      "cell_type": "code",
      "metadata": {
        "id": "kOThNnm6J26-",
        "colab_type": "code",
        "colab": {
          "base_uri": "https://localhost:8080/",
          "height": 112
        },
        "outputId": "6f424505-56bf-4e6e-c222-eb3ab69a8961"
      },
      "source": [
        "data_num_india.head(1)"
      ],
      "execution_count": 19,
      "outputs": [
        {
          "output_type": "execute_result",
          "data": {
            "text/html": [
              "<div>\n",
              "<style scoped>\n",
              "    .dataframe tbody tr th:only-of-type {\n",
              "        vertical-align: middle;\n",
              "    }\n",
              "\n",
              "    .dataframe tbody tr th {\n",
              "        vertical-align: top;\n",
              "    }\n",
              "\n",
              "    .dataframe thead th {\n",
              "        text-align: right;\n",
              "    }\n",
              "</style>\n",
              "<table border=\"1\" class=\"dataframe\">\n",
              "  <thead>\n",
              "    <tr style=\"text-align: right;\">\n",
              "      <th></th>\n",
              "      <th>Total Confirmed cases</th>\n",
              "      <th>Cured/Discharged/Migrated</th>\n",
              "      <th>Death</th>\n",
              "    </tr>\n",
              "    <tr>\n",
              "      <th>Date</th>\n",
              "      <th></th>\n",
              "      <th></th>\n",
              "      <th></th>\n",
              "    </tr>\n",
              "  </thead>\n",
              "  <tbody>\n",
              "    <tr>\n",
              "      <th>2020-01-30</th>\n",
              "      <td>1</td>\n",
              "      <td>0</td>\n",
              "      <td>0</td>\n",
              "    </tr>\n",
              "  </tbody>\n",
              "</table>\n",
              "</div>"
            ],
            "text/plain": [
              "            Total Confirmed cases  Cured/Discharged/Migrated  Death\n",
              "Date                                                               \n",
              "2020-01-30                      1                          0      0"
            ]
          },
          "metadata": {
            "tags": []
          },
          "execution_count": 19
        }
      ]
    },
    {
      "cell_type": "code",
      "metadata": {
        "id": "8eOXuZyiJwEZ",
        "colab_type": "code",
        "colab": {}
      },
      "source": [
        "ds = datakerala.iloc[:,0]\n"
      ],
      "execution_count": 20,
      "outputs": []
    },
    {
      "cell_type": "code",
      "metadata": {
        "id": "BjICDyGYO0bm",
        "colab_type": "code",
        "colab": {}
      },
      "source": [
        "ds.reset_index(drop=True, inplace=True)       # used for reseting index very usefull"
      ],
      "execution_count": 21,
      "outputs": []
    },
    {
      "cell_type": "code",
      "metadata": {
        "id": "ayU16s3wLRkf",
        "colab_type": "code",
        "colab": {
          "base_uri": "https://localhost:8080/",
          "height": 235
        },
        "outputId": "01977579-606b-4487-fee7-791546b57a8b"
      },
      "source": [
        "ds"
      ],
      "execution_count": 22,
      "outputs": [
        {
          "output_type": "execute_result",
          "data": {
            "text/plain": [
              "0      2020-01-30\n",
              "1      2020-01-31\n",
              "2      2020-02-01\n",
              "3      2020-02-02\n",
              "4      2020-02-03\n",
              "          ...    \n",
              "147    2020-06-25\n",
              "148    2020-06-27\n",
              "149    2020-06-28\n",
              "150    2020-06-29\n",
              "151    2020-06-30\n",
              "Name: Date, Length: 152, dtype: object"
            ]
          },
          "metadata": {
            "tags": []
          },
          "execution_count": 22
        }
      ]
    },
    {
      "cell_type": "code",
      "metadata": {
        "id": "T2Aa1S1kNxzt",
        "colab_type": "code",
        "colab": {
          "base_uri": "https://localhost:8080/",
          "height": 35
        },
        "outputId": "1975d07e-1dfb-465a-a738-86dd1addeaad"
      },
      "source": [
        "type(ds)"
      ],
      "execution_count": 23,
      "outputs": [
        {
          "output_type": "execute_result",
          "data": {
            "text/plain": [
              "pandas.core.series.Series"
            ]
          },
          "metadata": {
            "tags": []
          },
          "execution_count": 23
        }
      ]
    },
    {
      "cell_type": "code",
      "metadata": {
        "id": "QvSsiG1BKEen",
        "colab_type": "code",
        "colab": {}
      },
      "source": [
        "ya = data_num_india.pop('Total Confirmed cases')\n",
        "ya.reset_index(drop=True, inplace=True)"
      ],
      "execution_count": 24,
      "outputs": []
    },
    {
      "cell_type": "code",
      "metadata": {
        "id": "sv8o7es2LV7t",
        "colab_type": "code",
        "colab": {
          "base_uri": "https://localhost:8080/",
          "height": 235
        },
        "outputId": "91264fe9-d428-44bf-e5dd-452d801740d7"
      },
      "source": [
        "ya\n"
      ],
      "execution_count": 25,
      "outputs": [
        {
          "output_type": "execute_result",
          "data": {
            "text/plain": [
              "0           1\n",
              "1           1\n",
              "2           2\n",
              "3           3\n",
              "4           3\n",
              "        ...  \n",
              "147    464612\n",
              "148    500930\n",
              "149    521020\n",
              "150    541033\n",
              "151    559836\n",
              "Name: Total Confirmed cases, Length: 152, dtype: int64"
            ]
          },
          "metadata": {
            "tags": []
          },
          "execution_count": 25
        }
      ]
    },
    {
      "cell_type": "code",
      "metadata": {
        "id": "ydOGc8E2KTZU",
        "colab_type": "code",
        "colab": {
          "base_uri": "https://localhost:8080/",
          "height": 382
        },
        "outputId": "ed0420e9-671b-4732-ce94-4666c78cb7ad"
      },
      "source": [
        "!pip install fbprophet"
      ],
      "execution_count": 26,
      "outputs": [
        {
          "output_type": "stream",
          "text": [
            "Requirement already satisfied: fbprophet in /usr/local/lib/python3.6/dist-packages (0.6)\n",
            "Requirement already satisfied: Cython>=0.22 in /usr/local/lib/python3.6/dist-packages (from fbprophet) (0.29.21)\n",
            "Requirement already satisfied: cmdstanpy==0.4 in /usr/local/lib/python3.6/dist-packages (from fbprophet) (0.4.0)\n",
            "Requirement already satisfied: pystan>=2.14 in /usr/local/lib/python3.6/dist-packages (from fbprophet) (2.19.1.1)\n",
            "Requirement already satisfied: numpy>=1.10.0 in /usr/local/lib/python3.6/dist-packages (from fbprophet) (1.18.5)\n",
            "Requirement already satisfied: pandas>=0.23.4 in /usr/local/lib/python3.6/dist-packages (from fbprophet) (1.0.5)\n",
            "Requirement already satisfied: matplotlib>=2.0.0 in /usr/local/lib/python3.6/dist-packages (from fbprophet) (3.2.2)\n",
            "Requirement already satisfied: LunarCalendar>=0.0.9 in /usr/local/lib/python3.6/dist-packages (from fbprophet) (0.0.9)\n",
            "Requirement already satisfied: convertdate>=2.1.2 in /usr/local/lib/python3.6/dist-packages (from fbprophet) (2.2.1)\n",
            "Requirement already satisfied: holidays>=0.9.5 in /usr/local/lib/python3.6/dist-packages (from fbprophet) (0.9.12)\n",
            "Requirement already satisfied: setuptools-git>=1.2 in /usr/local/lib/python3.6/dist-packages (from fbprophet) (1.2)\n",
            "Requirement already satisfied: python-dateutil>=2.8.0 in /usr/local/lib/python3.6/dist-packages (from fbprophet) (2.8.1)\n",
            "Requirement already satisfied: pytz>=2017.2 in /usr/local/lib/python3.6/dist-packages (from pandas>=0.23.4->fbprophet) (2018.9)\n",
            "Requirement already satisfied: kiwisolver>=1.0.1 in /usr/local/lib/python3.6/dist-packages (from matplotlib>=2.0.0->fbprophet) (1.2.0)\n",
            "Requirement already satisfied: cycler>=0.10 in /usr/local/lib/python3.6/dist-packages (from matplotlib>=2.0.0->fbprophet) (0.10.0)\n",
            "Requirement already satisfied: pyparsing!=2.0.4,!=2.1.2,!=2.1.6,>=2.0.1 in /usr/local/lib/python3.6/dist-packages (from matplotlib>=2.0.0->fbprophet) (2.4.7)\n",
            "Requirement already satisfied: ephem>=3.7.5.3 in /usr/local/lib/python3.6/dist-packages (from LunarCalendar>=0.0.9->fbprophet) (3.7.7.1)\n",
            "Requirement already satisfied: pymeeus<=1,>=0.3.6 in /usr/local/lib/python3.6/dist-packages (from convertdate>=2.1.2->fbprophet) (0.3.7)\n",
            "Requirement already satisfied: six in /usr/local/lib/python3.6/dist-packages (from holidays>=0.9.5->fbprophet) (1.12.0)\n"
          ],
          "name": "stdout"
        }
      ]
    },
    {
      "cell_type": "code",
      "metadata": {
        "id": "4uyFhIsqKWkF",
        "colab_type": "code",
        "colab": {}
      },
      "source": [
        "from fbprophet import Prophet\n",
        "prophet_basic = Prophet()"
      ],
      "execution_count": 27,
      "outputs": []
    },
    {
      "cell_type": "code",
      "metadata": {
        "id": "YrTHfi6AKbsG",
        "colab_type": "code",
        "colab": {
          "base_uri": "https://localhost:8080/",
          "height": 112
        },
        "outputId": "1ba510a0-cfd0-4934-f71f-bc3fcfe90065"
      },
      "source": [
        "input= pd.DataFrame()\n",
        "input['ds'] = pd.to_datetime(ds)\n",
        "input['y']=ya\n",
        "input.head(2)"
      ],
      "execution_count": 28,
      "outputs": [
        {
          "output_type": "execute_result",
          "data": {
            "text/html": [
              "<div>\n",
              "<style scoped>\n",
              "    .dataframe tbody tr th:only-of-type {\n",
              "        vertical-align: middle;\n",
              "    }\n",
              "\n",
              "    .dataframe tbody tr th {\n",
              "        vertical-align: top;\n",
              "    }\n",
              "\n",
              "    .dataframe thead th {\n",
              "        text-align: right;\n",
              "    }\n",
              "</style>\n",
              "<table border=\"1\" class=\"dataframe\">\n",
              "  <thead>\n",
              "    <tr style=\"text-align: right;\">\n",
              "      <th></th>\n",
              "      <th>ds</th>\n",
              "      <th>y</th>\n",
              "    </tr>\n",
              "  </thead>\n",
              "  <tbody>\n",
              "    <tr>\n",
              "      <th>0</th>\n",
              "      <td>2020-01-30</td>\n",
              "      <td>1</td>\n",
              "    </tr>\n",
              "    <tr>\n",
              "      <th>1</th>\n",
              "      <td>2020-01-31</td>\n",
              "      <td>1</td>\n",
              "    </tr>\n",
              "  </tbody>\n",
              "</table>\n",
              "</div>"
            ],
            "text/plain": [
              "          ds  y\n",
              "0 2020-01-30  1\n",
              "1 2020-01-31  1"
            ]
          },
          "metadata": {
            "tags": []
          },
          "execution_count": 28
        }
      ]
    },
    {
      "cell_type": "code",
      "metadata": {
        "id": "hD_JVioCPd0e",
        "colab_type": "code",
        "colab": {
          "base_uri": "https://localhost:8080/",
          "height": 90
        },
        "outputId": "6f503873-7840-41a5-c2b7-a8c1f5978672"
      },
      "source": [
        "prophet_basic.fit(input)"
      ],
      "execution_count": 29,
      "outputs": [
        {
          "output_type": "stream",
          "text": [
            "INFO:numexpr.utils:NumExpr defaulting to 2 threads.\n",
            "INFO:fbprophet:Disabling yearly seasonality. Run prophet with yearly_seasonality=True to override this.\n",
            "INFO:fbprophet:Disabling daily seasonality. Run prophet with daily_seasonality=True to override this.\n"
          ],
          "name": "stderr"
        },
        {
          "output_type": "execute_result",
          "data": {
            "text/plain": [
              "<fbprophet.forecaster.Prophet at 0x7fddfa909da0>"
            ]
          },
          "metadata": {
            "tags": []
          },
          "execution_count": 29
        }
      ]
    },
    {
      "cell_type": "code",
      "metadata": {
        "id": "mw-ZpLdtHs8l",
        "colab_type": "code",
        "colab": {
          "base_uri": "https://localhost:8080/",
          "height": 424
        },
        "outputId": "913a536c-7f39-4470-9cd4-db2b39b9da2f"
      },
      "source": [
        "input"
      ],
      "execution_count": 30,
      "outputs": [
        {
          "output_type": "execute_result",
          "data": {
            "text/html": [
              "<div>\n",
              "<style scoped>\n",
              "    .dataframe tbody tr th:only-of-type {\n",
              "        vertical-align: middle;\n",
              "    }\n",
              "\n",
              "    .dataframe tbody tr th {\n",
              "        vertical-align: top;\n",
              "    }\n",
              "\n",
              "    .dataframe thead th {\n",
              "        text-align: right;\n",
              "    }\n",
              "</style>\n",
              "<table border=\"1\" class=\"dataframe\">\n",
              "  <thead>\n",
              "    <tr style=\"text-align: right;\">\n",
              "      <th></th>\n",
              "      <th>ds</th>\n",
              "      <th>y</th>\n",
              "    </tr>\n",
              "  </thead>\n",
              "  <tbody>\n",
              "    <tr>\n",
              "      <th>0</th>\n",
              "      <td>2020-01-30</td>\n",
              "      <td>1</td>\n",
              "    </tr>\n",
              "    <tr>\n",
              "      <th>1</th>\n",
              "      <td>2020-01-31</td>\n",
              "      <td>1</td>\n",
              "    </tr>\n",
              "    <tr>\n",
              "      <th>2</th>\n",
              "      <td>2020-02-01</td>\n",
              "      <td>2</td>\n",
              "    </tr>\n",
              "    <tr>\n",
              "      <th>3</th>\n",
              "      <td>2020-02-02</td>\n",
              "      <td>3</td>\n",
              "    </tr>\n",
              "    <tr>\n",
              "      <th>4</th>\n",
              "      <td>2020-02-03</td>\n",
              "      <td>3</td>\n",
              "    </tr>\n",
              "    <tr>\n",
              "      <th>...</th>\n",
              "      <td>...</td>\n",
              "      <td>...</td>\n",
              "    </tr>\n",
              "    <tr>\n",
              "      <th>147</th>\n",
              "      <td>2020-06-25</td>\n",
              "      <td>464612</td>\n",
              "    </tr>\n",
              "    <tr>\n",
              "      <th>148</th>\n",
              "      <td>2020-06-27</td>\n",
              "      <td>500930</td>\n",
              "    </tr>\n",
              "    <tr>\n",
              "      <th>149</th>\n",
              "      <td>2020-06-28</td>\n",
              "      <td>521020</td>\n",
              "    </tr>\n",
              "    <tr>\n",
              "      <th>150</th>\n",
              "      <td>2020-06-29</td>\n",
              "      <td>541033</td>\n",
              "    </tr>\n",
              "    <tr>\n",
              "      <th>151</th>\n",
              "      <td>2020-06-30</td>\n",
              "      <td>559836</td>\n",
              "    </tr>\n",
              "  </tbody>\n",
              "</table>\n",
              "<p>152 rows × 2 columns</p>\n",
              "</div>"
            ],
            "text/plain": [
              "            ds       y\n",
              "0   2020-01-30       1\n",
              "1   2020-01-31       1\n",
              "2   2020-02-01       2\n",
              "3   2020-02-02       3\n",
              "4   2020-02-03       3\n",
              "..         ...     ...\n",
              "147 2020-06-25  464612\n",
              "148 2020-06-27  500930\n",
              "149 2020-06-28  521020\n",
              "150 2020-06-29  541033\n",
              "151 2020-06-30  559836\n",
              "\n",
              "[152 rows x 2 columns]"
            ]
          },
          "metadata": {
            "tags": []
          },
          "execution_count": 30
        }
      ]
    },
    {
      "cell_type": "code",
      "metadata": {
        "id": "1RR6ciPcPhW-",
        "colab_type": "code",
        "colab": {
          "base_uri": "https://localhost:8080/",
          "height": 112
        },
        "outputId": "8c582e87-d5f4-4273-e6c8-21f530c0e1e5"
      },
      "source": [
        "future= prophet_basic.make_future_dataframe(periods=10)\n",
        "future.tail(2)"
      ],
      "execution_count": 31,
      "outputs": [
        {
          "output_type": "execute_result",
          "data": {
            "text/html": [
              "<div>\n",
              "<style scoped>\n",
              "    .dataframe tbody tr th:only-of-type {\n",
              "        vertical-align: middle;\n",
              "    }\n",
              "\n",
              "    .dataframe tbody tr th {\n",
              "        vertical-align: top;\n",
              "    }\n",
              "\n",
              "    .dataframe thead th {\n",
              "        text-align: right;\n",
              "    }\n",
              "</style>\n",
              "<table border=\"1\" class=\"dataframe\">\n",
              "  <thead>\n",
              "    <tr style=\"text-align: right;\">\n",
              "      <th></th>\n",
              "      <th>ds</th>\n",
              "    </tr>\n",
              "  </thead>\n",
              "  <tbody>\n",
              "    <tr>\n",
              "      <th>160</th>\n",
              "      <td>2020-07-09</td>\n",
              "    </tr>\n",
              "    <tr>\n",
              "      <th>161</th>\n",
              "      <td>2020-07-10</td>\n",
              "    </tr>\n",
              "  </tbody>\n",
              "</table>\n",
              "</div>"
            ],
            "text/plain": [
              "            ds\n",
              "160 2020-07-09\n",
              "161 2020-07-10"
            ]
          },
          "metadata": {
            "tags": []
          },
          "execution_count": 31
        }
      ]
    },
    {
      "cell_type": "code",
      "metadata": {
        "id": "V5KK4L3ePquj",
        "colab_type": "code",
        "colab": {}
      },
      "source": [
        "forecast=prophet_basic.predict(future)"
      ],
      "execution_count": 32,
      "outputs": []
    },
    {
      "cell_type": "code",
      "metadata": {
        "id": "uYZdP7swPuhE",
        "colab_type": "code",
        "colab": {
          "base_uri": "https://localhost:8080/",
          "height": 441
        },
        "outputId": "f8b0e44d-f464-4728-b595-8a2cdd13fb21"
      },
      "source": [
        "from fbprophet.plot import plot_plotly\n",
        "fig1 =prophet_basic.plot(forecast)"
      ],
      "execution_count": 33,
      "outputs": [
        {
          "output_type": "display_data",
          "data": {
            "image/png": "[encoded data removed]",
            "text/plain": [
              "<Figure size 720x432 with 1 Axes>"
            ]
          },
          "metadata": {
            "tags": []
          }
        }
      ]
    },
    {
      "cell_type": "code",
      "metadata": {
        "id": "PfNxUyxRQGVU",
        "colab_type": "code",
        "colab": {}
      },
      "source": [
        "predictions=forecast.tail(10)"
      ],
      "execution_count": 34,
      "outputs": []
    },
    {
      "cell_type": "code",
      "metadata": {
        "id": "Dty5qhxKSx3Y",
        "colab_type": "code",
        "colab": {
          "base_uri": "https://localhost:8080/",
          "height": 226
        },
        "outputId": "d6c148d2-2c05-4db9-ac72-c436d0018d37"
      },
      "source": [
        "predictions.round(0).head(5)"
      ],
      "execution_count": 35,
      "outputs": [
        {
          "output_type": "execute_result",
          "data": {
            "text/html": [
              "<div>\n",
              "<style scoped>\n",
              "    .dataframe tbody tr th:only-of-type {\n",
              "        vertical-align: middle;\n",
              "    }\n",
              "\n",
              "    .dataframe tbody tr th {\n",
              "        vertical-align: top;\n",
              "    }\n",
              "\n",
              "    .dataframe thead th {\n",
              "        text-align: right;\n",
              "    }\n",
              "</style>\n",
              "<table border=\"1\" class=\"dataframe\">\n",
              "  <thead>\n",
              "    <tr style=\"text-align: right;\">\n",
              "      <th></th>\n",
              "      <th>ds</th>\n",
              "      <th>trend</th>\n",
              "      <th>yhat_lower</th>\n",
              "      <th>yhat_upper</th>\n",
              "      <th>trend_lower</th>\n",
              "      <th>trend_upper</th>\n",
              "      <th>additive_terms</th>\n",
              "      <th>additive_terms_lower</th>\n",
              "      <th>additive_terms_upper</th>\n",
              "      <th>weekly</th>\n",
              "      <th>weekly_lower</th>\n",
              "      <th>weekly_upper</th>\n",
              "      <th>multiplicative_terms</th>\n",
              "      <th>multiplicative_terms_lower</th>\n",
              "      <th>multiplicative_terms_upper</th>\n",
              "      <th>yhat</th>\n",
              "    </tr>\n",
              "  </thead>\n",
              "  <tbody>\n",
              "    <tr>\n",
              "      <th>152</th>\n",
              "      <td>2020-07-01</td>\n",
              "      <td>527270.0</td>\n",
              "      <td>516833.0</td>\n",
              "      <td>536723.0</td>\n",
              "      <td>527270.0</td>\n",
              "      <td>527270.0</td>\n",
              "      <td>-920.0</td>\n",
              "      <td>-920.0</td>\n",
              "      <td>-920.0</td>\n",
              "      <td>-920.0</td>\n",
              "      <td>-920.0</td>\n",
              "      <td>-920.0</td>\n",
              "      <td>0.0</td>\n",
              "      <td>0.0</td>\n",
              "      <td>0.0</td>\n",
              "      <td>526349.0</td>\n",
              "    </tr>\n",
              "    <tr>\n",
              "      <th>153</th>\n",
              "      <td>2020-07-02</td>\n",
              "      <td>538915.0</td>\n",
              "      <td>528417.0</td>\n",
              "      <td>547810.0</td>\n",
              "      <td>538775.0</td>\n",
              "      <td>539106.0</td>\n",
              "      <td>-681.0</td>\n",
              "      <td>-681.0</td>\n",
              "      <td>-681.0</td>\n",
              "      <td>-681.0</td>\n",
              "      <td>-681.0</td>\n",
              "      <td>-681.0</td>\n",
              "      <td>0.0</td>\n",
              "      <td>0.0</td>\n",
              "      <td>0.0</td>\n",
              "      <td>538234.0</td>\n",
              "    </tr>\n",
              "    <tr>\n",
              "      <th>154</th>\n",
              "      <td>2020-07-03</td>\n",
              "      <td>550560.0</td>\n",
              "      <td>539753.0</td>\n",
              "      <td>560383.0</td>\n",
              "      <td>550112.0</td>\n",
              "      <td>551031.0</td>\n",
              "      <td>-906.0</td>\n",
              "      <td>-906.0</td>\n",
              "      <td>-906.0</td>\n",
              "      <td>-906.0</td>\n",
              "      <td>-906.0</td>\n",
              "      <td>-906.0</td>\n",
              "      <td>0.0</td>\n",
              "      <td>0.0</td>\n",
              "      <td>0.0</td>\n",
              "      <td>549654.0</td>\n",
              "    </tr>\n",
              "    <tr>\n",
              "      <th>155</th>\n",
              "      <td>2020-07-04</td>\n",
              "      <td>562205.0</td>\n",
              "      <td>552411.0</td>\n",
              "      <td>573275.0</td>\n",
              "      <td>561322.0</td>\n",
              "      <td>563251.0</td>\n",
              "      <td>-69.0</td>\n",
              "      <td>-69.0</td>\n",
              "      <td>-69.0</td>\n",
              "      <td>-69.0</td>\n",
              "      <td>-69.0</td>\n",
              "      <td>-69.0</td>\n",
              "      <td>0.0</td>\n",
              "      <td>0.0</td>\n",
              "      <td>0.0</td>\n",
              "      <td>562136.0</td>\n",
              "    </tr>\n",
              "    <tr>\n",
              "      <th>156</th>\n",
              "      <td>2020-07-05</td>\n",
              "      <td>573850.0</td>\n",
              "      <td>564004.0</td>\n",
              "      <td>584342.0</td>\n",
              "      <td>572412.0</td>\n",
              "      <td>575446.0</td>\n",
              "      <td>402.0</td>\n",
              "      <td>402.0</td>\n",
              "      <td>402.0</td>\n",
              "      <td>402.0</td>\n",
              "      <td>402.0</td>\n",
              "      <td>402.0</td>\n",
              "      <td>0.0</td>\n",
              "      <td>0.0</td>\n",
              "      <td>0.0</td>\n",
              "      <td>574252.0</td>\n",
              "    </tr>\n",
              "  </tbody>\n",
              "</table>\n",
              "</div>"
            ],
            "text/plain": [
              "            ds     trend  ...  multiplicative_terms_upper      yhat\n",
              "152 2020-07-01  527270.0  ...                         0.0  526349.0\n",
              "153 2020-07-02  538915.0  ...                         0.0  538234.0\n",
              "154 2020-07-03  550560.0  ...                         0.0  549654.0\n",
              "155 2020-07-04  562205.0  ...                         0.0  562136.0\n",
              "156 2020-07-05  573850.0  ...                         0.0  574252.0\n",
              "\n",
              "[5 rows x 16 columns]"
            ]
          },
          "metadata": {
            "tags": []
          },
          "execution_count": 35
        }
      ]
    },
    {
      "cell_type": "code",
      "metadata": {
        "id": "L03H1BL8Gx8i",
        "colab_type": "code",
        "colab": {
          "base_uri": "https://localhost:8080/",
          "height": 161
        },
        "outputId": "4a2041ad-4c21-4a1f-8c99-8ed62ff3d75a"
      },
      "source": [
        "from fbprophet.diagnostics import performance_metrics\n",
        "from fbprophet.diagnostics import cross_validation\n",
        "df_cv = cross_validation(prophet_basic, initial='70 days', period='40 days', horizon = '3 days')\n",
        "df_cv.head()\n",
        "df_p = performance_metrics(df_cv)\n",
        "df_p.head()"
      ],
      "execution_count": 36,
      "outputs": [
        {
          "output_type": "stream",
          "text": [
            "INFO:fbprophet:Making 2 forecasts with cutoffs between 2020-05-18 00:00:00 and 2020-06-27 00:00:00\n"
          ],
          "name": "stderr"
        },
        {
          "output_type": "execute_result",
          "data": {
            "text/html": [
              "<div>\n",
              "<style scoped>\n",
              "    .dataframe tbody tr th:only-of-type {\n",
              "        vertical-align: middle;\n",
              "    }\n",
              "\n",
              "    .dataframe tbody tr th {\n",
              "        vertical-align: top;\n",
              "    }\n",
              "\n",
              "    .dataframe thead th {\n",
              "        text-align: right;\n",
              "    }\n",
              "</style>\n",
              "<table border=\"1\" class=\"dataframe\">\n",
              "  <thead>\n",
              "    <tr style=\"text-align: right;\">\n",
              "      <th></th>\n",
              "      <th>horizon</th>\n",
              "      <th>mse</th>\n",
              "      <th>rmse</th>\n",
              "      <th>mae</th>\n",
              "      <th>mape</th>\n",
              "      <th>mdape</th>\n",
              "      <th>coverage</th>\n",
              "    </tr>\n",
              "  </thead>\n",
              "  <tbody>\n",
              "    <tr>\n",
              "      <th>0</th>\n",
              "      <td>1 days</td>\n",
              "      <td>1.191418e+09</td>\n",
              "      <td>34516.923368</td>\n",
              "      <td>28298.800414</td>\n",
              "      <td>0.088662</td>\n",
              "      <td>0.088662</td>\n",
              "      <td>0.0</td>\n",
              "    </tr>\n",
              "    <tr>\n",
              "      <th>1</th>\n",
              "      <td>2 days</td>\n",
              "      <td>1.686173e+09</td>\n",
              "      <td>41063.037718</td>\n",
              "      <td>33959.711688</td>\n",
              "      <td>0.104183</td>\n",
              "      <td>0.104183</td>\n",
              "      <td>0.0</td>\n",
              "    </tr>\n",
              "    <tr>\n",
              "      <th>2</th>\n",
              "      <td>3 days</td>\n",
              "      <td>2.204492e+09</td>\n",
              "      <td>46952.021017</td>\n",
              "      <td>39115.629376</td>\n",
              "      <td>0.117366</td>\n",
              "      <td>0.117366</td>\n",
              "      <td>0.0</td>\n",
              "    </tr>\n",
              "  </tbody>\n",
              "</table>\n",
              "</div>"
            ],
            "text/plain": [
              "  horizon           mse          rmse  ...      mape     mdape  coverage\n",
              "0  1 days  1.191418e+09  34516.923368  ...  0.088662  0.088662       0.0\n",
              "1  2 days  1.686173e+09  41063.037718  ...  0.104183  0.104183       0.0\n",
              "2  3 days  2.204492e+09  46952.021017  ...  0.117366  0.117366       0.0\n",
              "\n",
              "[3 rows x 7 columns]"
            ]
          },
          "metadata": {
            "tags": []
          },
          "execution_count": 36
        }
      ]
    },
    {
      "cell_type": "markdown",
      "metadata": {
        "id": "-9mWAp4DS8Ts",
        "colab_type": "text"
      },
      "source": [
        "**Prediction usingusing ARIMA**"
      ]
    },
    {
      "cell_type": "code",
      "metadata": {
        "id": "13NaZjkpQaTX",
        "colab_type": "code",
        "colab": {
          "base_uri": "https://localhost:8080/",
          "height": 424
        },
        "outputId": "cc5d03d6-6f29-4108-ba2d-e8a87ed42998"
      },
      "source": [
        "input"
      ],
      "execution_count": 37,
      "outputs": [
        {
          "output_type": "execute_result",
          "data": {
            "text/html": [
              "<div>\n",
              "<style scoped>\n",
              "    .dataframe tbody tr th:only-of-type {\n",
              "        vertical-align: middle;\n",
              "    }\n",
              "\n",
              "    .dataframe tbody tr th {\n",
              "        vertical-align: top;\n",
              "    }\n",
              "\n",
              "    .dataframe thead th {\n",
              "        text-align: right;\n",
              "    }\n",
              "</style>\n",
              "<table border=\"1\" class=\"dataframe\">\n",
              "  <thead>\n",
              "    <tr style=\"text-align: right;\">\n",
              "      <th></th>\n",
              "      <th>ds</th>\n",
              "      <th>y</th>\n",
              "    </tr>\n",
              "  </thead>\n",
              "  <tbody>\n",
              "    <tr>\n",
              "      <th>0</th>\n",
              "      <td>2020-01-30</td>\n",
              "      <td>1</td>\n",
              "    </tr>\n",
              "    <tr>\n",
              "      <th>1</th>\n",
              "      <td>2020-01-31</td>\n",
              "      <td>1</td>\n",
              "    </tr>\n",
              "    <tr>\n",
              "      <th>2</th>\n",
              "      <td>2020-02-01</td>\n",
              "      <td>2</td>\n",
              "    </tr>\n",
              "    <tr>\n",
              "      <th>3</th>\n",
              "      <td>2020-02-02</td>\n",
              "      <td>3</td>\n",
              "    </tr>\n",
              "    <tr>\n",
              "      <th>4</th>\n",
              "      <td>2020-02-03</td>\n",
              "      <td>3</td>\n",
              "    </tr>\n",
              "    <tr>\n",
              "      <th>...</th>\n",
              "      <td>...</td>\n",
              "      <td>...</td>\n",
              "    </tr>\n",
              "    <tr>\n",
              "      <th>147</th>\n",
              "      <td>2020-06-25</td>\n",
              "      <td>464612</td>\n",
              "    </tr>\n",
              "    <tr>\n",
              "      <th>148</th>\n",
              "      <td>2020-06-27</td>\n",
              "      <td>500930</td>\n",
              "    </tr>\n",
              "    <tr>\n",
              "      <th>149</th>\n",
              "      <td>2020-06-28</td>\n",
              "      <td>521020</td>\n",
              "    </tr>\n",
              "    <tr>\n",
              "      <th>150</th>\n",
              "      <td>2020-06-29</td>\n",
              "      <td>541033</td>\n",
              "    </tr>\n",
              "    <tr>\n",
              "      <th>151</th>\n",
              "      <td>2020-06-30</td>\n",
              "      <td>559836</td>\n",
              "    </tr>\n",
              "  </tbody>\n",
              "</table>\n",
              "<p>152 rows × 2 columns</p>\n",
              "</div>"
            ],
            "text/plain": [
              "            ds       y\n",
              "0   2020-01-30       1\n",
              "1   2020-01-31       1\n",
              "2   2020-02-01       2\n",
              "3   2020-02-02       3\n",
              "4   2020-02-03       3\n",
              "..         ...     ...\n",
              "147 2020-06-25  464612\n",
              "148 2020-06-27  500930\n",
              "149 2020-06-28  521020\n",
              "150 2020-06-29  541033\n",
              "151 2020-06-30  559836\n",
              "\n",
              "[152 rows x 2 columns]"
            ]
          },
          "metadata": {
            "tags": []
          },
          "execution_count": 37
        }
      ]
    },
    {
      "cell_type": "code",
      "metadata": {
        "id": "QQEUULZHHKtq",
        "colab_type": "code",
        "colab": {
          "base_uri": "https://localhost:8080/",
          "height": 677
        },
        "outputId": "fa33cd8c-7a39-457f-fd84-113f0e6f6013"
      },
      "source": [
        "from statsmodels.tsa.arima_model import ARIMA\n",
        "import datetime\n",
        "arima = ARIMA(input['y'], order=(3, 1, 0))\n",
        "arima = arima.fit(trend='nc', full_output=True, disp=True)\n",
        "forecast = arima.forecast(steps= 10)\n",
        "pred = list(forecast[0])\n",
        "start_date = input['ds'].max()\n",
        "prediction_dates = []\n",
        "for i in range(10):\n",
        "    date = start_date + datetime.timedelta(days=1)\n",
        "    prediction_dates.append(date)\n",
        "    start_date = date\n",
        "\n",
        "#all bellow stuff related to drawing graph   \n",
        "plt.figure(figsize= (20,10))\n",
        "plt.xlabel(\"Dates\",fontsize = 10)\n",
        "plt.ylabel('Total cases',fontsize = 10)\n",
        "plt.title(\"Predicted Values for the next 10 Days\" , fontsize = 20)\n",
        "\n",
        "plt.plot_date(y= pred,x= prediction_dates,linestyle ='dashed',color = 'blue',label = 'Predicted')\n",
        "plt.plot_date(y=input['y'].tail(15),x=input['ds'].tail(15),linestyle = '-',color = 'orange',label = 'Actual')"
      ],
      "execution_count": 38,
      "outputs": [
        {
          "output_type": "stream",
          "text": [
            "/usr/local/lib/python3.6/dist-packages/statsmodels/tools/_testing.py:19: FutureWarning:\n",
            "\n",
            "pandas.util.testing is deprecated. Use the functions in the public API at pandas.testing instead.\n",
            "\n"
          ],
          "name": "stderr"
        },
        {
          "output_type": "execute_result",
          "data": {
            "text/plain": [
              "[<matplotlib.lines.Line2D at 0x7fddebd11400>]"
            ]
          },
          "metadata": {
            "tags": []
          },
          "execution_count": 38
        },
        {
          "output_type": "display_data",
          "data": {
            "image/png": "[encoded data removed]",
            "text/plain": [
              "<Figure size 1440x720 with 1 Axes>"
            ]
          },
          "metadata": {
            "tags": [],
            "needs_background": "light"
          }
        }
      ]
    },
    {
      "cell_type": "code",
      "metadata": {
        "id": "pQ2-WvTCJKcS",
        "colab_type": "code",
        "colab": {
          "base_uri": "https://localhost:8080/",
          "height": 363
        },
        "outputId": "15d82a6d-c3dd-4671-b47c-4127b1746ad4"
      },
      "source": [
        "pred=pd.DataFrame(forecast[0],columns=['Predicted'])\n",
        "dates=pd.DataFrame(prediction_dates,columns=['Date'])\n",
        "arima_df=pd.merge(dates,pred,right_index=True,left_index=True)\n",
        "arima_df.tail(30)"
      ],
      "execution_count": 39,
      "outputs": [
        {
          "output_type": "execute_result",
          "data": {
            "text/html": [
              "<div>\n",
              "<style scoped>\n",
              "    .dataframe tbody tr th:only-of-type {\n",
              "        vertical-align: middle;\n",
              "    }\n",
              "\n",
              "    .dataframe tbody tr th {\n",
              "        vertical-align: top;\n",
              "    }\n",
              "\n",
              "    .dataframe thead th {\n",
              "        text-align: right;\n",
              "    }\n",
              "</style>\n",
              "<table border=\"1\" class=\"dataframe\">\n",
              "  <thead>\n",
              "    <tr style=\"text-align: right;\">\n",
              "      <th></th>\n",
              "      <th>Date</th>\n",
              "      <th>Predicted</th>\n",
              "    </tr>\n",
              "  </thead>\n",
              "  <tbody>\n",
              "    <tr>\n",
              "      <th>0</th>\n",
              "      <td>2020-07-01</td>\n",
              "      <td>579124.049202</td>\n",
              "    </tr>\n",
              "    <tr>\n",
              "      <th>1</th>\n",
              "      <td>2020-07-02</td>\n",
              "      <td>598231.593492</td>\n",
              "    </tr>\n",
              "    <tr>\n",
              "      <th>2</th>\n",
              "      <td>2020-07-03</td>\n",
              "      <td>617179.415582</td>\n",
              "    </tr>\n",
              "    <tr>\n",
              "      <th>3</th>\n",
              "      <td>2020-07-04</td>\n",
              "      <td>636086.084522</td>\n",
              "    </tr>\n",
              "    <tr>\n",
              "      <th>4</th>\n",
              "      <td>2020-07-05</td>\n",
              "      <td>654886.432598</td>\n",
              "    </tr>\n",
              "    <tr>\n",
              "      <th>5</th>\n",
              "      <td>2020-07-06</td>\n",
              "      <td>673592.354674</td>\n",
              "    </tr>\n",
              "    <tr>\n",
              "      <th>6</th>\n",
              "      <td>2020-07-07</td>\n",
              "      <td>692211.005027</td>\n",
              "    </tr>\n",
              "    <tr>\n",
              "      <th>7</th>\n",
              "      <td>2020-07-08</td>\n",
              "      <td>710737.115189</td>\n",
              "    </tr>\n",
              "    <tr>\n",
              "      <th>8</th>\n",
              "      <td>2020-07-09</td>\n",
              "      <td>729172.817712</td>\n",
              "    </tr>\n",
              "    <tr>\n",
              "      <th>9</th>\n",
              "      <td>2020-07-10</td>\n",
              "      <td>747518.776944</td>\n",
              "    </tr>\n",
              "  </tbody>\n",
              "</table>\n",
              "</div>"
            ],
            "text/plain": [
              "        Date      Predicted\n",
              "0 2020-07-01  579124.049202\n",
              "1 2020-07-02  598231.593492\n",
              "2 2020-07-03  617179.415582\n",
              "3 2020-07-04  636086.084522\n",
              "4 2020-07-05  654886.432598\n",
              "5 2020-07-06  673592.354674\n",
              "6 2020-07-07  692211.005027\n",
              "7 2020-07-08  710737.115189\n",
              "8 2020-07-09  729172.817712\n",
              "9 2020-07-10  747518.776944"
            ]
          },
          "metadata": {
            "tags": []
          },
          "execution_count": 39
        }
      ]
    },
    {
      "cell_type": "code",
      "metadata": {
        "id": "r_YHaW1DU8Nl",
        "colab_type": "code",
        "colab": {}
      },
      "source": [
        ""
      ],
      "execution_count": 39,
      "outputs": []
    },
    {
      "cell_type": "markdown",
      "metadata": {
        "id": "ZRCbAilKU9L6",
        "colab_type": "text"
      },
      "source": [
        "**using LSTM deep learning**"
      ]
    },
    {
      "cell_type": "code",
      "metadata": {
        "id": "QJbCiiETVEP7",
        "colab_type": "code",
        "colab": {
          "base_uri": "https://localhost:8080/",
          "height": 424
        },
        "outputId": "f834384e-35fe-42eb-afbf-7ba5277f5241"
      },
      "source": [
        "input"
      ],
      "execution_count": 40,
      "outputs": [
        {
          "output_type": "execute_result",
          "data": {
            "text/html": [
              "<div>\n",
              "<style scoped>\n",
              "    .dataframe tbody tr th:only-of-type {\n",
              "        vertical-align: middle;\n",
              "    }\n",
              "\n",
              "    .dataframe tbody tr th {\n",
              "        vertical-align: top;\n",
              "    }\n",
              "\n",
              "    .dataframe thead th {\n",
              "        text-align: right;\n",
              "    }\n",
              "</style>\n",
              "<table border=\"1\" class=\"dataframe\">\n",
              "  <thead>\n",
              "    <tr style=\"text-align: right;\">\n",
              "      <th></th>\n",
              "      <th>ds</th>\n",
              "      <th>y</th>\n",
              "    </tr>\n",
              "  </thead>\n",
              "  <tbody>\n",
              "    <tr>\n",
              "      <th>0</th>\n",
              "      <td>2020-01-30</td>\n",
              "      <td>1</td>\n",
              "    </tr>\n",
              "    <tr>\n",
              "      <th>1</th>\n",
              "      <td>2020-01-31</td>\n",
              "      <td>1</td>\n",
              "    </tr>\n",
              "    <tr>\n",
              "      <th>2</th>\n",
              "      <td>2020-02-01</td>\n",
              "      <td>2</td>\n",
              "    </tr>\n",
              "    <tr>\n",
              "      <th>3</th>\n",
              "      <td>2020-02-02</td>\n",
              "      <td>3</td>\n",
              "    </tr>\n",
              "    <tr>\n",
              "      <th>4</th>\n",
              "      <td>2020-02-03</td>\n",
              "      <td>3</td>\n",
              "    </tr>\n",
              "    <tr>\n",
              "      <th>...</th>\n",
              "      <td>...</td>\n",
              "      <td>...</td>\n",
              "    </tr>\n",
              "    <tr>\n",
              "      <th>147</th>\n",
              "      <td>2020-06-25</td>\n",
              "      <td>464612</td>\n",
              "    </tr>\n",
              "    <tr>\n",
              "      <th>148</th>\n",
              "      <td>2020-06-27</td>\n",
              "      <td>500930</td>\n",
              "    </tr>\n",
              "    <tr>\n",
              "      <th>149</th>\n",
              "      <td>2020-06-28</td>\n",
              "      <td>521020</td>\n",
              "    </tr>\n",
              "    <tr>\n",
              "      <th>150</th>\n",
              "      <td>2020-06-29</td>\n",
              "      <td>541033</td>\n",
              "    </tr>\n",
              "    <tr>\n",
              "      <th>151</th>\n",
              "      <td>2020-06-30</td>\n",
              "      <td>559836</td>\n",
              "    </tr>\n",
              "  </tbody>\n",
              "</table>\n",
              "<p>152 rows × 2 columns</p>\n",
              "</div>"
            ],
            "text/plain": [
              "            ds       y\n",
              "0   2020-01-30       1\n",
              "1   2020-01-31       1\n",
              "2   2020-02-01       2\n",
              "3   2020-02-02       3\n",
              "4   2020-02-03       3\n",
              "..         ...     ...\n",
              "147 2020-06-25  464612\n",
              "148 2020-06-27  500930\n",
              "149 2020-06-28  521020\n",
              "150 2020-06-29  541033\n",
              "151 2020-06-30  559836\n",
              "\n",
              "[152 rows x 2 columns]"
            ]
          },
          "metadata": {
            "tags": []
          },
          "execution_count": 40
        }
      ]
    },
    {
      "cell_type": "code",
      "metadata": {
        "id": "y0AB_DF7VIhj",
        "colab_type": "code",
        "colab": {}
      },
      "source": [
        "df1 = input['y']"
      ],
      "execution_count": 41,
      "outputs": []
    },
    {
      "cell_type": "code",
      "metadata": {
        "id": "wgsMDFYDY11a",
        "colab_type": "code",
        "colab": {
          "base_uri": "https://localhost:8080/",
          "height": 235
        },
        "outputId": "9142900d-4634-4da1-d0aa-86364dfa15a2"
      },
      "source": [
        "df1"
      ],
      "execution_count": 42,
      "outputs": [
        {
          "output_type": "execute_result",
          "data": {
            "text/plain": [
              "0           1\n",
              "1           1\n",
              "2           2\n",
              "3           3\n",
              "4           3\n",
              "        ...  \n",
              "147    464612\n",
              "148    500930\n",
              "149    521020\n",
              "150    541033\n",
              "151    559836\n",
              "Name: y, Length: 152, dtype: int64"
            ]
          },
          "metadata": {
            "tags": []
          },
          "execution_count": 42
        }
      ]
    },
    {
      "cell_type": "code",
      "metadata": {
        "id": "lzATUKucYoI7",
        "colab_type": "code",
        "colab": {}
      },
      "source": [
        "#df1 = df.iloc[100:150]         #################################################   not this issue may be"
      ],
      "execution_count": 43,
      "outputs": []
    },
    {
      "cell_type": "code",
      "metadata": {
        "id": "yPWCBkJlZR0X",
        "colab_type": "code",
        "colab": {}
      },
      "source": [
        "#df1.reset_index(drop=True, inplace=True)"
      ],
      "execution_count": 44,
      "outputs": []
    },
    {
      "cell_type": "code",
      "metadata": {
        "id": "xwMjYzcPVUQh",
        "colab_type": "code",
        "colab": {
          "base_uri": "https://localhost:8080/",
          "height": 280
        },
        "outputId": "f3cf13b0-1d63-41f3-9bcd-5e8e65cd0f32"
      },
      "source": [
        "import matplotlib.pyplot as plt\n",
        "plt.figure(figsize=(20,4))   \n",
        "plt.ylabel('number of cases') \n",
        "plt.xlabel('Days')         \n",
        "plt.plot(df1)\n",
        "#https://matplotlib.org/3.2.2/api/_as_gen/matplotlib.pyplot.plot.html"
      ],
      "execution_count": 45,
      "outputs": [
        {
          "output_type": "execute_result",
          "data": {
            "text/plain": [
              "[<matplotlib.lines.Line2D at 0x7fdde9488c18>]"
            ]
          },
          "metadata": {
            "tags": []
          },
          "execution_count": 45
        },
        {
          "output_type": "display_data",
          "data": {
            "image/png": "[encoded data removed]",
            "text/plain": [
              "<Figure size 1440x288 with 1 Axes>"
            ]
          },
          "metadata": {
            "tags": [],
            "needs_background": "light"
          }
        }
      ]
    },
    {
      "cell_type": "code",
      "metadata": {
        "id": "g3wH79ygXvq7",
        "colab_type": "code",
        "colab": {}
      },
      "source": [
        "from sklearn.preprocessing import MinMaxScaler\n",
        "scaler=MinMaxScaler()\n",
        "df1=scaler.fit_transform(np.array(df1).reshape(-1,1))"
      ],
      "execution_count": 46,
      "outputs": []
    },
    {
      "cell_type": "code",
      "metadata": {
        "id": "VKgB1ZtMVhgK",
        "colab_type": "code",
        "colab": {}
      },
      "source": [
        "##splitting dataset into train and test split\n",
        "training_size=int(len(df1)*0.65)\n",
        "test_size=len(df1)-training_size\n",
        "train_data,test_data=df1[0:training_size,:],df1[training_size:len(df1),:1]"
      ],
      "execution_count": 47,
      "outputs": []
    },
    {
      "cell_type": "code",
      "metadata": {
        "id": "s9VM4xvyWNny",
        "colab_type": "code",
        "colab": {
          "base_uri": "https://localhost:8080/",
          "height": 35
        },
        "outputId": "cc3be2cb-1640-4765-a9c8-c663c7a641dc"
      },
      "source": [
        "training_size,test_size"
      ],
      "execution_count": 48,
      "outputs": [
        {
          "output_type": "execute_result",
          "data": {
            "text/plain": [
              "(98, 54)"
            ]
          },
          "metadata": {
            "tags": []
          },
          "execution_count": 48
        }
      ]
    },
    {
      "cell_type": "code",
      "metadata": {
        "id": "qPyxgsi8V4-r",
        "colab_type": "code",
        "colab": {
          "base_uri": "https://localhost:8080/",
          "height": 1000
        },
        "outputId": "93f254fc-6b39-4c41-d3f5-1deaa1f4334b"
      },
      "source": [
        "train_data"
      ],
      "execution_count": 49,
      "outputs": [
        {
          "output_type": "execute_result",
          "data": {
            "text/plain": [
              "array([[0.00000000e+00],\n",
              "       [0.00000000e+00],\n",
              "       [1.78624059e-06],\n",
              "       [3.57248118e-06],\n",
              "       [3.57248118e-06],\n",
              "       [3.57248118e-06],\n",
              "       [3.57248118e-06],\n",
              "       [3.57248118e-06],\n",
              "       [3.57248118e-06],\n",
              "       [3.57248118e-06],\n",
              "       [3.57248118e-06],\n",
              "       [3.57248118e-06],\n",
              "       [3.57248118e-06],\n",
              "       [3.57248118e-06],\n",
              "       [3.57248118e-06],\n",
              "       [3.57248118e-06],\n",
              "       [3.57248118e-06],\n",
              "       [3.57248118e-06],\n",
              "       [3.57248118e-06],\n",
              "       [3.57248118e-06],\n",
              "       [3.57248118e-06],\n",
              "       [3.57248118e-06],\n",
              "       [3.57248118e-06],\n",
              "       [3.57248118e-06],\n",
              "       [3.57248118e-06],\n",
              "       [3.57248118e-06],\n",
              "       [3.57248118e-06],\n",
              "       [3.57248118e-06],\n",
              "       [3.57248118e-06],\n",
              "       [3.57248118e-06],\n",
              "       [3.57248118e-06],\n",
              "       [3.57248118e-06],\n",
              "       [7.14496235e-06],\n",
              "       [7.14496235e-06],\n",
              "       [4.46560147e-05],\n",
              "       [4.82284959e-05],\n",
              "       [5.00147365e-05],\n",
              "       [5.53734583e-05],\n",
              "       [6.43046612e-05],\n",
              "       [7.68083453e-05],\n",
              "       [9.82432324e-05],\n",
              "       [1.19678119e-04],\n",
              "       [1.30395563e-04],\n",
              "       [1.32181804e-04],\n",
              "       [1.48257969e-04],\n",
              "       [1.96486465e-04],\n",
              "       [2.01845187e-04],\n",
              "       [2.42928720e-04],\n",
              "       [2.67936088e-04],\n",
              "       [3.07233381e-04],\n",
              "       [3.46530674e-04],\n",
              "       [5.03719846e-04],\n",
              "       [6.41260371e-04],\n",
              "       [7.71655934e-04],\n",
              "       [9.25272625e-04],\n",
              "       [1.08067556e-03],\n",
              "       [1.23786473e-03],\n",
              "       [1.29145195e-03],\n",
              "       [1.62190645e-03],\n",
              "       [1.74872954e-03],\n",
              "       [1.91127743e-03],\n",
              "       [2.42571472e-03],\n",
              "       [3.20808810e-03],\n",
              "       [3.44208561e-03],\n",
              "       [4.07620102e-03],\n",
              "       [5.19260139e-03],\n",
              "       [6.02498951e-03],\n",
              "       [7.26285423e-03],\n",
              "       [7.89518340e-03],\n",
              "       [9.27594738e-03],\n",
              "       [1.02405173e-02],\n",
              "       [1.14515884e-02],\n",
              "       [1.33003474e-02],\n",
              "       [1.49240401e-02],\n",
              "       [1.63458876e-02],\n",
              "       [1.92967571e-02],\n",
              "       [2.04310199e-02],\n",
              "       [2.21118722e-02],\n",
              "       [2.47108523e-02],\n",
              "       [2.56807809e-02],\n",
              "       [2.80636259e-02],\n",
              "       [3.08376575e-02],\n",
              "       [3.32240750e-02],\n",
              "       [3.56944457e-02],\n",
              "       [3.82112587e-02],\n",
              "       [4.12192878e-02],\n",
              "       [4.37718256e-02],\n",
              "       [4.74157564e-02],\n",
              "       [4.98200363e-02],\n",
              "       [5.25762055e-02],\n",
              "       [5.59647039e-02],\n",
              "       [5.90334652e-02],\n",
              "       [6.20736467e-02],\n",
              "       [6.63695553e-02],\n",
              "       [7.11906187e-02],\n",
              "       [7.59723847e-02],\n",
              "       [8.29387230e-02],\n",
              "       [8.82224227e-02]])"
            ]
          },
          "metadata": {
            "tags": []
          },
          "execution_count": 49
        }
      ]
    },
    {
      "cell_type": "code",
      "metadata": {
        "id": "jDS_2CCMacu6",
        "colab_type": "code",
        "colab": {}
      },
      "source": [
        ""
      ],
      "execution_count": 49,
      "outputs": []
    },
    {
      "cell_type": "code",
      "metadata": {
        "id": "ejs0zJBDVnc5",
        "colab_type": "code",
        "colab": {}
      },
      "source": [
        "import numpy\n",
        "# convert an array of values into a dataset matrix\n",
        "def create_dataset(dataset, time_step=1):\n",
        "\tdataX, dataY = [], []\n",
        "\tfor i in range(len(dataset)-time_step-1): # we have to exclude last 99 data***\n",
        "\t\ta = dataset[i:(i+time_step), 0]   ###i=0, 0,1,2,3-----99--->X   100---->Y \n",
        "\t\tdataX.append(a)\n",
        "\t\tdataY.append(dataset[i + time_step, 0])###??????????\n",
        "\treturn numpy.array(dataX), numpy.array(dataY)"
      ],
      "execution_count": 50,
      "outputs": []
    },
    {
      "cell_type": "code",
      "metadata": {
        "id": "EwAwNNvLVqmx",
        "colab_type": "code",
        "colab": {}
      },
      "source": [
        "# reshape into X=t,t+1,t+2,t+3 and Y=t+4\n",
        "time_step = 25\n",
        "X_train, y_train = create_dataset(train_data, time_step)\n",
        "X_test, ytest = create_dataset(test_data, time_step)"
      ],
      "execution_count": 51,
      "outputs": []
    },
    {
      "cell_type": "code",
      "metadata": {
        "id": "IPmVUVQLVtSb",
        "colab_type": "code",
        "colab": {
          "base_uri": "https://localhost:8080/",
          "height": 72
        },
        "outputId": "7c2051ae-cb4a-442a-a141-5d60584c535e"
      },
      "source": [
        "print(X_test.shape), print(ytest.shape)"
      ],
      "execution_count": 52,
      "outputs": [
        {
          "output_type": "stream",
          "text": [
            "(28, 25)\n",
            "(28,)\n"
          ],
          "name": "stdout"
        },
        {
          "output_type": "execute_result",
          "data": {
            "text/plain": [
              "(None, None)"
            ]
          },
          "metadata": {
            "tags": []
          },
          "execution_count": 52
        }
      ]
    },
    {
      "cell_type": "code",
      "metadata": {
        "id": "WNxKoDK1a-pr",
        "colab_type": "code",
        "colab": {}
      },
      "source": [
        "# reshape input to be [samples, time steps, features] which is required for LSTM ?????????????????\n",
        "X_train =X_train.reshape(X_train.shape[0],X_train.shape[1] , 1)\n",
        "X_test = X_test.reshape(X_test.shape[0],X_test.shape[1] , 1)"
      ],
      "execution_count": 53,
      "outputs": []
    },
    {
      "cell_type": "code",
      "metadata": {
        "id": "Cnf1X34vbC0n",
        "colab_type": "code",
        "colab": {
          "base_uri": "https://localhost:8080/",
          "height": 308
        },
        "outputId": "0e131468-4df5-4992-a6cb-430945605022"
      },
      "source": [
        "### Create the Stacked LSTM model\n",
        "from tensorflow.keras.models import Sequential\n",
        "from tensorflow.keras.layers import Dense\n",
        "from tensorflow.keras.layers import LSTM\n",
        "model=Sequential()\n",
        "model.add(LSTM(50,return_sequences=True,input_shape=(25,1)))\n",
        "model.add(LSTM(50,return_sequences=True))\n",
        "model.add(LSTM(50))\n",
        "model.add(Dense(1))\n",
        "model.compile(loss='mean_squared_error',optimizer='adam')\n",
        "model.summary()"
      ],
      "execution_count": 54,
      "outputs": [
        {
          "output_type": "stream",
          "text": [
            "Model: \"sequential\"\n",
            "_________________________________________________________________\n",
            "Layer (type)                 Output Shape              Param #   \n",
            "=================================================================\n",
            "lstm (LSTM)                  (None, 25, 50)            10400     \n",
            "_________________________________________________________________\n",
            "lstm_1 (LSTM)                (None, 25, 50)            20200     \n",
            "_________________________________________________________________\n",
            "lstm_2 (LSTM)                (None, 50)                20200     \n",
            "_________________________________________________________________\n",
            "dense (Dense)                (None, 1)                 51        \n",
            "=================================================================\n",
            "Total params: 50,851\n",
            "Trainable params: 50,851\n",
            "Non-trainable params: 0\n",
            "_________________________________________________________________\n"
          ],
          "name": "stdout"
        }
      ]
    },
    {
      "cell_type": "code",
      "metadata": {
        "id": "tGNHAfZqbJ9A",
        "colab_type": "code",
        "colab": {
          "base_uri": "https://localhost:8080/",
          "height": 1000
        },
        "outputId": "1523ab80-ad1e-4bc3-e900-b13187a48089"
      },
      "source": [
        "model.fit(X_train,y_train,validation_data=(X_test,ytest),epochs=100,batch_size=64,verbose=5)"
      ],
      "execution_count": 55,
      "outputs": [
        {
          "output_type": "stream",
          "text": [
            "Epoch 1/100\n",
            "Epoch 2/100\n",
            "Epoch 3/100\n",
            "Epoch 4/100\n",
            "Epoch 5/100\n",
            "Epoch 6/100\n",
            "Epoch 7/100\n",
            "Epoch 8/100\n",
            "Epoch 9/100\n",
            "Epoch 10/100\n",
            "Epoch 11/100\n",
            "Epoch 12/100\n",
            "Epoch 13/100\n",
            "Epoch 14/100\n",
            "Epoch 15/100\n",
            "Epoch 16/100\n",
            "Epoch 17/100\n",
            "Epoch 18/100\n",
            "Epoch 19/100\n",
            "Epoch 20/100\n",
            "Epoch 21/100\n",
            "Epoch 22/100\n",
            "Epoch 23/100\n",
            "Epoch 24/100\n",
            "Epoch 25/100\n",
            "Epoch 26/100\n",
            "Epoch 27/100\n",
            "Epoch 28/100\n",
            "Epoch 29/100\n",
            "Epoch 30/100\n",
            "Epoch 31/100\n",
            "Epoch 32/100\n",
            "Epoch 33/100\n",
            "Epoch 34/100\n",
            "Epoch 35/100\n",
            "Epoch 36/100\n",
            "Epoch 37/100\n",
            "Epoch 38/100\n",
            "Epoch 39/100\n",
            "Epoch 40/100\n",
            "Epoch 41/100\n",
            "Epoch 42/100\n",
            "Epoch 43/100\n",
            "Epoch 44/100\n",
            "Epoch 45/100\n",
            "Epoch 46/100\n",
            "Epoch 47/100\n",
            "Epoch 48/100\n",
            "Epoch 49/100\n",
            "Epoch 50/100\n",
            "Epoch 51/100\n",
            "Epoch 52/100\n",
            "Epoch 53/100\n",
            "Epoch 54/100\n",
            "Epoch 55/100\n",
            "Epoch 56/100\n",
            "Epoch 57/100\n",
            "Epoch 58/100\n",
            "Epoch 59/100\n",
            "Epoch 60/100\n",
            "Epoch 61/100\n",
            "Epoch 62/100\n",
            "Epoch 63/100\n",
            "Epoch 64/100\n",
            "Epoch 65/100\n",
            "Epoch 66/100\n",
            "Epoch 67/100\n",
            "Epoch 68/100\n",
            "Epoch 69/100\n",
            "Epoch 70/100\n",
            "Epoch 71/100\n",
            "Epoch 72/100\n",
            "Epoch 73/100\n",
            "Epoch 74/100\n",
            "Epoch 75/100\n",
            "Epoch 76/100\n",
            "Epoch 77/100\n",
            "Epoch 78/100\n",
            "Epoch 79/100\n",
            "Epoch 80/100\n",
            "Epoch 81/100\n",
            "Epoch 82/100\n",
            "Epoch 83/100\n",
            "Epoch 84/100\n",
            "Epoch 85/100\n",
            "Epoch 86/100\n",
            "Epoch 87/100\n",
            "Epoch 88/100\n",
            "Epoch 89/100\n",
            "Epoch 90/100\n",
            "Epoch 91/100\n",
            "Epoch 92/100\n",
            "Epoch 93/100\n",
            "Epoch 94/100\n",
            "Epoch 95/100\n",
            "Epoch 96/100\n",
            "Epoch 97/100\n",
            "Epoch 98/100\n",
            "Epoch 99/100\n",
            "Epoch 100/100\n"
          ],
          "name": "stdout"
        },
        {
          "output_type": "execute_result",
          "data": {
            "text/plain": [
              "<tensorflow.python.keras.callbacks.History at 0x7fdda2782400>"
            ]
          },
          "metadata": {
            "tags": []
          },
          "execution_count": 55
        }
      ]
    },
    {
      "cell_type": "code",
      "metadata": {
        "id": "7aCwTRKGbd8h",
        "colab_type": "code",
        "colab": {}
      },
      "source": [
        "### Lets Do the prediction and check performance metrics\n",
        "train_predict=model.predict(X_train)\n",
        "test_predict=model.predict(X_test)"
      ],
      "execution_count": 56,
      "outputs": []
    },
    {
      "cell_type": "code",
      "metadata": {
        "id": "PN6GAcffbhiv",
        "colab_type": "code",
        "colab": {}
      },
      "source": [
        "##Transformback to original form\n",
        "train_predict=scaler.inverse_transform(train_predict)\n",
        "test_predict=scaler.inverse_transform(test_predict)"
      ],
      "execution_count": 57,
      "outputs": []
    },
    {
      "cell_type": "code",
      "metadata": {
        "id": "2mWYNLcNbmbv",
        "colab_type": "code",
        "colab": {
          "base_uri": "https://localhost:8080/",
          "height": 35
        },
        "outputId": "0dbca1b2-c4c3-44c1-a029-095d95e40f57"
      },
      "source": [
        "### Calculate RMSE performance metrics\n",
        "import math\n",
        "from sklearn.metrics import mean_squared_error\n",
        "math.sqrt(mean_squared_error(y_train,train_predict))"
      ],
      "execution_count": 58,
      "outputs": [
        {
          "output_type": "execute_result",
          "data": {
            "text/plain": [
              "14977.935363810753"
            ]
          },
          "metadata": {
            "tags": []
          },
          "execution_count": 58
        }
      ]
    },
    {
      "cell_type": "code",
      "metadata": {
        "id": "FPpfPhLVbrH5",
        "colab_type": "code",
        "colab": {
          "base_uri": "https://localhost:8080/",
          "height": 35
        },
        "outputId": "bab83605-1a42-4bdf-b0af-ffd7cadcccc4"
      },
      "source": [
        "math.sqrt(mean_squared_error(ytest,test_predict))"
      ],
      "execution_count": 59,
      "outputs": [
        {
          "output_type": "execute_result",
          "data": {
            "text/plain": [
              "370758.5574948891"
            ]
          },
          "metadata": {
            "tags": []
          },
          "execution_count": 59
        }
      ]
    },
    {
      "cell_type": "code",
      "metadata": {
        "id": "bi4bSVk9bwA4",
        "colab_type": "code",
        "colab": {
          "base_uri": "https://localhost:8080/",
          "height": 391
        },
        "outputId": "c752f2f3-e7e4-4a5f-f576-bbd3c201fcc8"
      },
      "source": [
        "# shift train predictions for plotting\n",
        "look_back=25\n",
        "\n",
        "# reshape the figure\n",
        "plt.figure(figsize=(30,10))\n",
        "\n",
        "#first make empty numpy array of same size of df1\n",
        "trainPredictPlot = numpy.empty_like(df1)\n",
        "trainPredictPlot[:, :] = np.nan\n",
        "\n",
        "trainPredictPlot[look_back:len(train_predict)+look_back, :] = train_predict\n",
        "\n",
        "# shift test predictions for plotting\n",
        "testPredictPlot = numpy.empty_like(df1)\n",
        "testPredictPlot[:, :] = numpy.nan\n",
        "testPredictPlot[len(train_predict)+(look_back*2)+1:len(df1)-1, :] = test_predict\n",
        "\n",
        "# For plotting purpose we use following\n",
        "# plot baseline and predictions\n",
        "plt.plot(scaler.inverse_transform(df1),label='Original')\n",
        "plt.plot(trainPredictPlot,label='Train prediction')\n",
        "plt.plot(testPredictPlot,label='Test prediction')\n",
        "plt.legend()\n",
        "plt.ylabel('number of cases') \n",
        "plt.xlabel('Days') \n",
        "plt.show()"
      ],
      "execution_count": 60,
      "outputs": [
        {
          "output_type": "display_data",
          "data": {
            "image/png": "[encoded data removed]",
            "text/plain": [
              "<Figure size 2160x720 with 1 Axes>"
            ]
          },
          "metadata": {
            "tags": [],
            "needs_background": "light"
          }
        }
      ]
    }
  ]
}