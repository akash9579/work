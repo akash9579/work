{
  "nbformat": 4,
  "nbformat_minor": 0,
  "metadata": {
    "colab": {
      "name": "Beautiful_soap.ipynb",
      "provenance": [],
      "collapsed_sections": []
    },
    "kernelspec": {
      "name": "python3",
      "display_name": "Python 3"
    }
  },
  "cells": [
    {
      "cell_type": "code",
      "metadata": {
        "id": "njEv2AFqLcBk",
        "colab_type": "code",
        "colab": {}
      },
      "source": [
        "from bs4 import BeautifulSoup\n",
        "import requests \n",
        "\n",
        "URL=\"https://www.flipkart.com/search?q=laptops&as=on&as-show=on&otracker=AS_Query_TrendingAutoSuggest_4_0_na_na_na&otracker1=AS_Query_TrendingAutoSuggest_4_0_na_na_na&as-pos=4&as-type=TRENDING&suggestionId=laptops&requestId=6e8924de-a1de-43ae-bee5-f03721abe3e3\"\n",
        "r = requests.get(URL) \n",
        "soup = BeautifulSoup(r.content, 'html5lib') \n"
      ],
      "execution_count": 4,
      "outputs": []
    },
    {
      "cell_type": "code",
      "metadata": {
        "id": "diktx5hFPGfu",
        "colab_type": "code",
        "colab": {
          "base_uri": "https://localhost:8080/",
          "height": 34
        },
        "outputId": "35d3829c-80e3-4210-abde-09bcb182bbad"
      },
      "source": [
        "soup.title"
      ],
      "execution_count": 5,
      "outputs": [
        {
          "output_type": "execute_result",
          "data": {
            "text/plain": [
              "<title>Laptops - Buy Products Online at Best Price in India - All Categories | Flipkart.com</title>"
            ]
          },
          "metadata": {
            "tags": []
          },
          "execution_count": 5
        }
      ]
    },
    {
      "cell_type": "code",
      "metadata": {
        "id": "zjvZ8PmZQfuO",
        "colab_type": "code",
        "colab": {}
      },
      "source": [
        "l1=soup.find_all('a',attrs={'class':\"_31qSD5\"})"
      ],
      "execution_count": 6,
      "outputs": []
    },
    {
      "cell_type": "code",
      "metadata": {
        "id": "PNXHW7dQcj8r",
        "colab_type": "code",
        "colab": {
          "base_uri": "https://localhost:8080/",
          "height": 34
        },
        "outputId": "027e96be-cfa1-496b-9f0b-a6283cae8aa5"
      },
      "source": [
        "len(l1)"
      ],
      "execution_count": 7,
      "outputs": [
        {
          "output_type": "execute_result",
          "data": {
            "text/plain": [
              "24"
            ]
          },
          "metadata": {
            "tags": []
          },
          "execution_count": 7
        }
      ]
    },
    {
      "cell_type": "code",
      "metadata": {
        "id": "inDTAgM_dVYj",
        "colab_type": "code",
        "colab": {
          "base_uri": "https://localhost:8080/",
          "height": 34
        },
        "outputId": "c62b0bae-4bed-415f-8424-903bcfb6395a"
      },
      "source": [
        "len(l1)"
      ],
      "execution_count": 8,
      "outputs": [
        {
          "output_type": "execute_result",
          "data": {
            "text/plain": [
              "24"
            ]
          },
          "metadata": {
            "tags": []
          },
          "execution_count": 8
        }
      ]
    },
    {
      "cell_type": "code",
      "metadata": {
        "id": "Uc49zjblRKTi",
        "colab_type": "code",
        "colab": {}
      },
      "source": [
        "l2=l1[6].find('div',attrs={'class':\"hGSR34\"})"
      ],
      "execution_count": 9,
      "outputs": []
    },
    {
      "cell_type": "code",
      "metadata": {
        "id": "nkH8ajg_SBua",
        "colab_type": "code",
        "colab": {
          "base_uri": "https://localhost:8080/",
          "height": 35
        },
        "outputId": "7a4f8ac0-3a9f-4f9b-98b1-3c146da3aa57"
      },
      "source": [
        "l2.text"
      ],
      "execution_count": 10,
      "outputs": [
        {
          "output_type": "execute_result",
          "data": {
            "application/vnd.google.colaboratory.intrinsic+json": {
              "type": "string"
            },
            "text/plain": [
              "'4.3'"
            ]
          },
          "metadata": {
            "tags": []
          },
          "execution_count": 10
        }
      ]
    },
    {
      "cell_type": "code",
      "metadata": {
        "id": "LwNtNCSgXozK",
        "colab_type": "code",
        "colab": {}
      },
      "source": [
        "names=[]\n",
        "prices=[]\n",
        "l3=[]"
      ],
      "execution_count": 11,
      "outputs": []
    },
    {
      "cell_type": "code",
      "metadata": {
        "id": "s1Ny6ZZeXWrj",
        "colab_type": "code",
        "colab": {
          "base_uri": "https://localhost:8080/",
          "height": 443
        },
        "outputId": "eae4af17-03d4-4d88-fcb5-4473d6bfbd95"
      },
      "source": [
        "for a in soup.find_all('a',attrs={'class':\"_31qSD5\"}):\n",
        "  try:\n",
        "    name=a.find('div',attrs={'class':'_3wU53n'})\n",
        "    price=a.find('div',attrs={'class':'_1vC4OE _2rQ-NK'})\n",
        "    ratings=a.find('div',attrs={'class':\"hGSR34\"})\n",
        "    names.append(name.text)\n",
        "    prices.append(price.text)\n",
        "    a=ratings.text\n",
        "    l3.append(a)\n",
        "    print(a)\n",
        "  except:\n",
        "    a=0\n",
        "    l3.append(a)\n",
        "    print(a)\n",
        "    pass\n",
        "\n"
      ],
      "execution_count": 12,
      "outputs": [
        {
          "output_type": "stream",
          "text": [
            "3.3\n",
            "4.2\n",
            "3.7\n",
            "4.5\n",
            "4.1\n",
            "0\n",
            "4.3\n",
            "4.4\n",
            "4.3\n",
            "4.2\n",
            "4.6\n",
            "4.4\n",
            "4.4\n",
            "4.3\n",
            "4.6\n",
            "4.2\n",
            "4.9\n",
            "4.4\n",
            "4.7\n",
            "4.6\n",
            "4.3\n",
            "4.1\n",
            "4.4\n",
            "4.3\n"
          ],
          "name": "stdout"
        }
      ]
    },
    {
      "cell_type": "code",
      "metadata": {
        "id": "7fkYET9ReVtz",
        "colab_type": "code",
        "colab": {
          "base_uri": "https://localhost:8080/",
          "height": 34
        },
        "outputId": "276431a8-5b28-42da-9809-10c37408dba3"
      },
      "source": [
        "len(l3)"
      ],
      "execution_count": 13,
      "outputs": [
        {
          "output_type": "execute_result",
          "data": {
            "text/plain": [
              "24"
            ]
          },
          "metadata": {
            "tags": []
          },
          "execution_count": 13
        }
      ]
    },
    {
      "cell_type": "code",
      "metadata": {
        "id": "w2NLMnsBZcCq",
        "colab_type": "code",
        "colab": {
          "base_uri": "https://localhost:8080/",
          "height": 54
        },
        "outputId": "2ff80c01-7978-4ca4-dc75-c761050a2ad6"
      },
      "source": [
        "print(ratings)"
      ],
      "execution_count": 14,
      "outputs": [
        {
          "output_type": "stream",
          "text": [
            "<div class=\"hGSR34\">4.3<img class=\"_2lQ_WZ\" src=\"data:image/svg+xml;base64,PHN2ZyB4bWxucz0iaHR0cDovL3d3dy53My5vcmcvMjAwMC9zdmciIHdpZHRoPSIxMyIgaGVpZ2h0PSIxMiI+PHBhdGggZmlsbD0iI0ZGRiIgZD0iTTYuNSA5LjQzOWwtMy42NzQgMi4yMy45NC00LjI2LTMuMjEtMi44ODMgNC4yNTQtLjQwNEw2LjUuMTEybDEuNjkgNC4wMSA0LjI1NC40MDQtMy4yMSAyLjg4Mi45NCA0LjI2eiIvPjwvc3ZnPg==\"/></div>\n"
          ],
          "name": "stdout"
        }
      ]
    },
    {
      "cell_type": "code",
      "metadata": {
        "id": "vL9JwhVNYF7z",
        "colab_type": "code",
        "colab": {
          "base_uri": "https://localhost:8080/",
          "height": 443
        },
        "outputId": "cded1725-51f2-4ac8-cd90-c20ce07a788e"
      },
      "source": [
        "prices"
      ],
      "execution_count": 15,
      "outputs": [
        {
          "output_type": "execute_result",
          "data": {
            "text/plain": [
              "['₹24,990',\n",
              " '₹53,490',\n",
              " '₹34,766',\n",
              " '₹58,990',\n",
              " '₹38,606',\n",
              " '₹31,694',\n",
              " '₹44,551',\n",
              " '₹46,906',\n",
              " '₹39,998',\n",
              " '₹54,990',\n",
              " '₹61,933',\n",
              " '₹55,990',\n",
              " '₹38,990',\n",
              " '₹24,990',\n",
              " '₹39,990',\n",
              " '₹38,990',\n",
              " '₹91,990',\n",
              " '₹59,990',\n",
              " '₹75,990',\n",
              " '₹84,990',\n",
              " '₹33,990',\n",
              " '₹40,348',\n",
              " '₹64,990',\n",
              " '₹52,990']"
            ]
          },
          "metadata": {
            "tags": []
          },
          "execution_count": 15
        }
      ]
    },
    {
      "cell_type": "code",
      "metadata": {
        "id": "TTito4RxXyKp",
        "colab_type": "code",
        "colab": {
          "base_uri": "https://localhost:8080/",
          "height": 34
        },
        "outputId": "9d6ac06c-b737-42c2-ac5e-ebc60e9de65e"
      },
      "source": [
        "len(names)"
      ],
      "execution_count": 16,
      "outputs": [
        {
          "output_type": "execute_result",
          "data": {
            "text/plain": [
              "24"
            ]
          },
          "metadata": {
            "tags": []
          },
          "execution_count": 16
        }
      ]
    },
    {
      "cell_type": "code",
      "metadata": {
        "id": "XuLq0YWjYIVe",
        "colab_type": "code",
        "colab": {
          "base_uri": "https://localhost:8080/",
          "height": 34
        },
        "outputId": "f219d1d0-60b2-4fa0-ff3b-c7a7c9769e27"
      },
      "source": [
        "len(prices)"
      ],
      "execution_count": 17,
      "outputs": [
        {
          "output_type": "execute_result",
          "data": {
            "text/plain": [
              "24"
            ]
          },
          "metadata": {
            "tags": []
          },
          "execution_count": 17
        }
      ]
    },
    {
      "cell_type": "code",
      "metadata": {
        "id": "I30bDRSAhYsO",
        "colab_type": "code",
        "colab": {}
      },
      "source": [
        "import pandas as pd"
      ],
      "execution_count": 18,
      "outputs": []
    },
    {
      "cell_type": "code",
      "metadata": {
        "id": "U5HZD3ZChRhy",
        "colab_type": "code",
        "colab": {}
      },
      "source": [
        "df=pd.DataFrame({'Product name':names,'Price':prices,'Rating':l3})\n"
      ],
      "execution_count": 19,
      "outputs": []
    },
    {
      "cell_type": "code",
      "metadata": {
        "id": "sDFOiWI8mYiF",
        "colab_type": "code",
        "colab": {
          "base_uri": "https://localhost:8080/",
          "height": 767
        },
        "outputId": "ddc3f4d4-1cb1-4d9e-a7a9-a030d23bf480"
      },
      "source": [
        "df"
      ],
      "execution_count": 20,
      "outputs": [
        {
          "output_type": "execute_result",
          "data": {
            "text/html": [
              "<div>\n",
              "<style scoped>\n",
              "    .dataframe tbody tr th:only-of-type {\n",
              "        vertical-align: middle;\n",
              "    }\n",
              "\n",
              "    .dataframe tbody tr th {\n",
              "        vertical-align: top;\n",
              "    }\n",
              "\n",
              "    .dataframe thead th {\n",
              "        text-align: right;\n",
              "    }\n",
              "</style>\n",
              "<table border=\"1\" class=\"dataframe\">\n",
              "  <thead>\n",
              "    <tr style=\"text-align: right;\">\n",
              "      <th></th>\n",
              "      <th>Product name</th>\n",
              "      <th>Price</th>\n",
              "      <th>Rating</th>\n",
              "    </tr>\n",
              "  </thead>\n",
              "  <tbody>\n",
              "    <tr>\n",
              "      <th>0</th>\n",
              "      <td>Asus VivoBook APU Dual Core E1 - (4 GB/1 TB HD...</td>\n",
              "      <td>₹24,990</td>\n",
              "      <td>3.3</td>\n",
              "    </tr>\n",
              "    <tr>\n",
              "      <th>1</th>\n",
              "      <td>Dell Vostro Core i5 10th Gen - (8 GB/1 TB HDD/...</td>\n",
              "      <td>₹53,490</td>\n",
              "      <td>4.2</td>\n",
              "    </tr>\n",
              "    <tr>\n",
              "      <th>2</th>\n",
              "      <td>Dell Vostro Core i3 10th Gen - (4 GB/1 TB HDD/...</td>\n",
              "      <td>₹34,766</td>\n",
              "      <td>3.7</td>\n",
              "    </tr>\n",
              "    <tr>\n",
              "      <th>3</th>\n",
              "      <td>Acer Aspire 7 Core i5 9th Gen - (8 GB/512 GB S...</td>\n",
              "      <td>₹58,990</td>\n",
              "      <td>4.5</td>\n",
              "    </tr>\n",
              "    <tr>\n",
              "      <th>4</th>\n",
              "      <td>Dell Vostro Core i3 10th Gen - (8 GB/1 TB HDD/...</td>\n",
              "      <td>₹38,606</td>\n",
              "      <td>4.1</td>\n",
              "    </tr>\n",
              "    <tr>\n",
              "      <th>5</th>\n",
              "      <td>Lenovo Ideapad 3 Core i3 10th Gen - (4 GB/1 TB...</td>\n",
              "      <td>₹31,694</td>\n",
              "      <td>0</td>\n",
              "    </tr>\n",
              "    <tr>\n",
              "      <th>6</th>\n",
              "      <td>Asus VivoBook 14 Ryzen 5 Quad Core 2nd Gen - (...</td>\n",
              "      <td>₹44,551</td>\n",
              "      <td>4.3</td>\n",
              "    </tr>\n",
              "    <tr>\n",
              "      <th>7</th>\n",
              "      <td>HP 15s Core i3 10th Gen - (8 GB/1 TB HDD/Windo...</td>\n",
              "      <td>₹46,906</td>\n",
              "      <td>4.4</td>\n",
              "    </tr>\n",
              "    <tr>\n",
              "      <th>8</th>\n",
              "      <td>Dell Vostro Core i3 10th Gen - (4 GB/1 TB HDD/...</td>\n",
              "      <td>₹39,998</td>\n",
              "      <td>4.3</td>\n",
              "    </tr>\n",
              "    <tr>\n",
              "      <th>9</th>\n",
              "      <td>HP Pavilion Gaming Ryzen 5 Quad Core - (8 GB/1...</td>\n",
              "      <td>₹54,990</td>\n",
              "      <td>4.2</td>\n",
              "    </tr>\n",
              "    <tr>\n",
              "      <th>10</th>\n",
              "      <td>HP 14s Core i5 10th Gen - (8 GB/512 GB SSD/Win...</td>\n",
              "      <td>₹61,933</td>\n",
              "      <td>4.6</td>\n",
              "    </tr>\n",
              "    <tr>\n",
              "      <th>11</th>\n",
              "      <td>Asus VivoBook 14 Core i5 10th Gen - (8 GB/1 TB...</td>\n",
              "      <td>₹55,990</td>\n",
              "      <td>4.4</td>\n",
              "    </tr>\n",
              "    <tr>\n",
              "      <th>12</th>\n",
              "      <td>Asus VivoBook 14 Core i3 10th Gen - (4 GB/256 ...</td>\n",
              "      <td>₹38,990</td>\n",
              "      <td>4.4</td>\n",
              "    </tr>\n",
              "    <tr>\n",
              "      <th>13</th>\n",
              "      <td>Acer One 14 Pentium Dual Core - (4 GB/1 TB HDD...</td>\n",
              "      <td>₹24,990</td>\n",
              "      <td>4.3</td>\n",
              "    </tr>\n",
              "    <tr>\n",
              "      <th>14</th>\n",
              "      <td>Acer Aspire 5 Core i3 10th Gen - (4 GB + 32 GB...</td>\n",
              "      <td>₹39,990</td>\n",
              "      <td>4.6</td>\n",
              "    </tr>\n",
              "    <tr>\n",
              "      <th>15</th>\n",
              "      <td>Avita Liber Core i5 8th Gen - (8 GB/256 GB SSD...</td>\n",
              "      <td>₹38,990</td>\n",
              "      <td>4.2</td>\n",
              "    </tr>\n",
              "    <tr>\n",
              "      <th>16</th>\n",
              "      <td>Asus TUF Gaming A17 Ryzen 7 Octa Core - (16 GB...</td>\n",
              "      <td>₹91,990</td>\n",
              "      <td>4.9</td>\n",
              "    </tr>\n",
              "    <tr>\n",
              "      <th>17</th>\n",
              "      <td>HP Pavilion Gaming Ryzen 5 Quad Core - (8 GB/5...</td>\n",
              "      <td>₹59,990</td>\n",
              "      <td>4.4</td>\n",
              "    </tr>\n",
              "    <tr>\n",
              "      <th>18</th>\n",
              "      <td>HP Omen Ryzen 5 Hexa Core - (8 GB/512 GB SSD/W...</td>\n",
              "      <td>₹75,990</td>\n",
              "      <td>4.7</td>\n",
              "    </tr>\n",
              "    <tr>\n",
              "      <th>19</th>\n",
              "      <td>Asus ROG Strix G15 Core i5 10th Gen - (8 GB/1 ...</td>\n",
              "      <td>₹84,990</td>\n",
              "      <td>4.6</td>\n",
              "    </tr>\n",
              "    <tr>\n",
              "      <th>20</th>\n",
              "      <td>Acer Swift 3 Athlon Dual Core - (4 GB/1 TB HDD...</td>\n",
              "      <td>₹33,990</td>\n",
              "      <td>4.3</td>\n",
              "    </tr>\n",
              "    <tr>\n",
              "      <th>21</th>\n",
              "      <td>HP 15s Core i3 10th Gen - (4 GB/1 TB HDD/Windo...</td>\n",
              "      <td>₹40,348</td>\n",
              "      <td>4.1</td>\n",
              "    </tr>\n",
              "    <tr>\n",
              "      <th>22</th>\n",
              "      <td>Asus TUF Gaming Core i5 9th Gen - (8 GB/512 GB...</td>\n",
              "      <td>₹64,990</td>\n",
              "      <td>4.4</td>\n",
              "    </tr>\n",
              "    <tr>\n",
              "      <th>23</th>\n",
              "      <td>Asus Core i5 8th Gen - (8 GB/512 GB SSD/Window...</td>\n",
              "      <td>₹52,990</td>\n",
              "      <td>4.3</td>\n",
              "    </tr>\n",
              "  </tbody>\n",
              "</table>\n",
              "</div>"
            ],
            "text/plain": [
              "                                         Product name    Price Rating\n",
              "0   Asus VivoBook APU Dual Core E1 - (4 GB/1 TB HD...  ₹24,990    3.3\n",
              "1   Dell Vostro Core i5 10th Gen - (8 GB/1 TB HDD/...  ₹53,490    4.2\n",
              "2   Dell Vostro Core i3 10th Gen - (4 GB/1 TB HDD/...  ₹34,766    3.7\n",
              "3   Acer Aspire 7 Core i5 9th Gen - (8 GB/512 GB S...  ₹58,990    4.5\n",
              "4   Dell Vostro Core i3 10th Gen - (8 GB/1 TB HDD/...  ₹38,606    4.1\n",
              "5   Lenovo Ideapad 3 Core i3 10th Gen - (4 GB/1 TB...  ₹31,694      0\n",
              "6   Asus VivoBook 14 Ryzen 5 Quad Core 2nd Gen - (...  ₹44,551    4.3\n",
              "7   HP 15s Core i3 10th Gen - (8 GB/1 TB HDD/Windo...  ₹46,906    4.4\n",
              "8   Dell Vostro Core i3 10th Gen - (4 GB/1 TB HDD/...  ₹39,998    4.3\n",
              "9   HP Pavilion Gaming Ryzen 5 Quad Core - (8 GB/1...  ₹54,990    4.2\n",
              "10  HP 14s Core i5 10th Gen - (8 GB/512 GB SSD/Win...  ₹61,933    4.6\n",
              "11  Asus VivoBook 14 Core i5 10th Gen - (8 GB/1 TB...  ₹55,990    4.4\n",
              "12  Asus VivoBook 14 Core i3 10th Gen - (4 GB/256 ...  ₹38,990    4.4\n",
              "13  Acer One 14 Pentium Dual Core - (4 GB/1 TB HDD...  ₹24,990    4.3\n",
              "14  Acer Aspire 5 Core i3 10th Gen - (4 GB + 32 GB...  ₹39,990    4.6\n",
              "15  Avita Liber Core i5 8th Gen - (8 GB/256 GB SSD...  ₹38,990    4.2\n",
              "16  Asus TUF Gaming A17 Ryzen 7 Octa Core - (16 GB...  ₹91,990    4.9\n",
              "17  HP Pavilion Gaming Ryzen 5 Quad Core - (8 GB/5...  ₹59,990    4.4\n",
              "18  HP Omen Ryzen 5 Hexa Core - (8 GB/512 GB SSD/W...  ₹75,990    4.7\n",
              "19  Asus ROG Strix G15 Core i5 10th Gen - (8 GB/1 ...  ₹84,990    4.6\n",
              "20  Acer Swift 3 Athlon Dual Core - (4 GB/1 TB HDD...  ₹33,990    4.3\n",
              "21  HP 15s Core i3 10th Gen - (4 GB/1 TB HDD/Windo...  ₹40,348    4.1\n",
              "22  Asus TUF Gaming Core i5 9th Gen - (8 GB/512 GB...  ₹64,990    4.4\n",
              "23  Asus Core i5 8th Gen - (8 GB/512 GB SSD/Window...  ₹52,990    4.3"
            ]
          },
          "metadata": {
            "tags": []
          },
          "execution_count": 20
        }
      ]
    }
  ]
}