{
  "nbformat": 4,
  "nbformat_minor": 0,
  "metadata": {
    "colab": {
      "name": "bank.ipynb",
      "provenance": [],
      "collapsed_sections": []
    },
    "kernelspec": {
      "name": "python3",
      "display_name": "Python 3"
    }
  },
  "cells": [
    {
      "cell_type": "code",
      "metadata": {
        "id": "a5OgOSV3Cp8j",
        "colab_type": "code",
        "colab": {}
      },
      "source": [
        "import pandas as pd"
      ],
      "execution_count": 0,
      "outputs": []
    },
    {
      "cell_type": "code",
      "metadata": {
        "id": "gJiXvD7dC4qk",
        "colab_type": "code",
        "colab": {}
      },
      "source": [
        "data = pd.read_csv(\"/content/bank-additional-full.csv\" , sep=\";\")     # if sep was not there then the data should be in wrong format\n",
        "                                                                    # If the separator between each field of your data is not a comma, use the sep argument\n",
        "                                                                    # sep is more commonly used than delimiter\n",
        "                                                                    # header to specify which line in your data is to be considered as header\n",
        "                                                                    # Use the names attribute if you would want to specify column names to the dataframe explicitly.\n",
        "                                                                    # index_col Use this argument to specify the row labels to use\n",
        "                                                                    # Use pandas usecols when you want to load specific columns into dataframe .You can also use column index positions as parameter to usecols\n",
        "                                                                    ### for further visit this link https://honingds.com/blog/pandas-read_csv/"
      ],
      "execution_count": 0,
      "outputs": []
    },
    {
      "cell_type": "code",
      "metadata": {
        "id": "nw0smIMcDHRS",
        "colab_type": "code",
        "outputId": "02fe47fa-bee1-46ce-8d5f-8bfeaf77b56c",
        "colab": {
          "base_uri": "https://localhost:8080/",
          "height": 241
        }
      },
      "source": [
        "data.tail()"
      ],
      "execution_count": 90,
      "outputs": [
        {
          "output_type": "execute_result",
          "data": {
            "text/html": [
              "<div>\n",
              "<style scoped>\n",
              "    .dataframe tbody tr th:only-of-type {\n",
              "        vertical-align: middle;\n",
              "    }\n",
              "\n",
              "    .dataframe tbody tr th {\n",
              "        vertical-align: top;\n",
              "    }\n",
              "\n",
              "    .dataframe thead th {\n",
              "        text-align: right;\n",
              "    }\n",
              "</style>\n",
              "<table border=\"1\" class=\"dataframe\">\n",
              "  <thead>\n",
              "    <tr style=\"text-align: right;\">\n",
              "      <th></th>\n",
              "      <th>age</th>\n",
              "      <th>job</th>\n",
              "      <th>marital</th>\n",
              "      <th>education</th>\n",
              "      <th>default</th>\n",
              "      <th>housing</th>\n",
              "      <th>loan</th>\n",
              "      <th>contact</th>\n",
              "      <th>month</th>\n",
              "      <th>day_of_week</th>\n",
              "      <th>duration</th>\n",
              "      <th>campaign</th>\n",
              "      <th>pdays</th>\n",
              "      <th>previous</th>\n",
              "      <th>poutcome</th>\n",
              "      <th>emp.var.rate</th>\n",
              "      <th>cons.price.idx</th>\n",
              "      <th>cons.conf.idx</th>\n",
              "      <th>euribor3m</th>\n",
              "      <th>nr.employed</th>\n",
              "      <th>y</th>\n",
              "    </tr>\n",
              "  </thead>\n",
              "  <tbody>\n",
              "    <tr>\n",
              "      <th>41183</th>\n",
              "      <td>73</td>\n",
              "      <td>retired</td>\n",
              "      <td>married</td>\n",
              "      <td>professional.course</td>\n",
              "      <td>no</td>\n",
              "      <td>yes</td>\n",
              "      <td>no</td>\n",
              "      <td>cellular</td>\n",
              "      <td>nov</td>\n",
              "      <td>fri</td>\n",
              "      <td>334</td>\n",
              "      <td>1</td>\n",
              "      <td>999</td>\n",
              "      <td>0</td>\n",
              "      <td>nonexistent</td>\n",
              "      <td>-1.1</td>\n",
              "      <td>94.767</td>\n",
              "      <td>-50.8</td>\n",
              "      <td>1.028</td>\n",
              "      <td>4963.6</td>\n",
              "      <td>yes</td>\n",
              "    </tr>\n",
              "    <tr>\n",
              "      <th>41184</th>\n",
              "      <td>46</td>\n",
              "      <td>blue-collar</td>\n",
              "      <td>married</td>\n",
              "      <td>professional.course</td>\n",
              "      <td>no</td>\n",
              "      <td>no</td>\n",
              "      <td>no</td>\n",
              "      <td>cellular</td>\n",
              "      <td>nov</td>\n",
              "      <td>fri</td>\n",
              "      <td>383</td>\n",
              "      <td>1</td>\n",
              "      <td>999</td>\n",
              "      <td>0</td>\n",
              "      <td>nonexistent</td>\n",
              "      <td>-1.1</td>\n",
              "      <td>94.767</td>\n",
              "      <td>-50.8</td>\n",
              "      <td>1.028</td>\n",
              "      <td>4963.6</td>\n",
              "      <td>no</td>\n",
              "    </tr>\n",
              "    <tr>\n",
              "      <th>41185</th>\n",
              "      <td>56</td>\n",
              "      <td>retired</td>\n",
              "      <td>married</td>\n",
              "      <td>university.degree</td>\n",
              "      <td>no</td>\n",
              "      <td>yes</td>\n",
              "      <td>no</td>\n",
              "      <td>cellular</td>\n",
              "      <td>nov</td>\n",
              "      <td>fri</td>\n",
              "      <td>189</td>\n",
              "      <td>2</td>\n",
              "      <td>999</td>\n",
              "      <td>0</td>\n",
              "      <td>nonexistent</td>\n",
              "      <td>-1.1</td>\n",
              "      <td>94.767</td>\n",
              "      <td>-50.8</td>\n",
              "      <td>1.028</td>\n",
              "      <td>4963.6</td>\n",
              "      <td>no</td>\n",
              "    </tr>\n",
              "    <tr>\n",
              "      <th>41186</th>\n",
              "      <td>44</td>\n",
              "      <td>technician</td>\n",
              "      <td>married</td>\n",
              "      <td>professional.course</td>\n",
              "      <td>no</td>\n",
              "      <td>no</td>\n",
              "      <td>no</td>\n",
              "      <td>cellular</td>\n",
              "      <td>nov</td>\n",
              "      <td>fri</td>\n",
              "      <td>442</td>\n",
              "      <td>1</td>\n",
              "      <td>999</td>\n",
              "      <td>0</td>\n",
              "      <td>nonexistent</td>\n",
              "      <td>-1.1</td>\n",
              "      <td>94.767</td>\n",
              "      <td>-50.8</td>\n",
              "      <td>1.028</td>\n",
              "      <td>4963.6</td>\n",
              "      <td>yes</td>\n",
              "    </tr>\n",
              "    <tr>\n",
              "      <th>41187</th>\n",
              "      <td>74</td>\n",
              "      <td>retired</td>\n",
              "      <td>married</td>\n",
              "      <td>professional.course</td>\n",
              "      <td>no</td>\n",
              "      <td>yes</td>\n",
              "      <td>no</td>\n",
              "      <td>cellular</td>\n",
              "      <td>nov</td>\n",
              "      <td>fri</td>\n",
              "      <td>239</td>\n",
              "      <td>3</td>\n",
              "      <td>999</td>\n",
              "      <td>1</td>\n",
              "      <td>failure</td>\n",
              "      <td>-1.1</td>\n",
              "      <td>94.767</td>\n",
              "      <td>-50.8</td>\n",
              "      <td>1.028</td>\n",
              "      <td>4963.6</td>\n",
              "      <td>no</td>\n",
              "    </tr>\n",
              "  </tbody>\n",
              "</table>\n",
              "</div>"
            ],
            "text/plain": [
              "       age          job  marital  ... euribor3m nr.employed    y\n",
              "41183   73      retired  married  ...     1.028      4963.6  yes\n",
              "41184   46  blue-collar  married  ...     1.028      4963.6   no\n",
              "41185   56      retired  married  ...     1.028      4963.6   no\n",
              "41186   44   technician  married  ...     1.028      4963.6  yes\n",
              "41187   74      retired  married  ...     1.028      4963.6   no\n",
              "\n",
              "[5 rows x 21 columns]"
            ]
          },
          "metadata": {
            "tags": []
          },
          "execution_count": 90
        }
      ]
    },
    {
      "cell_type": "code",
      "metadata": {
        "id": "oL2oHvAgvYWJ",
        "colab_type": "code",
        "outputId": "d7407d63-6db4-43bf-853d-d5a56d99ec68",
        "colab": {
          "base_uri": "https://localhost:8080/",
          "height": 297
        }
      },
      "source": [
        "data.describe()"
      ],
      "execution_count": 91,
      "outputs": [
        {
          "output_type": "execute_result",
          "data": {
            "text/html": [
              "<div>\n",
              "<style scoped>\n",
              "    .dataframe tbody tr th:only-of-type {\n",
              "        vertical-align: middle;\n",
              "    }\n",
              "\n",
              "    .dataframe tbody tr th {\n",
              "        vertical-align: top;\n",
              "    }\n",
              "\n",
              "    .dataframe thead th {\n",
              "        text-align: right;\n",
              "    }\n",
              "</style>\n",
              "<table border=\"1\" class=\"dataframe\">\n",
              "  <thead>\n",
              "    <tr style=\"text-align: right;\">\n",
              "      <th></th>\n",
              "      <th>age</th>\n",
              "      <th>duration</th>\n",
              "      <th>campaign</th>\n",
              "      <th>pdays</th>\n",
              "      <th>previous</th>\n",
              "      <th>emp.var.rate</th>\n",
              "      <th>cons.price.idx</th>\n",
              "      <th>cons.conf.idx</th>\n",
              "      <th>euribor3m</th>\n",
              "      <th>nr.employed</th>\n",
              "    </tr>\n",
              "  </thead>\n",
              "  <tbody>\n",
              "    <tr>\n",
              "      <th>count</th>\n",
              "      <td>41188.00000</td>\n",
              "      <td>41188.000000</td>\n",
              "      <td>41188.000000</td>\n",
              "      <td>41188.000000</td>\n",
              "      <td>41188.000000</td>\n",
              "      <td>41188.000000</td>\n",
              "      <td>41188.000000</td>\n",
              "      <td>41188.000000</td>\n",
              "      <td>41188.000000</td>\n",
              "      <td>41188.000000</td>\n",
              "    </tr>\n",
              "    <tr>\n",
              "      <th>mean</th>\n",
              "      <td>40.02406</td>\n",
              "      <td>258.285010</td>\n",
              "      <td>2.567593</td>\n",
              "      <td>962.475454</td>\n",
              "      <td>0.172963</td>\n",
              "      <td>0.081886</td>\n",
              "      <td>93.575664</td>\n",
              "      <td>-40.502600</td>\n",
              "      <td>3.621291</td>\n",
              "      <td>5167.035911</td>\n",
              "    </tr>\n",
              "    <tr>\n",
              "      <th>std</th>\n",
              "      <td>10.42125</td>\n",
              "      <td>259.279249</td>\n",
              "      <td>2.770014</td>\n",
              "      <td>186.910907</td>\n",
              "      <td>0.494901</td>\n",
              "      <td>1.570960</td>\n",
              "      <td>0.578840</td>\n",
              "      <td>4.628198</td>\n",
              "      <td>1.734447</td>\n",
              "      <td>72.251528</td>\n",
              "    </tr>\n",
              "    <tr>\n",
              "      <th>min</th>\n",
              "      <td>17.00000</td>\n",
              "      <td>0.000000</td>\n",
              "      <td>1.000000</td>\n",
              "      <td>0.000000</td>\n",
              "      <td>0.000000</td>\n",
              "      <td>-3.400000</td>\n",
              "      <td>92.201000</td>\n",
              "      <td>-50.800000</td>\n",
              "      <td>0.634000</td>\n",
              "      <td>4963.600000</td>\n",
              "    </tr>\n",
              "    <tr>\n",
              "      <th>25%</th>\n",
              "      <td>32.00000</td>\n",
              "      <td>102.000000</td>\n",
              "      <td>1.000000</td>\n",
              "      <td>999.000000</td>\n",
              "      <td>0.000000</td>\n",
              "      <td>-1.800000</td>\n",
              "      <td>93.075000</td>\n",
              "      <td>-42.700000</td>\n",
              "      <td>1.344000</td>\n",
              "      <td>5099.100000</td>\n",
              "    </tr>\n",
              "    <tr>\n",
              "      <th>50%</th>\n",
              "      <td>38.00000</td>\n",
              "      <td>180.000000</td>\n",
              "      <td>2.000000</td>\n",
              "      <td>999.000000</td>\n",
              "      <td>0.000000</td>\n",
              "      <td>1.100000</td>\n",
              "      <td>93.749000</td>\n",
              "      <td>-41.800000</td>\n",
              "      <td>4.857000</td>\n",
              "      <td>5191.000000</td>\n",
              "    </tr>\n",
              "    <tr>\n",
              "      <th>75%</th>\n",
              "      <td>47.00000</td>\n",
              "      <td>319.000000</td>\n",
              "      <td>3.000000</td>\n",
              "      <td>999.000000</td>\n",
              "      <td>0.000000</td>\n",
              "      <td>1.400000</td>\n",
              "      <td>93.994000</td>\n",
              "      <td>-36.400000</td>\n",
              "      <td>4.961000</td>\n",
              "      <td>5228.100000</td>\n",
              "    </tr>\n",
              "    <tr>\n",
              "      <th>max</th>\n",
              "      <td>98.00000</td>\n",
              "      <td>4918.000000</td>\n",
              "      <td>56.000000</td>\n",
              "      <td>999.000000</td>\n",
              "      <td>7.000000</td>\n",
              "      <td>1.400000</td>\n",
              "      <td>94.767000</td>\n",
              "      <td>-26.900000</td>\n",
              "      <td>5.045000</td>\n",
              "      <td>5228.100000</td>\n",
              "    </tr>\n",
              "  </tbody>\n",
              "</table>\n",
              "</div>"
            ],
            "text/plain": [
              "               age      duration  ...     euribor3m   nr.employed\n",
              "count  41188.00000  41188.000000  ...  41188.000000  41188.000000\n",
              "mean      40.02406    258.285010  ...      3.621291   5167.035911\n",
              "std       10.42125    259.279249  ...      1.734447     72.251528\n",
              "min       17.00000      0.000000  ...      0.634000   4963.600000\n",
              "25%       32.00000    102.000000  ...      1.344000   5099.100000\n",
              "50%       38.00000    180.000000  ...      4.857000   5191.000000\n",
              "75%       47.00000    319.000000  ...      4.961000   5228.100000\n",
              "max       98.00000   4918.000000  ...      5.045000   5228.100000\n",
              "\n",
              "[8 rows x 10 columns]"
            ]
          },
          "metadata": {
            "tags": []
          },
          "execution_count": 91
        }
      ]
    },
    {
      "cell_type": "markdown",
      "metadata": {
        "id": "fg9IOPprHTDU",
        "colab_type": "text"
      },
      "source": [
        " **Imputation**\n",
        "\n",
        " check any null values are present or not\n",
        " "
      ]
    },
    {
      "cell_type": "code",
      "metadata": {
        "id": "9JtbVihiGKp3",
        "colab_type": "code",
        "outputId": "fa204abc-0787-43e5-b0c3-b1e97d431fdd",
        "colab": {
          "base_uri": "https://localhost:8080/",
          "height": 391
        }
      },
      "source": [
        "data.isnull().sum()                     # method1\n"
      ],
      "execution_count": 92,
      "outputs": [
        {
          "output_type": "execute_result",
          "data": {
            "text/plain": [
              "age               0\n",
              "job               0\n",
              "marital           0\n",
              "education         0\n",
              "default           0\n",
              "housing           0\n",
              "loan              0\n",
              "contact           0\n",
              "month             0\n",
              "day_of_week       0\n",
              "duration          0\n",
              "campaign          0\n",
              "pdays             0\n",
              "previous          0\n",
              "poutcome          0\n",
              "emp.var.rate      0\n",
              "cons.price.idx    0\n",
              "cons.conf.idx     0\n",
              "euribor3m         0\n",
              "nr.employed       0\n",
              "y                 0\n",
              "dtype: int64"
            ]
          },
          "metadata": {
            "tags": []
          },
          "execution_count": 92
        }
      ]
    },
    {
      "cell_type": "code",
      "metadata": {
        "id": "O2ysWw0CzLmr",
        "colab_type": "code",
        "outputId": "ed8e867c-cf1a-4543-ec1f-d66c7597bf6f",
        "colab": {
          "base_uri": "https://localhost:8080/",
          "height": 391
        }
      },
      "source": [
        "data.isna().any()                        # method2"
      ],
      "execution_count": 93,
      "outputs": [
        {
          "output_type": "execute_result",
          "data": {
            "text/plain": [
              "age               False\n",
              "job               False\n",
              "marital           False\n",
              "education         False\n",
              "default           False\n",
              "housing           False\n",
              "loan              False\n",
              "contact           False\n",
              "month             False\n",
              "day_of_week       False\n",
              "duration          False\n",
              "campaign          False\n",
              "pdays             False\n",
              "previous          False\n",
              "poutcome          False\n",
              "emp.var.rate      False\n",
              "cons.price.idx    False\n",
              "cons.conf.idx     False\n",
              "euribor3m         False\n",
              "nr.employed       False\n",
              "y                 False\n",
              "dtype: bool"
            ]
          },
          "metadata": {
            "tags": []
          },
          "execution_count": 93
        }
      ]
    },
    {
      "cell_type": "code",
      "metadata": {
        "id": "SBHHJKJVHOSX",
        "colab_type": "code",
        "outputId": "eb9a27f3-aef0-4402-8519-06f446d87256",
        "colab": {
          "base_uri": "https://localhost:8080/",
          "height": 342
        }
      },
      "source": [
        "import seaborn as sns                                                          # method3\n",
        "sns.heatmap(data.isnull(),yticklabels=False,cbar=False)"
      ],
      "execution_count": 94,
      "outputs": [
        {
          "output_type": "execute_result",
          "data": {
            "text/plain": [
              "<matplotlib.axes._subplots.AxesSubplot at 0x7f0b94f685c0>"
            ]
          },
          "metadata": {
            "tags": []
          },
          "execution_count": 94
        },
        {
          "output_type": "display_data",
          "data": {
            "image/png": "[encoded data removed]",
            "text/plain": [
              "<Figure size 432x288 with 1 Axes>"
            ]
          },
          "metadata": {
            "tags": [],
            "needs_background": "light"
          }
        }
      ]
    },
    {
      "cell_type": "markdown",
      "metadata": {
        "id": "yn5EcxFOn1-5",
        "colab_type": "text"
      },
      "source": [
        "**Handling Outliers**"
      ]
    },
    {
      "cell_type": "markdown",
      "metadata": {
        "id": "1rtRb8oLn3su",
        "colab_type": "text"
      },
      "source": [
        "**Binning**"
      ]
    },
    {
      "cell_type": "markdown",
      "metadata": {
        "id": "5yRaxoO2wIv-",
        "colab_type": "text"
      },
      "source": [
        "**log transformation**"
      ]
    },
    {
      "cell_type": "code",
      "metadata": {
        "id": "UnXdZ2E0H0ee",
        "colab_type": "code",
        "colab": {}
      },
      "source": [
        "# run the model after log transfromation check the improvmet"
      ],
      "execution_count": 0,
      "outputs": []
    },
    {
      "cell_type": "markdown",
      "metadata": {
        "id": "YAxQuodqwMsO",
        "colab_type": "text"
      },
      "source": [
        "**one hot encoding**"
      ]
    },
    {
      "cell_type": "code",
      "metadata": {
        "id": "SBCoM3HLwQsG",
        "colab_type": "code",
        "outputId": "2ded6762-f7a9-4989-d56b-df2f0ce185b1",
        "colab": {
          "base_uri": "https://localhost:8080/",
          "height": 224
        }
      },
      "source": [
        "data.head()"
      ],
      "execution_count": 96,
      "outputs": [
        {
          "output_type": "execute_result",
          "data": {
            "text/html": [
              "<div>\n",
              "<style scoped>\n",
              "    .dataframe tbody tr th:only-of-type {\n",
              "        vertical-align: middle;\n",
              "    }\n",
              "\n",
              "    .dataframe tbody tr th {\n",
              "        vertical-align: top;\n",
              "    }\n",
              "\n",
              "    .dataframe thead th {\n",
              "        text-align: right;\n",
              "    }\n",
              "</style>\n",
              "<table border=\"1\" class=\"dataframe\">\n",
              "  <thead>\n",
              "    <tr style=\"text-align: right;\">\n",
              "      <th></th>\n",
              "      <th>age</th>\n",
              "      <th>job</th>\n",
              "      <th>marital</th>\n",
              "      <th>education</th>\n",
              "      <th>default</th>\n",
              "      <th>housing</th>\n",
              "      <th>loan</th>\n",
              "      <th>contact</th>\n",
              "      <th>month</th>\n",
              "      <th>day_of_week</th>\n",
              "      <th>duration</th>\n",
              "      <th>campaign</th>\n",
              "      <th>pdays</th>\n",
              "      <th>previous</th>\n",
              "      <th>poutcome</th>\n",
              "      <th>emp.var.rate</th>\n",
              "      <th>cons.price.idx</th>\n",
              "      <th>cons.conf.idx</th>\n",
              "      <th>euribor3m</th>\n",
              "      <th>nr.employed</th>\n",
              "      <th>y</th>\n",
              "    </tr>\n",
              "  </thead>\n",
              "  <tbody>\n",
              "    <tr>\n",
              "      <th>0</th>\n",
              "      <td>56</td>\n",
              "      <td>housemaid</td>\n",
              "      <td>married</td>\n",
              "      <td>basic.4y</td>\n",
              "      <td>no</td>\n",
              "      <td>no</td>\n",
              "      <td>no</td>\n",
              "      <td>telephone</td>\n",
              "      <td>may</td>\n",
              "      <td>mon</td>\n",
              "      <td>261</td>\n",
              "      <td>1</td>\n",
              "      <td>999</td>\n",
              "      <td>0</td>\n",
              "      <td>nonexistent</td>\n",
              "      <td>1.1</td>\n",
              "      <td>93.994</td>\n",
              "      <td>-36.4</td>\n",
              "      <td>4.857</td>\n",
              "      <td>5191.0</td>\n",
              "      <td>no</td>\n",
              "    </tr>\n",
              "    <tr>\n",
              "      <th>1</th>\n",
              "      <td>57</td>\n",
              "      <td>services</td>\n",
              "      <td>married</td>\n",
              "      <td>high.school</td>\n",
              "      <td>unknown</td>\n",
              "      <td>no</td>\n",
              "      <td>no</td>\n",
              "      <td>telephone</td>\n",
              "      <td>may</td>\n",
              "      <td>mon</td>\n",
              "      <td>149</td>\n",
              "      <td>1</td>\n",
              "      <td>999</td>\n",
              "      <td>0</td>\n",
              "      <td>nonexistent</td>\n",
              "      <td>1.1</td>\n",
              "      <td>93.994</td>\n",
              "      <td>-36.4</td>\n",
              "      <td>4.857</td>\n",
              "      <td>5191.0</td>\n",
              "      <td>no</td>\n",
              "    </tr>\n",
              "    <tr>\n",
              "      <th>2</th>\n",
              "      <td>37</td>\n",
              "      <td>services</td>\n",
              "      <td>married</td>\n",
              "      <td>high.school</td>\n",
              "      <td>no</td>\n",
              "      <td>yes</td>\n",
              "      <td>no</td>\n",
              "      <td>telephone</td>\n",
              "      <td>may</td>\n",
              "      <td>mon</td>\n",
              "      <td>226</td>\n",
              "      <td>1</td>\n",
              "      <td>999</td>\n",
              "      <td>0</td>\n",
              "      <td>nonexistent</td>\n",
              "      <td>1.1</td>\n",
              "      <td>93.994</td>\n",
              "      <td>-36.4</td>\n",
              "      <td>4.857</td>\n",
              "      <td>5191.0</td>\n",
              "      <td>no</td>\n",
              "    </tr>\n",
              "    <tr>\n",
              "      <th>3</th>\n",
              "      <td>40</td>\n",
              "      <td>admin.</td>\n",
              "      <td>married</td>\n",
              "      <td>basic.6y</td>\n",
              "      <td>no</td>\n",
              "      <td>no</td>\n",
              "      <td>no</td>\n",
              "      <td>telephone</td>\n",
              "      <td>may</td>\n",
              "      <td>mon</td>\n",
              "      <td>151</td>\n",
              "      <td>1</td>\n",
              "      <td>999</td>\n",
              "      <td>0</td>\n",
              "      <td>nonexistent</td>\n",
              "      <td>1.1</td>\n",
              "      <td>93.994</td>\n",
              "      <td>-36.4</td>\n",
              "      <td>4.857</td>\n",
              "      <td>5191.0</td>\n",
              "      <td>no</td>\n",
              "    </tr>\n",
              "    <tr>\n",
              "      <th>4</th>\n",
              "      <td>56</td>\n",
              "      <td>services</td>\n",
              "      <td>married</td>\n",
              "      <td>high.school</td>\n",
              "      <td>no</td>\n",
              "      <td>no</td>\n",
              "      <td>yes</td>\n",
              "      <td>telephone</td>\n",
              "      <td>may</td>\n",
              "      <td>mon</td>\n",
              "      <td>307</td>\n",
              "      <td>1</td>\n",
              "      <td>999</td>\n",
              "      <td>0</td>\n",
              "      <td>nonexistent</td>\n",
              "      <td>1.1</td>\n",
              "      <td>93.994</td>\n",
              "      <td>-36.4</td>\n",
              "      <td>4.857</td>\n",
              "      <td>5191.0</td>\n",
              "      <td>no</td>\n",
              "    </tr>\n",
              "  </tbody>\n",
              "</table>\n",
              "</div>"
            ],
            "text/plain": [
              "   age        job  marital  ... euribor3m nr.employed   y\n",
              "0   56  housemaid  married  ...     4.857      5191.0  no\n",
              "1   57   services  married  ...     4.857      5191.0  no\n",
              "2   37   services  married  ...     4.857      5191.0  no\n",
              "3   40     admin.  married  ...     4.857      5191.0  no\n",
              "4   56   services  married  ...     4.857      5191.0  no\n",
              "\n",
              "[5 rows x 21 columns]"
            ]
          },
          "metadata": {
            "tags": []
          },
          "execution_count": 96
        }
      ]
    },
    {
      "cell_type": "code",
      "metadata": {
        "id": "Y87-hInX9vR1",
        "colab_type": "code",
        "colab": {
          "base_uri": "https://localhost:8080/",
          "height": 221
        },
        "outputId": "c37b5150-0074-4af0-9252-540ba0a391d6"
      },
      "source": [
        "data['y']"
      ],
      "execution_count": 97,
      "outputs": [
        {
          "output_type": "execute_result",
          "data": {
            "text/plain": [
              "0         no\n",
              "1         no\n",
              "2         no\n",
              "3         no\n",
              "4         no\n",
              "        ... \n",
              "41183    yes\n",
              "41184     no\n",
              "41185     no\n",
              "41186    yes\n",
              "41187     no\n",
              "Name: y, Length: 41188, dtype: object"
            ]
          },
          "metadata": {
            "tags": []
          },
          "execution_count": 97
        }
      ]
    },
    {
      "cell_type": "code",
      "metadata": {
        "id": "V1kSJvpb9_sg",
        "colab_type": "code",
        "colab": {}
      },
      "source": [
        "##############################################  GETTING X Y DATA   #############################################"
      ],
      "execution_count": 0,
      "outputs": []
    },
    {
      "cell_type": "code",
      "metadata": {
        "id": "-3HRrdBDgNpj",
        "colab_type": "code",
        "colab": {}
      },
      "source": [
        "data2=data.drop('y',1,inplace=False)  # here we gating x data\n",
        "X = data2"
      ],
      "execution_count": 0,
      "outputs": []
    },
    {
      "cell_type": "code",
      "metadata": {
        "id": "__-uWfv2AiGN",
        "colab_type": "code",
        "colab": {
          "base_uri": "https://localhost:8080/",
          "height": 34
        },
        "outputId": "dc4f7e14-59bf-48e3-d88a-0a3d92b8a2e1"
      },
      "source": [
        "X.shape"
      ],
      "execution_count": 100,
      "outputs": [
        {
          "output_type": "execute_result",
          "data": {
            "text/plain": [
              "(41188, 20)"
            ]
          },
          "metadata": {
            "tags": []
          },
          "execution_count": 100
        }
      ]
    },
    {
      "cell_type": "code",
      "metadata": {
        "id": "A_MFVmOP93Wu",
        "colab_type": "code",
        "colab": {}
      },
      "source": [
        "Y = data['y']"
      ],
      "execution_count": 0,
      "outputs": []
    },
    {
      "cell_type": "code",
      "metadata": {
        "id": "IeSBIAmSjI43",
        "colab_type": "code",
        "outputId": "f65ee2a9-8792-4fff-b633-1fbaef043a89",
        "colab": {
          "base_uri": "https://localhost:8080/",
          "height": 224
        }
      },
      "source": [
        "data2.head()"
      ],
      "execution_count": 102,
      "outputs": [
        {
          "output_type": "execute_result",
          "data": {
            "text/html": [
              "<div>\n",
              "<style scoped>\n",
              "    .dataframe tbody tr th:only-of-type {\n",
              "        vertical-align: middle;\n",
              "    }\n",
              "\n",
              "    .dataframe tbody tr th {\n",
              "        vertical-align: top;\n",
              "    }\n",
              "\n",
              "    .dataframe thead th {\n",
              "        text-align: right;\n",
              "    }\n",
              "</style>\n",
              "<table border=\"1\" class=\"dataframe\">\n",
              "  <thead>\n",
              "    <tr style=\"text-align: right;\">\n",
              "      <th></th>\n",
              "      <th>age</th>\n",
              "      <th>job</th>\n",
              "      <th>marital</th>\n",
              "      <th>education</th>\n",
              "      <th>default</th>\n",
              "      <th>housing</th>\n",
              "      <th>loan</th>\n",
              "      <th>contact</th>\n",
              "      <th>month</th>\n",
              "      <th>day_of_week</th>\n",
              "      <th>duration</th>\n",
              "      <th>campaign</th>\n",
              "      <th>pdays</th>\n",
              "      <th>previous</th>\n",
              "      <th>poutcome</th>\n",
              "      <th>emp.var.rate</th>\n",
              "      <th>cons.price.idx</th>\n",
              "      <th>cons.conf.idx</th>\n",
              "      <th>euribor3m</th>\n",
              "      <th>nr.employed</th>\n",
              "    </tr>\n",
              "  </thead>\n",
              "  <tbody>\n",
              "    <tr>\n",
              "      <th>0</th>\n",
              "      <td>56</td>\n",
              "      <td>housemaid</td>\n",
              "      <td>married</td>\n",
              "      <td>basic.4y</td>\n",
              "      <td>no</td>\n",
              "      <td>no</td>\n",
              "      <td>no</td>\n",
              "      <td>telephone</td>\n",
              "      <td>may</td>\n",
              "      <td>mon</td>\n",
              "      <td>261</td>\n",
              "      <td>1</td>\n",
              "      <td>999</td>\n",
              "      <td>0</td>\n",
              "      <td>nonexistent</td>\n",
              "      <td>1.1</td>\n",
              "      <td>93.994</td>\n",
              "      <td>-36.4</td>\n",
              "      <td>4.857</td>\n",
              "      <td>5191.0</td>\n",
              "    </tr>\n",
              "    <tr>\n",
              "      <th>1</th>\n",
              "      <td>57</td>\n",
              "      <td>services</td>\n",
              "      <td>married</td>\n",
              "      <td>high.school</td>\n",
              "      <td>unknown</td>\n",
              "      <td>no</td>\n",
              "      <td>no</td>\n",
              "      <td>telephone</td>\n",
              "      <td>may</td>\n",
              "      <td>mon</td>\n",
              "      <td>149</td>\n",
              "      <td>1</td>\n",
              "      <td>999</td>\n",
              "      <td>0</td>\n",
              "      <td>nonexistent</td>\n",
              "      <td>1.1</td>\n",
              "      <td>93.994</td>\n",
              "      <td>-36.4</td>\n",
              "      <td>4.857</td>\n",
              "      <td>5191.0</td>\n",
              "    </tr>\n",
              "    <tr>\n",
              "      <th>2</th>\n",
              "      <td>37</td>\n",
              "      <td>services</td>\n",
              "      <td>married</td>\n",
              "      <td>high.school</td>\n",
              "      <td>no</td>\n",
              "      <td>yes</td>\n",
              "      <td>no</td>\n",
              "      <td>telephone</td>\n",
              "      <td>may</td>\n",
              "      <td>mon</td>\n",
              "      <td>226</td>\n",
              "      <td>1</td>\n",
              "      <td>999</td>\n",
              "      <td>0</td>\n",
              "      <td>nonexistent</td>\n",
              "      <td>1.1</td>\n",
              "      <td>93.994</td>\n",
              "      <td>-36.4</td>\n",
              "      <td>4.857</td>\n",
              "      <td>5191.0</td>\n",
              "    </tr>\n",
              "    <tr>\n",
              "      <th>3</th>\n",
              "      <td>40</td>\n",
              "      <td>admin.</td>\n",
              "      <td>married</td>\n",
              "      <td>basic.6y</td>\n",
              "      <td>no</td>\n",
              "      <td>no</td>\n",
              "      <td>no</td>\n",
              "      <td>telephone</td>\n",
              "      <td>may</td>\n",
              "      <td>mon</td>\n",
              "      <td>151</td>\n",
              "      <td>1</td>\n",
              "      <td>999</td>\n",
              "      <td>0</td>\n",
              "      <td>nonexistent</td>\n",
              "      <td>1.1</td>\n",
              "      <td>93.994</td>\n",
              "      <td>-36.4</td>\n",
              "      <td>4.857</td>\n",
              "      <td>5191.0</td>\n",
              "    </tr>\n",
              "    <tr>\n",
              "      <th>4</th>\n",
              "      <td>56</td>\n",
              "      <td>services</td>\n",
              "      <td>married</td>\n",
              "      <td>high.school</td>\n",
              "      <td>no</td>\n",
              "      <td>no</td>\n",
              "      <td>yes</td>\n",
              "      <td>telephone</td>\n",
              "      <td>may</td>\n",
              "      <td>mon</td>\n",
              "      <td>307</td>\n",
              "      <td>1</td>\n",
              "      <td>999</td>\n",
              "      <td>0</td>\n",
              "      <td>nonexistent</td>\n",
              "      <td>1.1</td>\n",
              "      <td>93.994</td>\n",
              "      <td>-36.4</td>\n",
              "      <td>4.857</td>\n",
              "      <td>5191.0</td>\n",
              "    </tr>\n",
              "  </tbody>\n",
              "</table>\n",
              "</div>"
            ],
            "text/plain": [
              "   age        job  marital  ... cons.conf.idx euribor3m nr.employed\n",
              "0   56  housemaid  married  ...         -36.4     4.857      5191.0\n",
              "1   57   services  married  ...         -36.4     4.857      5191.0\n",
              "2   37   services  married  ...         -36.4     4.857      5191.0\n",
              "3   40     admin.  married  ...         -36.4     4.857      5191.0\n",
              "4   56   services  married  ...         -36.4     4.857      5191.0\n",
              "\n",
              "[5 rows x 20 columns]"
            ]
          },
          "metadata": {
            "tags": []
          },
          "execution_count": 102
        }
      ]
    },
    {
      "cell_type": "code",
      "metadata": {
        "id": "gpxBSss4yzCN",
        "colab_type": "code",
        "outputId": "e7cb5371-d351-46db-9c92-fab3cc041c4f",
        "colab": {
          "base_uri": "https://localhost:8080/",
          "height": 391
        }
      },
      "source": [
        "data.dtypes                 # if the datatype is oblect then its a categorial data"
      ],
      "execution_count": 103,
      "outputs": [
        {
          "output_type": "execute_result",
          "data": {
            "text/plain": [
              "age                 int64\n",
              "job                object\n",
              "marital            object\n",
              "education          object\n",
              "default            object\n",
              "housing            object\n",
              "loan               object\n",
              "contact            object\n",
              "month              object\n",
              "day_of_week        object\n",
              "duration            int64\n",
              "campaign            int64\n",
              "pdays               int64\n",
              "previous            int64\n",
              "poutcome           object\n",
              "emp.var.rate      float64\n",
              "cons.price.idx    float64\n",
              "cons.conf.idx     float64\n",
              "euribor3m         float64\n",
              "nr.employed       float64\n",
              "y                  object\n",
              "dtype: object"
            ]
          },
          "metadata": {
            "tags": []
          },
          "execution_count": 103
        }
      ]
    },
    {
      "cell_type": "code",
      "metadata": {
        "id": "Uet_4I9NzrVD",
        "colab_type": "code",
        "outputId": "182b4f80-9779-457a-8d3f-6e0f8ba792c1",
        "colab": {
          "base_uri": "https://localhost:8080/",
          "height": 34
        }
      },
      "source": [
        "data.shape"
      ],
      "execution_count": 104,
      "outputs": [
        {
          "output_type": "execute_result",
          "data": {
            "text/plain": [
              "(41188, 21)"
            ]
          },
          "metadata": {
            "tags": []
          },
          "execution_count": 104
        }
      ]
    },
    {
      "cell_type": "code",
      "metadata": {
        "id": "JEF04A-00PQC",
        "colab_type": "code",
        "colab": {}
      },
      "source": [
        "cat_features=[i for i in data.columns if data.dtypes[i]=='object']"
      ],
      "execution_count": 0,
      "outputs": []
    },
    {
      "cell_type": "code",
      "metadata": {
        "id": "H6JpqR2jjjbs",
        "colab_type": "code",
        "colab": {}
      },
      "source": [
        "cat_features1=[i for i in X.columns if data.dtypes[i]=='object']           ###########################################"
      ],
      "execution_count": 0,
      "outputs": []
    },
    {
      "cell_type": "code",
      "metadata": {
        "id": "1T0Txrvl0X1i",
        "colab_type": "code",
        "outputId": "4f8b0610-b160-41f0-cc1f-48dcac38ac1d",
        "colab": {
          "base_uri": "https://localhost:8080/",
          "height": 204
        }
      },
      "source": [
        "cat_features"
      ],
      "execution_count": 107,
      "outputs": [
        {
          "output_type": "execute_result",
          "data": {
            "text/plain": [
              "['job',\n",
              " 'marital',\n",
              " 'education',\n",
              " 'default',\n",
              " 'housing',\n",
              " 'loan',\n",
              " 'contact',\n",
              " 'month',\n",
              " 'day_of_week',\n",
              " 'poutcome',\n",
              " 'y']"
            ]
          },
          "metadata": {
            "tags": []
          },
          "execution_count": 107
        }
      ]
    },
    {
      "cell_type": "code",
      "metadata": {
        "id": "9o3CfezoSLfC",
        "colab_type": "code",
        "colab": {
          "base_uri": "https://localhost:8080/",
          "height": 187
        },
        "outputId": "cf72c102-d22f-43a2-a6b0-71e73530fada"
      },
      "source": [
        "cat_features1"
      ],
      "execution_count": 108,
      "outputs": [
        {
          "output_type": "execute_result",
          "data": {
            "text/plain": [
              "['job',\n",
              " 'marital',\n",
              " 'education',\n",
              " 'default',\n",
              " 'housing',\n",
              " 'loan',\n",
              " 'contact',\n",
              " 'month',\n",
              " 'day_of_week',\n",
              " 'poutcome']"
            ]
          },
          "metadata": {
            "tags": []
          },
          "execution_count": 108
        }
      ]
    },
    {
      "cell_type": "code",
      "metadata": {
        "id": "bhEt0DaS0z1K",
        "colab_type": "code",
        "colab": {}
      },
      "source": [
        "final_data = data"
      ],
      "execution_count": 0,
      "outputs": []
    },
    {
      "cell_type": "code",
      "metadata": {
        "id": "VW_tDqnx0Z96",
        "colab_type": "code",
        "colab": {}
      },
      "source": [
        "def category_onehot_multcols(multcolumns):\n",
        "    df_final=final_data\n",
        "    i=0\n",
        "    for fields in multcolumns:\n",
        "        \n",
        "        print(fields)\n",
        "        df1=pd.get_dummies(final_data[fields])\n",
        "        \n",
        "        final_data.drop([fields],axis=1,inplace=True)\n",
        "        if i==0:\n",
        "            df_final=df1.copy()\n",
        "        else:\n",
        "            \n",
        "            df_final=pd.concat([df_final,df1],axis=1)\n",
        "        i=i+1\n",
        "       \n",
        "        \n",
        "    df_final=pd.concat([final_data,df_final],axis=1)\n",
        "        \n",
        "    return df_final"
      ],
      "execution_count": 0,
      "outputs": []
    },
    {
      "cell_type": "code",
      "metadata": {
        "id": "swwt6_Nm0msK",
        "colab_type": "code",
        "outputId": "5e673e53-add8-4be1-f4b0-ff42b02999be",
        "colab": {
          "base_uri": "https://localhost:8080/",
          "height": 204
        }
      },
      "source": [
        "final_data=category_onehot_multcols(cat_features)"
      ],
      "execution_count": 111,
      "outputs": [
        {
          "output_type": "stream",
          "text": [
            "job\n",
            "marital\n",
            "education\n",
            "default\n",
            "housing\n",
            "loan\n",
            "contact\n",
            "month\n",
            "day_of_week\n",
            "poutcome\n",
            "y\n"
          ],
          "name": "stdout"
        }
      ]
    },
    {
      "cell_type": "code",
      "metadata": {
        "id": "LPIW4WpNAxNz",
        "colab_type": "code",
        "colab": {}
      },
      "source": [
        "def category_onehot_multcols(multcolumns):\n",
        "    df_final=X\n",
        "    i=0\n",
        "    for fields in multcolumns:\n",
        "        \n",
        "        print(fields)\n",
        "        df1=pd.get_dummies(X[fields])\n",
        "        \n",
        "        X.drop([fields],axis=1,inplace=True)\n",
        "        if i==0:\n",
        "            df_final=df1.copy()\n",
        "        else:\n",
        "            \n",
        "            df_final=pd.concat([df_final,df1],axis=1)\n",
        "        i=i+1\n",
        "       \n",
        "        \n",
        "    df_final=pd.concat([X,df_final],axis=1)\n",
        "        \n",
        "    return df_final"
      ],
      "execution_count": 0,
      "outputs": []
    },
    {
      "cell_type": "code",
      "metadata": {
        "id": "6sIrPga2AuEy",
        "colab_type": "code",
        "colab": {
          "base_uri": "https://localhost:8080/",
          "height": 187
        },
        "outputId": "a3302ee2-82fe-41b6-e1e7-cee871ce64d6"
      },
      "source": [
        "X=category_onehot_multcols(cat_features1)"
      ],
      "execution_count": 113,
      "outputs": [
        {
          "output_type": "stream",
          "text": [
            "job\n",
            "marital\n",
            "education\n",
            "default\n",
            "housing\n",
            "loan\n",
            "contact\n",
            "month\n",
            "day_of_week\n",
            "poutcome\n"
          ],
          "name": "stdout"
        }
      ]
    },
    {
      "cell_type": "code",
      "metadata": {
        "id": "dOVA4XFJ0_v6",
        "colab_type": "code",
        "colab": {
          "base_uri": "https://localhost:8080/",
          "height": 34
        },
        "outputId": "667485ca-c5c5-428b-b60a-3751446e1ae8"
      },
      "source": [
        "final_data.shape   # data shape changed due to drop_first = True"
      ],
      "execution_count": 114,
      "outputs": [
        {
          "output_type": "execute_result",
          "data": {
            "text/plain": [
              "(41188, 65)"
            ]
          },
          "metadata": {
            "tags": []
          },
          "execution_count": 114
        }
      ]
    },
    {
      "cell_type": "code",
      "metadata": {
        "id": "benQHOz9lthI",
        "colab_type": "code",
        "colab": {
          "base_uri": "https://localhost:8080/",
          "height": 221
        },
        "outputId": "090887dc-e381-4fb3-fb4d-fb7ee4f17024"
      },
      "source": [
        "X.dtypes"
      ],
      "execution_count": 115,
      "outputs": [
        {
          "output_type": "execute_result",
          "data": {
            "text/plain": [
              "age            int64\n",
              "duration       int64\n",
              "campaign       int64\n",
              "pdays          int64\n",
              "previous       int64\n",
              "               ...  \n",
              "tue            uint8\n",
              "wed            uint8\n",
              "failure        uint8\n",
              "nonexistent    uint8\n",
              "success        uint8\n",
              "Length: 63, dtype: object"
            ]
          },
          "metadata": {
            "tags": []
          },
          "execution_count": 115
        }
      ]
    },
    {
      "cell_type": "markdown",
      "metadata": {
        "id": "Poplo7er1FZD",
        "colab_type": "text"
      },
      "source": [
        "after one hot encoding (41188, 21) changes to (41188, 54)"
      ]
    },
    {
      "cell_type": "code",
      "metadata": {
        "id": "WRGe_UCe7Ttk",
        "colab_type": "code",
        "colab": {
          "base_uri": "https://localhost:8080/",
          "height": 241
        },
        "outputId": "8f11fa16-6f1c-49e6-e988-e4824fc84b81"
      },
      "source": [
        "final_data.head()  # (41188, 21) changes to (41188, 54)"
      ],
      "execution_count": 116,
      "outputs": [
        {
          "output_type": "execute_result",
          "data": {
            "text/html": [
              "<div>\n",
              "<style scoped>\n",
              "    .dataframe tbody tr th:only-of-type {\n",
              "        vertical-align: middle;\n",
              "    }\n",
              "\n",
              "    .dataframe tbody tr th {\n",
              "        vertical-align: top;\n",
              "    }\n",
              "\n",
              "    .dataframe thead th {\n",
              "        text-align: right;\n",
              "    }\n",
              "</style>\n",
              "<table border=\"1\" class=\"dataframe\">\n",
              "  <thead>\n",
              "    <tr style=\"text-align: right;\">\n",
              "      <th></th>\n",
              "      <th>age</th>\n",
              "      <th>duration</th>\n",
              "      <th>campaign</th>\n",
              "      <th>pdays</th>\n",
              "      <th>previous</th>\n",
              "      <th>emp.var.rate</th>\n",
              "      <th>cons.price.idx</th>\n",
              "      <th>cons.conf.idx</th>\n",
              "      <th>euribor3m</th>\n",
              "      <th>nr.employed</th>\n",
              "      <th>admin.</th>\n",
              "      <th>blue-collar</th>\n",
              "      <th>entrepreneur</th>\n",
              "      <th>housemaid</th>\n",
              "      <th>management</th>\n",
              "      <th>retired</th>\n",
              "      <th>self-employed</th>\n",
              "      <th>services</th>\n",
              "      <th>student</th>\n",
              "      <th>technician</th>\n",
              "      <th>unemployed</th>\n",
              "      <th>unknown</th>\n",
              "      <th>divorced</th>\n",
              "      <th>married</th>\n",
              "      <th>single</th>\n",
              "      <th>unknown</th>\n",
              "      <th>basic.4y</th>\n",
              "      <th>basic.6y</th>\n",
              "      <th>basic.9y</th>\n",
              "      <th>high.school</th>\n",
              "      <th>illiterate</th>\n",
              "      <th>professional.course</th>\n",
              "      <th>university.degree</th>\n",
              "      <th>unknown</th>\n",
              "      <th>no</th>\n",
              "      <th>unknown</th>\n",
              "      <th>yes</th>\n",
              "      <th>no</th>\n",
              "      <th>unknown</th>\n",
              "      <th>yes</th>\n",
              "      <th>no</th>\n",
              "      <th>unknown</th>\n",
              "      <th>yes</th>\n",
              "      <th>cellular</th>\n",
              "      <th>telephone</th>\n",
              "      <th>apr</th>\n",
              "      <th>aug</th>\n",
              "      <th>dec</th>\n",
              "      <th>jul</th>\n",
              "      <th>jun</th>\n",
              "      <th>mar</th>\n",
              "      <th>may</th>\n",
              "      <th>nov</th>\n",
              "      <th>oct</th>\n",
              "      <th>sep</th>\n",
              "      <th>fri</th>\n",
              "      <th>mon</th>\n",
              "      <th>thu</th>\n",
              "      <th>tue</th>\n",
              "      <th>wed</th>\n",
              "      <th>failure</th>\n",
              "      <th>nonexistent</th>\n",
              "      <th>success</th>\n",
              "      <th>no</th>\n",
              "      <th>yes</th>\n",
              "    </tr>\n",
              "  </thead>\n",
              "  <tbody>\n",
              "    <tr>\n",
              "      <th>0</th>\n",
              "      <td>56</td>\n",
              "      <td>261</td>\n",
              "      <td>1</td>\n",
              "      <td>999</td>\n",
              "      <td>0</td>\n",
              "      <td>1.1</td>\n",
              "      <td>93.994</td>\n",
              "      <td>-36.4</td>\n",
              "      <td>4.857</td>\n",
              "      <td>5191.0</td>\n",
              "      <td>0</td>\n",
              "      <td>0</td>\n",
              "      <td>0</td>\n",
              "      <td>1</td>\n",
              "      <td>0</td>\n",
              "      <td>0</td>\n",
              "      <td>0</td>\n",
              "      <td>0</td>\n",
              "      <td>0</td>\n",
              "      <td>0</td>\n",
              "      <td>0</td>\n",
              "      <td>0</td>\n",
              "      <td>0</td>\n",
              "      <td>1</td>\n",
              "      <td>0</td>\n",
              "      <td>0</td>\n",
              "      <td>1</td>\n",
              "      <td>0</td>\n",
              "      <td>0</td>\n",
              "      <td>0</td>\n",
              "      <td>0</td>\n",
              "      <td>0</td>\n",
              "      <td>0</td>\n",
              "      <td>0</td>\n",
              "      <td>1</td>\n",
              "      <td>0</td>\n",
              "      <td>0</td>\n",
              "      <td>1</td>\n",
              "      <td>0</td>\n",
              "      <td>0</td>\n",
              "      <td>1</td>\n",
              "      <td>0</td>\n",
              "      <td>0</td>\n",
              "      <td>0</td>\n",
              "      <td>1</td>\n",
              "      <td>0</td>\n",
              "      <td>0</td>\n",
              "      <td>0</td>\n",
              "      <td>0</td>\n",
              "      <td>0</td>\n",
              "      <td>0</td>\n",
              "      <td>1</td>\n",
              "      <td>0</td>\n",
              "      <td>0</td>\n",
              "      <td>0</td>\n",
              "      <td>0</td>\n",
              "      <td>1</td>\n",
              "      <td>0</td>\n",
              "      <td>0</td>\n",
              "      <td>0</td>\n",
              "      <td>0</td>\n",
              "      <td>1</td>\n",
              "      <td>0</td>\n",
              "      <td>1</td>\n",
              "      <td>0</td>\n",
              "    </tr>\n",
              "    <tr>\n",
              "      <th>1</th>\n",
              "      <td>57</td>\n",
              "      <td>149</td>\n",
              "      <td>1</td>\n",
              "      <td>999</td>\n",
              "      <td>0</td>\n",
              "      <td>1.1</td>\n",
              "      <td>93.994</td>\n",
              "      <td>-36.4</td>\n",
              "      <td>4.857</td>\n",
              "      <td>5191.0</td>\n",
              "      <td>0</td>\n",
              "      <td>0</td>\n",
              "      <td>0</td>\n",
              "      <td>0</td>\n",
              "      <td>0</td>\n",
              "      <td>0</td>\n",
              "      <td>0</td>\n",
              "      <td>1</td>\n",
              "      <td>0</td>\n",
              "      <td>0</td>\n",
              "      <td>0</td>\n",
              "      <td>0</td>\n",
              "      <td>0</td>\n",
              "      <td>1</td>\n",
              "      <td>0</td>\n",
              "      <td>0</td>\n",
              "      <td>0</td>\n",
              "      <td>0</td>\n",
              "      <td>0</td>\n",
              "      <td>1</td>\n",
              "      <td>0</td>\n",
              "      <td>0</td>\n",
              "      <td>0</td>\n",
              "      <td>0</td>\n",
              "      <td>0</td>\n",
              "      <td>1</td>\n",
              "      <td>0</td>\n",
              "      <td>1</td>\n",
              "      <td>0</td>\n",
              "      <td>0</td>\n",
              "      <td>1</td>\n",
              "      <td>0</td>\n",
              "      <td>0</td>\n",
              "      <td>0</td>\n",
              "      <td>1</td>\n",
              "      <td>0</td>\n",
              "      <td>0</td>\n",
              "      <td>0</td>\n",
              "      <td>0</td>\n",
              "      <td>0</td>\n",
              "      <td>0</td>\n",
              "      <td>1</td>\n",
              "      <td>0</td>\n",
              "      <td>0</td>\n",
              "      <td>0</td>\n",
              "      <td>0</td>\n",
              "      <td>1</td>\n",
              "      <td>0</td>\n",
              "      <td>0</td>\n",
              "      <td>0</td>\n",
              "      <td>0</td>\n",
              "      <td>1</td>\n",
              "      <td>0</td>\n",
              "      <td>1</td>\n",
              "      <td>0</td>\n",
              "    </tr>\n",
              "    <tr>\n",
              "      <th>2</th>\n",
              "      <td>37</td>\n",
              "      <td>226</td>\n",
              "      <td>1</td>\n",
              "      <td>999</td>\n",
              "      <td>0</td>\n",
              "      <td>1.1</td>\n",
              "      <td>93.994</td>\n",
              "      <td>-36.4</td>\n",
              "      <td>4.857</td>\n",
              "      <td>5191.0</td>\n",
              "      <td>0</td>\n",
              "      <td>0</td>\n",
              "      <td>0</td>\n",
              "      <td>0</td>\n",
              "      <td>0</td>\n",
              "      <td>0</td>\n",
              "      <td>0</td>\n",
              "      <td>1</td>\n",
              "      <td>0</td>\n",
              "      <td>0</td>\n",
              "      <td>0</td>\n",
              "      <td>0</td>\n",
              "      <td>0</td>\n",
              "      <td>1</td>\n",
              "      <td>0</td>\n",
              "      <td>0</td>\n",
              "      <td>0</td>\n",
              "      <td>0</td>\n",
              "      <td>0</td>\n",
              "      <td>1</td>\n",
              "      <td>0</td>\n",
              "      <td>0</td>\n",
              "      <td>0</td>\n",
              "      <td>0</td>\n",
              "      <td>1</td>\n",
              "      <td>0</td>\n",
              "      <td>0</td>\n",
              "      <td>0</td>\n",
              "      <td>0</td>\n",
              "      <td>1</td>\n",
              "      <td>1</td>\n",
              "      <td>0</td>\n",
              "      <td>0</td>\n",
              "      <td>0</td>\n",
              "      <td>1</td>\n",
              "      <td>0</td>\n",
              "      <td>0</td>\n",
              "      <td>0</td>\n",
              "      <td>0</td>\n",
              "      <td>0</td>\n",
              "      <td>0</td>\n",
              "      <td>1</td>\n",
              "      <td>0</td>\n",
              "      <td>0</td>\n",
              "      <td>0</td>\n",
              "      <td>0</td>\n",
              "      <td>1</td>\n",
              "      <td>0</td>\n",
              "      <td>0</td>\n",
              "      <td>0</td>\n",
              "      <td>0</td>\n",
              "      <td>1</td>\n",
              "      <td>0</td>\n",
              "      <td>1</td>\n",
              "      <td>0</td>\n",
              "    </tr>\n",
              "    <tr>\n",
              "      <th>3</th>\n",
              "      <td>40</td>\n",
              "      <td>151</td>\n",
              "      <td>1</td>\n",
              "      <td>999</td>\n",
              "      <td>0</td>\n",
              "      <td>1.1</td>\n",
              "      <td>93.994</td>\n",
              "      <td>-36.4</td>\n",
              "      <td>4.857</td>\n",
              "      <td>5191.0</td>\n",
              "      <td>1</td>\n",
              "      <td>0</td>\n",
              "      <td>0</td>\n",
              "      <td>0</td>\n",
              "      <td>0</td>\n",
              "      <td>0</td>\n",
              "      <td>0</td>\n",
              "      <td>0</td>\n",
              "      <td>0</td>\n",
              "      <td>0</td>\n",
              "      <td>0</td>\n",
              "      <td>0</td>\n",
              "      <td>0</td>\n",
              "      <td>1</td>\n",
              "      <td>0</td>\n",
              "      <td>0</td>\n",
              "      <td>0</td>\n",
              "      <td>1</td>\n",
              "      <td>0</td>\n",
              "      <td>0</td>\n",
              "      <td>0</td>\n",
              "      <td>0</td>\n",
              "      <td>0</td>\n",
              "      <td>0</td>\n",
              "      <td>1</td>\n",
              "      <td>0</td>\n",
              "      <td>0</td>\n",
              "      <td>1</td>\n",
              "      <td>0</td>\n",
              "      <td>0</td>\n",
              "      <td>1</td>\n",
              "      <td>0</td>\n",
              "      <td>0</td>\n",
              "      <td>0</td>\n",
              "      <td>1</td>\n",
              "      <td>0</td>\n",
              "      <td>0</td>\n",
              "      <td>0</td>\n",
              "      <td>0</td>\n",
              "      <td>0</td>\n",
              "      <td>0</td>\n",
              "      <td>1</td>\n",
              "      <td>0</td>\n",
              "      <td>0</td>\n",
              "      <td>0</td>\n",
              "      <td>0</td>\n",
              "      <td>1</td>\n",
              "      <td>0</td>\n",
              "      <td>0</td>\n",
              "      <td>0</td>\n",
              "      <td>0</td>\n",
              "      <td>1</td>\n",
              "      <td>0</td>\n",
              "      <td>1</td>\n",
              "      <td>0</td>\n",
              "    </tr>\n",
              "    <tr>\n",
              "      <th>4</th>\n",
              "      <td>56</td>\n",
              "      <td>307</td>\n",
              "      <td>1</td>\n",
              "      <td>999</td>\n",
              "      <td>0</td>\n",
              "      <td>1.1</td>\n",
              "      <td>93.994</td>\n",
              "      <td>-36.4</td>\n",
              "      <td>4.857</td>\n",
              "      <td>5191.0</td>\n",
              "      <td>0</td>\n",
              "      <td>0</td>\n",
              "      <td>0</td>\n",
              "      <td>0</td>\n",
              "      <td>0</td>\n",
              "      <td>0</td>\n",
              "      <td>0</td>\n",
              "      <td>1</td>\n",
              "      <td>0</td>\n",
              "      <td>0</td>\n",
              "      <td>0</td>\n",
              "      <td>0</td>\n",
              "      <td>0</td>\n",
              "      <td>1</td>\n",
              "      <td>0</td>\n",
              "      <td>0</td>\n",
              "      <td>0</td>\n",
              "      <td>0</td>\n",
              "      <td>0</td>\n",
              "      <td>1</td>\n",
              "      <td>0</td>\n",
              "      <td>0</td>\n",
              "      <td>0</td>\n",
              "      <td>0</td>\n",
              "      <td>1</td>\n",
              "      <td>0</td>\n",
              "      <td>0</td>\n",
              "      <td>1</td>\n",
              "      <td>0</td>\n",
              "      <td>0</td>\n",
              "      <td>0</td>\n",
              "      <td>0</td>\n",
              "      <td>1</td>\n",
              "      <td>0</td>\n",
              "      <td>1</td>\n",
              "      <td>0</td>\n",
              "      <td>0</td>\n",
              "      <td>0</td>\n",
              "      <td>0</td>\n",
              "      <td>0</td>\n",
              "      <td>0</td>\n",
              "      <td>1</td>\n",
              "      <td>0</td>\n",
              "      <td>0</td>\n",
              "      <td>0</td>\n",
              "      <td>0</td>\n",
              "      <td>1</td>\n",
              "      <td>0</td>\n",
              "      <td>0</td>\n",
              "      <td>0</td>\n",
              "      <td>0</td>\n",
              "      <td>1</td>\n",
              "      <td>0</td>\n",
              "      <td>1</td>\n",
              "      <td>0</td>\n",
              "    </tr>\n",
              "  </tbody>\n",
              "</table>\n",
              "</div>"
            ],
            "text/plain": [
              "   age  duration  campaign  pdays  ...  nonexistent  success  no  yes\n",
              "0   56       261         1    999  ...            1        0   1    0\n",
              "1   57       149         1    999  ...            1        0   1    0\n",
              "2   37       226         1    999  ...            1        0   1    0\n",
              "3   40       151         1    999  ...            1        0   1    0\n",
              "4   56       307         1    999  ...            1        0   1    0\n",
              "\n",
              "[5 rows x 65 columns]"
            ]
          },
          "metadata": {
            "tags": []
          },
          "execution_count": 116
        }
      ]
    },
    {
      "cell_type": "code",
      "metadata": {
        "id": "aWrWHYld_t6H",
        "colab_type": "code",
        "colab": {
          "base_uri": "https://localhost:8080/",
          "height": 221
        },
        "outputId": "13e0cde8-c864-487e-f0a2-f0e2528a1667"
      },
      "source": [
        "final_data.columns"
      ],
      "execution_count": 117,
      "outputs": [
        {
          "output_type": "execute_result",
          "data": {
            "text/plain": [
              "Index(['age', 'duration', 'campaign', 'pdays', 'previous', 'emp.var.rate',\n",
              "       'cons.price.idx', 'cons.conf.idx', 'euribor3m', 'nr.employed', 'admin.',\n",
              "       'blue-collar', 'entrepreneur', 'housemaid', 'management', 'retired',\n",
              "       'self-employed', 'services', 'student', 'technician', 'unemployed',\n",
              "       'unknown', 'divorced', 'married', 'single', 'unknown', 'basic.4y',\n",
              "       'basic.6y', 'basic.9y', 'high.school', 'illiterate',\n",
              "       'professional.course', 'university.degree', 'unknown', 'no', 'unknown',\n",
              "       'yes', 'no', 'unknown', 'yes', 'no', 'unknown', 'yes', 'cellular',\n",
              "       'telephone', 'apr', 'aug', 'dec', 'jul', 'jun', 'mar', 'may', 'nov',\n",
              "       'oct', 'sep', 'fri', 'mon', 'thu', 'tue', 'wed', 'failure',\n",
              "       'nonexistent', 'success', 'no', 'yes'],\n",
              "      dtype='object')"
            ]
          },
          "metadata": {
            "tags": []
          },
          "execution_count": 117
        }
      ]
    },
    {
      "cell_type": "code",
      "metadata": {
        "id": "cJO_83cYkOoB",
        "colab_type": "code",
        "colab": {
          "base_uri": "https://localhost:8080/",
          "height": 221
        },
        "outputId": "36b7b518-feb3-4fac-c3e3-2c707ca95b37"
      },
      "source": [
        "X.columns"
      ],
      "execution_count": 118,
      "outputs": [
        {
          "output_type": "execute_result",
          "data": {
            "text/plain": [
              "Index(['age', 'duration', 'campaign', 'pdays', 'previous', 'emp.var.rate',\n",
              "       'cons.price.idx', 'cons.conf.idx', 'euribor3m', 'nr.employed', 'admin.',\n",
              "       'blue-collar', 'entrepreneur', 'housemaid', 'management', 'retired',\n",
              "       'self-employed', 'services', 'student', 'technician', 'unemployed',\n",
              "       'unknown', 'divorced', 'married', 'single', 'unknown', 'basic.4y',\n",
              "       'basic.6y', 'basic.9y', 'high.school', 'illiterate',\n",
              "       'professional.course', 'university.degree', 'unknown', 'no', 'unknown',\n",
              "       'yes', 'no', 'unknown', 'yes', 'no', 'unknown', 'yes', 'cellular',\n",
              "       'telephone', 'apr', 'aug', 'dec', 'jul', 'jun', 'mar', 'may', 'nov',\n",
              "       'oct', 'sep', 'fri', 'mon', 'thu', 'tue', 'wed', 'failure',\n",
              "       'nonexistent', 'success'],\n",
              "      dtype='object')"
            ]
          },
          "metadata": {
            "tags": []
          },
          "execution_count": 118
        }
      ]
    },
    {
      "cell_type": "code",
      "metadata": {
        "id": "EbETGz0HeUBW",
        "colab_type": "code",
        "colab": {}
      },
      "source": [
        "updated_col = ['age', 'duration', 'campaign', 'pdays', 'previous', 'emp.var.rate',\n",
        "       'cons.price.idx', 'cons.conf.idx', 'euribor3m', 'nr.employed', 'admin.',\n",
        "       'blue-collar', 'entrepreneur', 'housemaid', 'management', 'retired',\n",
        "       'self-employed', 'services', 'student', 'technician', 'unemployed',\n",
        "       'unknown', 'divorced', 'married', 'single', 'unknown', 'basic.4y',\n",
        "       'basic.6y', 'basic.9y', 'high.school', 'illiterate',\n",
        "       'professional.course', 'university.degree', 'unknown', 'd_no', 'd_unknown',\n",
        "       'd_yes', 'h_no', 'h_unknown', 'h_yes', 'l_no', 'l_unknown', 'l_yes', 'cellular',\n",
        "       'telephone', 'apr', 'aug', 'dec', 'jul', 'jun', 'mar', 'may', 'nov',\n",
        "       'oct', 'sep', 'fri', 'mon', 'thu', 'tue', 'wed', 'failure',\n",
        "       'nonexistent', 'success', 'y_no', 'y_yes']"
      ],
      "execution_count": 0,
      "outputs": []
    },
    {
      "cell_type": "code",
      "metadata": {
        "id": "9PNW1ppakTvN",
        "colab_type": "code",
        "colab": {}
      },
      "source": [
        "updated_col1 = ['age', 'duration', 'campaign', 'pdays', 'previous', 'emp.var.rate',\n",
        "       'cons.price.idx', 'cons.conf.idx', 'euribor3m', 'nr.employed', 'admin.',\n",
        "       'blue-collar', 'entrepreneur', 'housemaid', 'management', 'retired',\n",
        "       'self-employed', 'services', 'student', 'technician', 'unemployed',\n",
        "       'job_unknown', 'divorced', 'married', 'single', 'ma_unknown', 'basic.4y',\n",
        "       'basic.6y', 'basic.9y', 'high.school', 'illiterate',\n",
        "       'professional.course', 'university.degree', 'e_unknown', 'd_no', 'd_unknown',\n",
        "       'd_yes', 'h_no', 'h_unknown', 'h_yes', 'l_no', 'l_unknown', 'l_yes', 'cellular',\n",
        "       'telephone', 'apr', 'aug', 'dec', 'jul', 'jun', 'mar', 'may', 'nov',\n",
        "       'oct', 'sep', 'fri', 'mon', 'thu', 'tue', 'wed', 'failure',\n",
        "       'nonexistent', 'success']"
      ],
      "execution_count": 0,
      "outputs": []
    },
    {
      "cell_type": "code",
      "metadata": {
        "id": "iGghrzTle5Yh",
        "colab_type": "code",
        "colab": {}
      },
      "source": [
        "final_data.columns = updated_col"
      ],
      "execution_count": 0,
      "outputs": []
    },
    {
      "cell_type": "code",
      "metadata": {
        "id": "BT3zR9tdkavP",
        "colab_type": "code",
        "colab": {}
      },
      "source": [
        "X.columns = updated_col1"
      ],
      "execution_count": 0,
      "outputs": []
    },
    {
      "cell_type": "code",
      "metadata": {
        "id": "Uel_bFVufeKS",
        "colab_type": "code",
        "colab": {
          "base_uri": "https://localhost:8080/",
          "height": 221
        },
        "outputId": "2039dc54-d8c7-4b82-9467-72f326c11530"
      },
      "source": [
        "final_data.columns        # after updation of column"
      ],
      "execution_count": 123,
      "outputs": [
        {
          "output_type": "execute_result",
          "data": {
            "text/plain": [
              "Index(['age', 'duration', 'campaign', 'pdays', 'previous', 'emp.var.rate',\n",
              "       'cons.price.idx', 'cons.conf.idx', 'euribor3m', 'nr.employed', 'admin.',\n",
              "       'blue-collar', 'entrepreneur', 'housemaid', 'management', 'retired',\n",
              "       'self-employed', 'services', 'student', 'technician', 'unemployed',\n",
              "       'unknown', 'divorced', 'married', 'single', 'unknown', 'basic.4y',\n",
              "       'basic.6y', 'basic.9y', 'high.school', 'illiterate',\n",
              "       'professional.course', 'university.degree', 'unknown', 'd_no',\n",
              "       'd_unknown', 'd_yes', 'h_no', 'h_unknown', 'h_yes', 'l_no', 'l_unknown',\n",
              "       'l_yes', 'cellular', 'telephone', 'apr', 'aug', 'dec', 'jul', 'jun',\n",
              "       'mar', 'may', 'nov', 'oct', 'sep', 'fri', 'mon', 'thu', 'tue', 'wed',\n",
              "       'failure', 'nonexistent', 'success', 'y_no', 'y_yes'],\n",
              "      dtype='object')"
            ]
          },
          "metadata": {
            "tags": []
          },
          "execution_count": 123
        }
      ]
    },
    {
      "cell_type": "code",
      "metadata": {
        "id": "AgpWdXFAkg5t",
        "colab_type": "code",
        "colab": {
          "base_uri": "https://localhost:8080/",
          "height": 221
        },
        "outputId": "aabbfba1-2c0d-4b53-f3d0-a4023aab0f89"
      },
      "source": [
        "X.columns"
      ],
      "execution_count": 147,
      "outputs": [
        {
          "output_type": "execute_result",
          "data": {
            "text/plain": [
              "Index(['age', 'duration', 'campaign', 'pdays', 'previous', 'emp.var.rate',\n",
              "       'cons.price.idx', 'cons.conf.idx', 'euribor3m', 'nr.employed', 'admin.',\n",
              "       'blue-collar', 'entrepreneur', 'housemaid', 'management', 'retired',\n",
              "       'self-employed', 'services', 'student', 'technician', 'unemployed',\n",
              "       'job_unknown', 'divorced', 'married', 'single', 'ma_unknown',\n",
              "       'basic.4y', 'basic.6y', 'basic.9y', 'high.school', 'illiterate',\n",
              "       'professional.course', 'university.degree', 'e_unknown', 'd_no',\n",
              "       'd_unknown', 'd_yes', 'h_no', 'h_unknown', 'h_yes', 'l_no', 'l_unknown',\n",
              "       'l_yes', 'cellular', 'telephone', 'apr', 'aug', 'dec', 'jul', 'jun',\n",
              "       'mar', 'may', 'nov', 'oct', 'sep', 'fri', 'mon', 'thu', 'tue', 'wed',\n",
              "       'failure', 'nonexistent', 'success'],\n",
              "      dtype='object')"
            ]
          },
          "metadata": {
            "tags": []
          },
          "execution_count": 147
        }
      ]
    },
    {
      "cell_type": "code",
      "metadata": {
        "id": "6szyCRaBfypP",
        "colab_type": "code",
        "colab": {}
      },
      "source": [
        "#########  know solved one hot encoding issue know X,Y  ###########################"
      ],
      "execution_count": 0,
      "outputs": []
    },
    {
      "cell_type": "markdown",
      "metadata": {
        "id": "io9v0KtE97KL",
        "colab_type": "text"
      },
      "source": [
        "**scaling**"
      ]
    },
    {
      "cell_type": "code",
      "metadata": {
        "id": "T_5mWB9C7fqa",
        "colab_type": "code",
        "colab": {}
      },
      "source": [
        "from sklearn.preprocessing import StandardScaler\n",
        "sc_X = StandardScaler()\n",
        "final_data1 = sc_X.fit_transform(final_data)"
      ],
      "execution_count": 0,
      "outputs": []
    },
    {
      "cell_type": "code",
      "metadata": {
        "id": "wEq5U5d5BmAs",
        "colab_type": "code",
        "colab": {}
      },
      "source": [
        "from sklearn.preprocessing import StandardScaler                          ###########################\n",
        "sc_X = StandardScaler()\n",
        "X1 = sc_X.fit_transform(X)"
      ],
      "execution_count": 0,
      "outputs": []
    },
    {
      "cell_type": "code",
      "metadata": {
        "id": "HUus3Fou_BU4",
        "colab_type": "code",
        "colab": {}
      },
      "source": [
        "final_data2 = pd.DataFrame(data=final_data1, columns=final_data.columns)          # OUTPUT is ndarry thatswhy"
      ],
      "execution_count": 0,
      "outputs": []
    },
    {
      "cell_type": "code",
      "metadata": {
        "id": "oz5WalapB15J",
        "colab_type": "code",
        "colab": {}
      },
      "source": [
        "X1 = pd.DataFrame(data=X1, columns=X.columns)          ##########################"
      ],
      "execution_count": 0,
      "outputs": []
    },
    {
      "cell_type": "code",
      "metadata": {
        "id": "0_aw6yek_oaJ",
        "colab_type": "code",
        "colab": {
          "base_uri": "https://localhost:8080/",
          "height": 238
        },
        "outputId": "3008cd76-11a7-406f-dc43-9a67c5c8174f"
      },
      "source": [
        "final_data1"
      ],
      "execution_count": 130,
      "outputs": [
        {
          "output_type": "execute_result",
          "data": {
            "text/plain": [
              "array([[ 1.53303429,  0.01047142, -0.56592197, ..., -0.1857    ,\n",
              "         0.35630932, -0.35630932],\n",
              "       [ 1.62899323, -0.42150051, -0.56592197, ..., -0.1857    ,\n",
              "         0.35630932, -0.35630932],\n",
              "       [-0.29018564, -0.12451981, -0.56592197, ..., -0.1857    ,\n",
              "         0.35630932, -0.35630932],\n",
              "       ...,\n",
              "       [ 1.53303429, -0.26722482, -0.20490853, ..., -0.1857    ,\n",
              "         0.35630932, -0.35630932],\n",
              "       [ 0.38152696,  0.70856893, -0.56592197, ..., -0.1857    ,\n",
              "        -2.80655022,  2.80655022],\n",
              "       [ 3.26029527, -0.07438021,  0.15610492, ..., -0.1857    ,\n",
              "         0.35630932, -0.35630932]])"
            ]
          },
          "metadata": {
            "tags": []
          },
          "execution_count": 130
        }
      ]
    },
    {
      "cell_type": "code",
      "metadata": {
        "id": "NcPDSCTc_cmo",
        "colab_type": "code",
        "colab": {
          "base_uri": "https://localhost:8080/",
          "height": 456
        },
        "outputId": "dc56185a-a8a8-4ff2-c2ce-76509aaa74af"
      },
      "source": [
        "final_data2"
      ],
      "execution_count": 131,
      "outputs": [
        {
          "output_type": "execute_result",
          "data": {
            "text/html": [
              "<div>\n",
              "<style scoped>\n",
              "    .dataframe tbody tr th:only-of-type {\n",
              "        vertical-align: middle;\n",
              "    }\n",
              "\n",
              "    .dataframe tbody tr th {\n",
              "        vertical-align: top;\n",
              "    }\n",
              "\n",
              "    .dataframe thead th {\n",
              "        text-align: right;\n",
              "    }\n",
              "</style>\n",
              "<table border=\"1\" class=\"dataframe\">\n",
              "  <thead>\n",
              "    <tr style=\"text-align: right;\">\n",
              "      <th></th>\n",
              "      <th>age</th>\n",
              "      <th>duration</th>\n",
              "      <th>campaign</th>\n",
              "      <th>pdays</th>\n",
              "      <th>previous</th>\n",
              "      <th>emp.var.rate</th>\n",
              "      <th>cons.price.idx</th>\n",
              "      <th>cons.conf.idx</th>\n",
              "      <th>euribor3m</th>\n",
              "      <th>nr.employed</th>\n",
              "      <th>admin.</th>\n",
              "      <th>blue-collar</th>\n",
              "      <th>entrepreneur</th>\n",
              "      <th>housemaid</th>\n",
              "      <th>management</th>\n",
              "      <th>retired</th>\n",
              "      <th>self-employed</th>\n",
              "      <th>services</th>\n",
              "      <th>student</th>\n",
              "      <th>technician</th>\n",
              "      <th>unemployed</th>\n",
              "      <th>unknown</th>\n",
              "      <th>divorced</th>\n",
              "      <th>married</th>\n",
              "      <th>single</th>\n",
              "      <th>unknown</th>\n",
              "      <th>basic.4y</th>\n",
              "      <th>basic.6y</th>\n",
              "      <th>basic.9y</th>\n",
              "      <th>high.school</th>\n",
              "      <th>illiterate</th>\n",
              "      <th>professional.course</th>\n",
              "      <th>university.degree</th>\n",
              "      <th>unknown</th>\n",
              "      <th>d_no</th>\n",
              "      <th>d_unknown</th>\n",
              "      <th>d_yes</th>\n",
              "      <th>h_no</th>\n",
              "      <th>h_unknown</th>\n",
              "      <th>h_yes</th>\n",
              "      <th>l_no</th>\n",
              "      <th>l_unknown</th>\n",
              "      <th>l_yes</th>\n",
              "      <th>cellular</th>\n",
              "      <th>telephone</th>\n",
              "      <th>apr</th>\n",
              "      <th>aug</th>\n",
              "      <th>dec</th>\n",
              "      <th>jul</th>\n",
              "      <th>jun</th>\n",
              "      <th>mar</th>\n",
              "      <th>may</th>\n",
              "      <th>nov</th>\n",
              "      <th>oct</th>\n",
              "      <th>sep</th>\n",
              "      <th>fri</th>\n",
              "      <th>mon</th>\n",
              "      <th>thu</th>\n",
              "      <th>tue</th>\n",
              "      <th>wed</th>\n",
              "      <th>failure</th>\n",
              "      <th>nonexistent</th>\n",
              "      <th>success</th>\n",
              "      <th>y_no</th>\n",
              "      <th>y_yes</th>\n",
              "    </tr>\n",
              "  </thead>\n",
              "  <tbody>\n",
              "    <tr>\n",
              "      <th>0</th>\n",
              "      <td>1.533034</td>\n",
              "      <td>0.010471</td>\n",
              "      <td>-0.565922</td>\n",
              "      <td>0.195414</td>\n",
              "      <td>-0.349494</td>\n",
              "      <td>0.648092</td>\n",
              "      <td>0.722722</td>\n",
              "      <td>0.886447</td>\n",
              "      <td>0.712460</td>\n",
              "      <td>0.331680</td>\n",
              "      <td>-0.582023</td>\n",
              "      <td>-0.538317</td>\n",
              "      <td>-0.19143</td>\n",
              "      <td>6.152772</td>\n",
              "      <td>-0.276435</td>\n",
              "      <td>-0.208757</td>\n",
              "      <td>-0.189032</td>\n",
              "      <td>-0.326556</td>\n",
              "      <td>-0.147327</td>\n",
              "      <td>-0.442449</td>\n",
              "      <td>-0.158872</td>\n",
              "      <td>-0.089871</td>\n",
              "      <td>-0.355097</td>\n",
              "      <td>0.807638</td>\n",
              "      <td>-0.624938</td>\n",
              "      <td>-0.044115</td>\n",
              "      <td>2.977084</td>\n",
              "      <td>-0.242748</td>\n",
              "      <td>-0.414743</td>\n",
              "      <td>-0.548100</td>\n",
              "      <td>-0.02091</td>\n",
              "      <td>-0.381918</td>\n",
              "      <td>-0.647531</td>\n",
              "      <td>-0.209453</td>\n",
              "      <td>0.513713</td>\n",
              "      <td>-0.513600</td>\n",
              "      <td>-0.008535</td>\n",
              "      <td>1.100814</td>\n",
              "      <td>-0.156933</td>\n",
              "      <td>-1.048877</td>\n",
              "      <td>0.461731</td>\n",
              "      <td>-0.156933</td>\n",
              "      <td>-0.422872</td>\n",
              "      <td>-1.31827</td>\n",
              "      <td>1.31827</td>\n",
              "      <td>-0.261274</td>\n",
              "      <td>-0.420076</td>\n",
              "      <td>-0.066621</td>\n",
              "      <td>-0.459253</td>\n",
              "      <td>-0.385042</td>\n",
              "      <td>-0.115907</td>\n",
              "      <td>1.411155</td>\n",
              "      <td>-0.332532</td>\n",
              "      <td>-0.133197</td>\n",
              "      <td>-0.118462</td>\n",
              "      <td>-0.484371</td>\n",
              "      <td>1.959000</td>\n",
              "      <td>-0.514581</td>\n",
              "      <td>-0.494394</td>\n",
              "      <td>-0.496067</td>\n",
              "      <td>-0.339290</td>\n",
              "      <td>0.397706</td>\n",
              "      <td>-0.1857</td>\n",
              "      <td>0.356309</td>\n",
              "      <td>-0.356309</td>\n",
              "    </tr>\n",
              "    <tr>\n",
              "      <th>1</th>\n",
              "      <td>1.628993</td>\n",
              "      <td>-0.421501</td>\n",
              "      <td>-0.565922</td>\n",
              "      <td>0.195414</td>\n",
              "      <td>-0.349494</td>\n",
              "      <td>0.648092</td>\n",
              "      <td>0.722722</td>\n",
              "      <td>0.886447</td>\n",
              "      <td>0.712460</td>\n",
              "      <td>0.331680</td>\n",
              "      <td>-0.582023</td>\n",
              "      <td>-0.538317</td>\n",
              "      <td>-0.19143</td>\n",
              "      <td>-0.162528</td>\n",
              "      <td>-0.276435</td>\n",
              "      <td>-0.208757</td>\n",
              "      <td>-0.189032</td>\n",
              "      <td>3.062258</td>\n",
              "      <td>-0.147327</td>\n",
              "      <td>-0.442449</td>\n",
              "      <td>-0.158872</td>\n",
              "      <td>-0.089871</td>\n",
              "      <td>-0.355097</td>\n",
              "      <td>0.807638</td>\n",
              "      <td>-0.624938</td>\n",
              "      <td>-0.044115</td>\n",
              "      <td>-0.335899</td>\n",
              "      <td>-0.242748</td>\n",
              "      <td>-0.414743</td>\n",
              "      <td>1.824485</td>\n",
              "      <td>-0.02091</td>\n",
              "      <td>-0.381918</td>\n",
              "      <td>-0.647531</td>\n",
              "      <td>-0.209453</td>\n",
              "      <td>-1.946613</td>\n",
              "      <td>1.947042</td>\n",
              "      <td>-0.008535</td>\n",
              "      <td>1.100814</td>\n",
              "      <td>-0.156933</td>\n",
              "      <td>-1.048877</td>\n",
              "      <td>0.461731</td>\n",
              "      <td>-0.156933</td>\n",
              "      <td>-0.422872</td>\n",
              "      <td>-1.31827</td>\n",
              "      <td>1.31827</td>\n",
              "      <td>-0.261274</td>\n",
              "      <td>-0.420076</td>\n",
              "      <td>-0.066621</td>\n",
              "      <td>-0.459253</td>\n",
              "      <td>-0.385042</td>\n",
              "      <td>-0.115907</td>\n",
              "      <td>1.411155</td>\n",
              "      <td>-0.332532</td>\n",
              "      <td>-0.133197</td>\n",
              "      <td>-0.118462</td>\n",
              "      <td>-0.484371</td>\n",
              "      <td>1.959000</td>\n",
              "      <td>-0.514581</td>\n",
              "      <td>-0.494394</td>\n",
              "      <td>-0.496067</td>\n",
              "      <td>-0.339290</td>\n",
              "      <td>0.397706</td>\n",
              "      <td>-0.1857</td>\n",
              "      <td>0.356309</td>\n",
              "      <td>-0.356309</td>\n",
              "    </tr>\n",
              "    <tr>\n",
              "      <th>2</th>\n",
              "      <td>-0.290186</td>\n",
              "      <td>-0.124520</td>\n",
              "      <td>-0.565922</td>\n",
              "      <td>0.195414</td>\n",
              "      <td>-0.349494</td>\n",
              "      <td>0.648092</td>\n",
              "      <td>0.722722</td>\n",
              "      <td>0.886447</td>\n",
              "      <td>0.712460</td>\n",
              "      <td>0.331680</td>\n",
              "      <td>-0.582023</td>\n",
              "      <td>-0.538317</td>\n",
              "      <td>-0.19143</td>\n",
              "      <td>-0.162528</td>\n",
              "      <td>-0.276435</td>\n",
              "      <td>-0.208757</td>\n",
              "      <td>-0.189032</td>\n",
              "      <td>3.062258</td>\n",
              "      <td>-0.147327</td>\n",
              "      <td>-0.442449</td>\n",
              "      <td>-0.158872</td>\n",
              "      <td>-0.089871</td>\n",
              "      <td>-0.355097</td>\n",
              "      <td>0.807638</td>\n",
              "      <td>-0.624938</td>\n",
              "      <td>-0.044115</td>\n",
              "      <td>-0.335899</td>\n",
              "      <td>-0.242748</td>\n",
              "      <td>-0.414743</td>\n",
              "      <td>1.824485</td>\n",
              "      <td>-0.02091</td>\n",
              "      <td>-0.381918</td>\n",
              "      <td>-0.647531</td>\n",
              "      <td>-0.209453</td>\n",
              "      <td>0.513713</td>\n",
              "      <td>-0.513600</td>\n",
              "      <td>-0.008535</td>\n",
              "      <td>-0.908418</td>\n",
              "      <td>-0.156933</td>\n",
              "      <td>0.953401</td>\n",
              "      <td>0.461731</td>\n",
              "      <td>-0.156933</td>\n",
              "      <td>-0.422872</td>\n",
              "      <td>-1.31827</td>\n",
              "      <td>1.31827</td>\n",
              "      <td>-0.261274</td>\n",
              "      <td>-0.420076</td>\n",
              "      <td>-0.066621</td>\n",
              "      <td>-0.459253</td>\n",
              "      <td>-0.385042</td>\n",
              "      <td>-0.115907</td>\n",
              "      <td>1.411155</td>\n",
              "      <td>-0.332532</td>\n",
              "      <td>-0.133197</td>\n",
              "      <td>-0.118462</td>\n",
              "      <td>-0.484371</td>\n",
              "      <td>1.959000</td>\n",
              "      <td>-0.514581</td>\n",
              "      <td>-0.494394</td>\n",
              "      <td>-0.496067</td>\n",
              "      <td>-0.339290</td>\n",
              "      <td>0.397706</td>\n",
              "      <td>-0.1857</td>\n",
              "      <td>0.356309</td>\n",
              "      <td>-0.356309</td>\n",
              "    </tr>\n",
              "    <tr>\n",
              "      <th>3</th>\n",
              "      <td>-0.002309</td>\n",
              "      <td>-0.413787</td>\n",
              "      <td>-0.565922</td>\n",
              "      <td>0.195414</td>\n",
              "      <td>-0.349494</td>\n",
              "      <td>0.648092</td>\n",
              "      <td>0.722722</td>\n",
              "      <td>0.886447</td>\n",
              "      <td>0.712460</td>\n",
              "      <td>0.331680</td>\n",
              "      <td>1.718146</td>\n",
              "      <td>-0.538317</td>\n",
              "      <td>-0.19143</td>\n",
              "      <td>-0.162528</td>\n",
              "      <td>-0.276435</td>\n",
              "      <td>-0.208757</td>\n",
              "      <td>-0.189032</td>\n",
              "      <td>-0.326556</td>\n",
              "      <td>-0.147327</td>\n",
              "      <td>-0.442449</td>\n",
              "      <td>-0.158872</td>\n",
              "      <td>-0.089871</td>\n",
              "      <td>-0.355097</td>\n",
              "      <td>0.807638</td>\n",
              "      <td>-0.624938</td>\n",
              "      <td>-0.044115</td>\n",
              "      <td>-0.335899</td>\n",
              "      <td>4.119506</td>\n",
              "      <td>-0.414743</td>\n",
              "      <td>-0.548100</td>\n",
              "      <td>-0.02091</td>\n",
              "      <td>-0.381918</td>\n",
              "      <td>-0.647531</td>\n",
              "      <td>-0.209453</td>\n",
              "      <td>0.513713</td>\n",
              "      <td>-0.513600</td>\n",
              "      <td>-0.008535</td>\n",
              "      <td>1.100814</td>\n",
              "      <td>-0.156933</td>\n",
              "      <td>-1.048877</td>\n",
              "      <td>0.461731</td>\n",
              "      <td>-0.156933</td>\n",
              "      <td>-0.422872</td>\n",
              "      <td>-1.31827</td>\n",
              "      <td>1.31827</td>\n",
              "      <td>-0.261274</td>\n",
              "      <td>-0.420076</td>\n",
              "      <td>-0.066621</td>\n",
              "      <td>-0.459253</td>\n",
              "      <td>-0.385042</td>\n",
              "      <td>-0.115907</td>\n",
              "      <td>1.411155</td>\n",
              "      <td>-0.332532</td>\n",
              "      <td>-0.133197</td>\n",
              "      <td>-0.118462</td>\n",
              "      <td>-0.484371</td>\n",
              "      <td>1.959000</td>\n",
              "      <td>-0.514581</td>\n",
              "      <td>-0.494394</td>\n",
              "      <td>-0.496067</td>\n",
              "      <td>-0.339290</td>\n",
              "      <td>0.397706</td>\n",
              "      <td>-0.1857</td>\n",
              "      <td>0.356309</td>\n",
              "      <td>-0.356309</td>\n",
              "    </tr>\n",
              "    <tr>\n",
              "      <th>4</th>\n",
              "      <td>1.533034</td>\n",
              "      <td>0.187888</td>\n",
              "      <td>-0.565922</td>\n",
              "      <td>0.195414</td>\n",
              "      <td>-0.349494</td>\n",
              "      <td>0.648092</td>\n",
              "      <td>0.722722</td>\n",
              "      <td>0.886447</td>\n",
              "      <td>0.712460</td>\n",
              "      <td>0.331680</td>\n",
              "      <td>-0.582023</td>\n",
              "      <td>-0.538317</td>\n",
              "      <td>-0.19143</td>\n",
              "      <td>-0.162528</td>\n",
              "      <td>-0.276435</td>\n",
              "      <td>-0.208757</td>\n",
              "      <td>-0.189032</td>\n",
              "      <td>3.062258</td>\n",
              "      <td>-0.147327</td>\n",
              "      <td>-0.442449</td>\n",
              "      <td>-0.158872</td>\n",
              "      <td>-0.089871</td>\n",
              "      <td>-0.355097</td>\n",
              "      <td>0.807638</td>\n",
              "      <td>-0.624938</td>\n",
              "      <td>-0.044115</td>\n",
              "      <td>-0.335899</td>\n",
              "      <td>-0.242748</td>\n",
              "      <td>-0.414743</td>\n",
              "      <td>1.824485</td>\n",
              "      <td>-0.02091</td>\n",
              "      <td>-0.381918</td>\n",
              "      <td>-0.647531</td>\n",
              "      <td>-0.209453</td>\n",
              "      <td>0.513713</td>\n",
              "      <td>-0.513600</td>\n",
              "      <td>-0.008535</td>\n",
              "      <td>1.100814</td>\n",
              "      <td>-0.156933</td>\n",
              "      <td>-1.048877</td>\n",
              "      <td>-2.165761</td>\n",
              "      <td>-0.156933</td>\n",
              "      <td>2.364781</td>\n",
              "      <td>-1.31827</td>\n",
              "      <td>1.31827</td>\n",
              "      <td>-0.261274</td>\n",
              "      <td>-0.420076</td>\n",
              "      <td>-0.066621</td>\n",
              "      <td>-0.459253</td>\n",
              "      <td>-0.385042</td>\n",
              "      <td>-0.115907</td>\n",
              "      <td>1.411155</td>\n",
              "      <td>-0.332532</td>\n",
              "      <td>-0.133197</td>\n",
              "      <td>-0.118462</td>\n",
              "      <td>-0.484371</td>\n",
              "      <td>1.959000</td>\n",
              "      <td>-0.514581</td>\n",
              "      <td>-0.494394</td>\n",
              "      <td>-0.496067</td>\n",
              "      <td>-0.339290</td>\n",
              "      <td>0.397706</td>\n",
              "      <td>-0.1857</td>\n",
              "      <td>0.356309</td>\n",
              "      <td>-0.356309</td>\n",
              "    </tr>\n",
              "    <tr>\n",
              "      <th>...</th>\n",
              "      <td>...</td>\n",
              "      <td>...</td>\n",
              "      <td>...</td>\n",
              "      <td>...</td>\n",
              "      <td>...</td>\n",
              "      <td>...</td>\n",
              "      <td>...</td>\n",
              "      <td>...</td>\n",
              "      <td>...</td>\n",
              "      <td>...</td>\n",
              "      <td>...</td>\n",
              "      <td>...</td>\n",
              "      <td>...</td>\n",
              "      <td>...</td>\n",
              "      <td>...</td>\n",
              "      <td>...</td>\n",
              "      <td>...</td>\n",
              "      <td>...</td>\n",
              "      <td>...</td>\n",
              "      <td>...</td>\n",
              "      <td>...</td>\n",
              "      <td>...</td>\n",
              "      <td>...</td>\n",
              "      <td>...</td>\n",
              "      <td>...</td>\n",
              "      <td>...</td>\n",
              "      <td>...</td>\n",
              "      <td>...</td>\n",
              "      <td>...</td>\n",
              "      <td>...</td>\n",
              "      <td>...</td>\n",
              "      <td>...</td>\n",
              "      <td>...</td>\n",
              "      <td>...</td>\n",
              "      <td>...</td>\n",
              "      <td>...</td>\n",
              "      <td>...</td>\n",
              "      <td>...</td>\n",
              "      <td>...</td>\n",
              "      <td>...</td>\n",
              "      <td>...</td>\n",
              "      <td>...</td>\n",
              "      <td>...</td>\n",
              "      <td>...</td>\n",
              "      <td>...</td>\n",
              "      <td>...</td>\n",
              "      <td>...</td>\n",
              "      <td>...</td>\n",
              "      <td>...</td>\n",
              "      <td>...</td>\n",
              "      <td>...</td>\n",
              "      <td>...</td>\n",
              "      <td>...</td>\n",
              "      <td>...</td>\n",
              "      <td>...</td>\n",
              "      <td>...</td>\n",
              "      <td>...</td>\n",
              "      <td>...</td>\n",
              "      <td>...</td>\n",
              "      <td>...</td>\n",
              "      <td>...</td>\n",
              "      <td>...</td>\n",
              "      <td>...</td>\n",
              "      <td>...</td>\n",
              "      <td>...</td>\n",
              "    </tr>\n",
              "    <tr>\n",
              "      <th>41183</th>\n",
              "      <td>3.164336</td>\n",
              "      <td>0.292025</td>\n",
              "      <td>-0.565922</td>\n",
              "      <td>0.195414</td>\n",
              "      <td>-0.349494</td>\n",
              "      <td>-0.752343</td>\n",
              "      <td>2.058168</td>\n",
              "      <td>-2.224953</td>\n",
              "      <td>-1.495186</td>\n",
              "      <td>-2.815697</td>\n",
              "      <td>-0.582023</td>\n",
              "      <td>-0.538317</td>\n",
              "      <td>-0.19143</td>\n",
              "      <td>-0.162528</td>\n",
              "      <td>-0.276435</td>\n",
              "      <td>4.790252</td>\n",
              "      <td>-0.189032</td>\n",
              "      <td>-0.326556</td>\n",
              "      <td>-0.147327</td>\n",
              "      <td>-0.442449</td>\n",
              "      <td>-0.158872</td>\n",
              "      <td>-0.089871</td>\n",
              "      <td>-0.355097</td>\n",
              "      <td>0.807638</td>\n",
              "      <td>-0.624938</td>\n",
              "      <td>-0.044115</td>\n",
              "      <td>-0.335899</td>\n",
              "      <td>-0.242748</td>\n",
              "      <td>-0.414743</td>\n",
              "      <td>-0.548100</td>\n",
              "      <td>-0.02091</td>\n",
              "      <td>2.618360</td>\n",
              "      <td>-0.647531</td>\n",
              "      <td>-0.209453</td>\n",
              "      <td>0.513713</td>\n",
              "      <td>-0.513600</td>\n",
              "      <td>-0.008535</td>\n",
              "      <td>-0.908418</td>\n",
              "      <td>-0.156933</td>\n",
              "      <td>0.953401</td>\n",
              "      <td>0.461731</td>\n",
              "      <td>-0.156933</td>\n",
              "      <td>-0.422872</td>\n",
              "      <td>0.75857</td>\n",
              "      <td>-0.75857</td>\n",
              "      <td>-0.261274</td>\n",
              "      <td>-0.420076</td>\n",
              "      <td>-0.066621</td>\n",
              "      <td>-0.459253</td>\n",
              "      <td>-0.385042</td>\n",
              "      <td>-0.115907</td>\n",
              "      <td>-0.708640</td>\n",
              "      <td>3.007225</td>\n",
              "      <td>-0.133197</td>\n",
              "      <td>-0.118462</td>\n",
              "      <td>2.064533</td>\n",
              "      <td>-0.510465</td>\n",
              "      <td>-0.514581</td>\n",
              "      <td>-0.494394</td>\n",
              "      <td>-0.496067</td>\n",
              "      <td>-0.339290</td>\n",
              "      <td>0.397706</td>\n",
              "      <td>-0.1857</td>\n",
              "      <td>-2.806550</td>\n",
              "      <td>2.806550</td>\n",
              "    </tr>\n",
              "    <tr>\n",
              "      <th>41184</th>\n",
              "      <td>0.573445</td>\n",
              "      <td>0.481012</td>\n",
              "      <td>-0.565922</td>\n",
              "      <td>0.195414</td>\n",
              "      <td>-0.349494</td>\n",
              "      <td>-0.752343</td>\n",
              "      <td>2.058168</td>\n",
              "      <td>-2.224953</td>\n",
              "      <td>-1.495186</td>\n",
              "      <td>-2.815697</td>\n",
              "      <td>-0.582023</td>\n",
              "      <td>1.857642</td>\n",
              "      <td>-0.19143</td>\n",
              "      <td>-0.162528</td>\n",
              "      <td>-0.276435</td>\n",
              "      <td>-0.208757</td>\n",
              "      <td>-0.189032</td>\n",
              "      <td>-0.326556</td>\n",
              "      <td>-0.147327</td>\n",
              "      <td>-0.442449</td>\n",
              "      <td>-0.158872</td>\n",
              "      <td>-0.089871</td>\n",
              "      <td>-0.355097</td>\n",
              "      <td>0.807638</td>\n",
              "      <td>-0.624938</td>\n",
              "      <td>-0.044115</td>\n",
              "      <td>-0.335899</td>\n",
              "      <td>-0.242748</td>\n",
              "      <td>-0.414743</td>\n",
              "      <td>-0.548100</td>\n",
              "      <td>-0.02091</td>\n",
              "      <td>2.618360</td>\n",
              "      <td>-0.647531</td>\n",
              "      <td>-0.209453</td>\n",
              "      <td>0.513713</td>\n",
              "      <td>-0.513600</td>\n",
              "      <td>-0.008535</td>\n",
              "      <td>1.100814</td>\n",
              "      <td>-0.156933</td>\n",
              "      <td>-1.048877</td>\n",
              "      <td>0.461731</td>\n",
              "      <td>-0.156933</td>\n",
              "      <td>-0.422872</td>\n",
              "      <td>0.75857</td>\n",
              "      <td>-0.75857</td>\n",
              "      <td>-0.261274</td>\n",
              "      <td>-0.420076</td>\n",
              "      <td>-0.066621</td>\n",
              "      <td>-0.459253</td>\n",
              "      <td>-0.385042</td>\n",
              "      <td>-0.115907</td>\n",
              "      <td>-0.708640</td>\n",
              "      <td>3.007225</td>\n",
              "      <td>-0.133197</td>\n",
              "      <td>-0.118462</td>\n",
              "      <td>2.064533</td>\n",
              "      <td>-0.510465</td>\n",
              "      <td>-0.514581</td>\n",
              "      <td>-0.494394</td>\n",
              "      <td>-0.496067</td>\n",
              "      <td>-0.339290</td>\n",
              "      <td>0.397706</td>\n",
              "      <td>-0.1857</td>\n",
              "      <td>0.356309</td>\n",
              "      <td>-0.356309</td>\n",
              "    </tr>\n",
              "    <tr>\n",
              "      <th>41185</th>\n",
              "      <td>1.533034</td>\n",
              "      <td>-0.267225</td>\n",
              "      <td>-0.204909</td>\n",
              "      <td>0.195414</td>\n",
              "      <td>-0.349494</td>\n",
              "      <td>-0.752343</td>\n",
              "      <td>2.058168</td>\n",
              "      <td>-2.224953</td>\n",
              "      <td>-1.495186</td>\n",
              "      <td>-2.815697</td>\n",
              "      <td>-0.582023</td>\n",
              "      <td>-0.538317</td>\n",
              "      <td>-0.19143</td>\n",
              "      <td>-0.162528</td>\n",
              "      <td>-0.276435</td>\n",
              "      <td>4.790252</td>\n",
              "      <td>-0.189032</td>\n",
              "      <td>-0.326556</td>\n",
              "      <td>-0.147327</td>\n",
              "      <td>-0.442449</td>\n",
              "      <td>-0.158872</td>\n",
              "      <td>-0.089871</td>\n",
              "      <td>-0.355097</td>\n",
              "      <td>0.807638</td>\n",
              "      <td>-0.624938</td>\n",
              "      <td>-0.044115</td>\n",
              "      <td>-0.335899</td>\n",
              "      <td>-0.242748</td>\n",
              "      <td>-0.414743</td>\n",
              "      <td>-0.548100</td>\n",
              "      <td>-0.02091</td>\n",
              "      <td>-0.381918</td>\n",
              "      <td>1.544326</td>\n",
              "      <td>-0.209453</td>\n",
              "      <td>0.513713</td>\n",
              "      <td>-0.513600</td>\n",
              "      <td>-0.008535</td>\n",
              "      <td>-0.908418</td>\n",
              "      <td>-0.156933</td>\n",
              "      <td>0.953401</td>\n",
              "      <td>0.461731</td>\n",
              "      <td>-0.156933</td>\n",
              "      <td>-0.422872</td>\n",
              "      <td>0.75857</td>\n",
              "      <td>-0.75857</td>\n",
              "      <td>-0.261274</td>\n",
              "      <td>-0.420076</td>\n",
              "      <td>-0.066621</td>\n",
              "      <td>-0.459253</td>\n",
              "      <td>-0.385042</td>\n",
              "      <td>-0.115907</td>\n",
              "      <td>-0.708640</td>\n",
              "      <td>3.007225</td>\n",
              "      <td>-0.133197</td>\n",
              "      <td>-0.118462</td>\n",
              "      <td>2.064533</td>\n",
              "      <td>-0.510465</td>\n",
              "      <td>-0.514581</td>\n",
              "      <td>-0.494394</td>\n",
              "      <td>-0.496067</td>\n",
              "      <td>-0.339290</td>\n",
              "      <td>0.397706</td>\n",
              "      <td>-0.1857</td>\n",
              "      <td>0.356309</td>\n",
              "      <td>-0.356309</td>\n",
              "    </tr>\n",
              "    <tr>\n",
              "      <th>41186</th>\n",
              "      <td>0.381527</td>\n",
              "      <td>0.708569</td>\n",
              "      <td>-0.565922</td>\n",
              "      <td>0.195414</td>\n",
              "      <td>-0.349494</td>\n",
              "      <td>-0.752343</td>\n",
              "      <td>2.058168</td>\n",
              "      <td>-2.224953</td>\n",
              "      <td>-1.495186</td>\n",
              "      <td>-2.815697</td>\n",
              "      <td>-0.582023</td>\n",
              "      <td>-0.538317</td>\n",
              "      <td>-0.19143</td>\n",
              "      <td>-0.162528</td>\n",
              "      <td>-0.276435</td>\n",
              "      <td>-0.208757</td>\n",
              "      <td>-0.189032</td>\n",
              "      <td>-0.326556</td>\n",
              "      <td>-0.147327</td>\n",
              "      <td>2.260146</td>\n",
              "      <td>-0.158872</td>\n",
              "      <td>-0.089871</td>\n",
              "      <td>-0.355097</td>\n",
              "      <td>0.807638</td>\n",
              "      <td>-0.624938</td>\n",
              "      <td>-0.044115</td>\n",
              "      <td>-0.335899</td>\n",
              "      <td>-0.242748</td>\n",
              "      <td>-0.414743</td>\n",
              "      <td>-0.548100</td>\n",
              "      <td>-0.02091</td>\n",
              "      <td>2.618360</td>\n",
              "      <td>-0.647531</td>\n",
              "      <td>-0.209453</td>\n",
              "      <td>0.513713</td>\n",
              "      <td>-0.513600</td>\n",
              "      <td>-0.008535</td>\n",
              "      <td>1.100814</td>\n",
              "      <td>-0.156933</td>\n",
              "      <td>-1.048877</td>\n",
              "      <td>0.461731</td>\n",
              "      <td>-0.156933</td>\n",
              "      <td>-0.422872</td>\n",
              "      <td>0.75857</td>\n",
              "      <td>-0.75857</td>\n",
              "      <td>-0.261274</td>\n",
              "      <td>-0.420076</td>\n",
              "      <td>-0.066621</td>\n",
              "      <td>-0.459253</td>\n",
              "      <td>-0.385042</td>\n",
              "      <td>-0.115907</td>\n",
              "      <td>-0.708640</td>\n",
              "      <td>3.007225</td>\n",
              "      <td>-0.133197</td>\n",
              "      <td>-0.118462</td>\n",
              "      <td>2.064533</td>\n",
              "      <td>-0.510465</td>\n",
              "      <td>-0.514581</td>\n",
              "      <td>-0.494394</td>\n",
              "      <td>-0.496067</td>\n",
              "      <td>-0.339290</td>\n",
              "      <td>0.397706</td>\n",
              "      <td>-0.1857</td>\n",
              "      <td>-2.806550</td>\n",
              "      <td>2.806550</td>\n",
              "    </tr>\n",
              "    <tr>\n",
              "      <th>41187</th>\n",
              "      <td>3.260295</td>\n",
              "      <td>-0.074380</td>\n",
              "      <td>0.156105</td>\n",
              "      <td>0.195414</td>\n",
              "      <td>1.671136</td>\n",
              "      <td>-0.752343</td>\n",
              "      <td>2.058168</td>\n",
              "      <td>-2.224953</td>\n",
              "      <td>-1.495186</td>\n",
              "      <td>-2.815697</td>\n",
              "      <td>-0.582023</td>\n",
              "      <td>-0.538317</td>\n",
              "      <td>-0.19143</td>\n",
              "      <td>-0.162528</td>\n",
              "      <td>-0.276435</td>\n",
              "      <td>4.790252</td>\n",
              "      <td>-0.189032</td>\n",
              "      <td>-0.326556</td>\n",
              "      <td>-0.147327</td>\n",
              "      <td>-0.442449</td>\n",
              "      <td>-0.158872</td>\n",
              "      <td>-0.089871</td>\n",
              "      <td>-0.355097</td>\n",
              "      <td>0.807638</td>\n",
              "      <td>-0.624938</td>\n",
              "      <td>-0.044115</td>\n",
              "      <td>-0.335899</td>\n",
              "      <td>-0.242748</td>\n",
              "      <td>-0.414743</td>\n",
              "      <td>-0.548100</td>\n",
              "      <td>-0.02091</td>\n",
              "      <td>2.618360</td>\n",
              "      <td>-0.647531</td>\n",
              "      <td>-0.209453</td>\n",
              "      <td>0.513713</td>\n",
              "      <td>-0.513600</td>\n",
              "      <td>-0.008535</td>\n",
              "      <td>-0.908418</td>\n",
              "      <td>-0.156933</td>\n",
              "      <td>0.953401</td>\n",
              "      <td>0.461731</td>\n",
              "      <td>-0.156933</td>\n",
              "      <td>-0.422872</td>\n",
              "      <td>0.75857</td>\n",
              "      <td>-0.75857</td>\n",
              "      <td>-0.261274</td>\n",
              "      <td>-0.420076</td>\n",
              "      <td>-0.066621</td>\n",
              "      <td>-0.459253</td>\n",
              "      <td>-0.385042</td>\n",
              "      <td>-0.115907</td>\n",
              "      <td>-0.708640</td>\n",
              "      <td>3.007225</td>\n",
              "      <td>-0.133197</td>\n",
              "      <td>-0.118462</td>\n",
              "      <td>2.064533</td>\n",
              "      <td>-0.510465</td>\n",
              "      <td>-0.514581</td>\n",
              "      <td>-0.494394</td>\n",
              "      <td>-0.496067</td>\n",
              "      <td>2.947327</td>\n",
              "      <td>-2.514421</td>\n",
              "      <td>-0.1857</td>\n",
              "      <td>0.356309</td>\n",
              "      <td>-0.356309</td>\n",
              "    </tr>\n",
              "  </tbody>\n",
              "</table>\n",
              "<p>41188 rows × 65 columns</p>\n",
              "</div>"
            ],
            "text/plain": [
              "            age  duration  campaign  ...  success      y_no     y_yes\n",
              "0      1.533034  0.010471 -0.565922  ...  -0.1857  0.356309 -0.356309\n",
              "1      1.628993 -0.421501 -0.565922  ...  -0.1857  0.356309 -0.356309\n",
              "2     -0.290186 -0.124520 -0.565922  ...  -0.1857  0.356309 -0.356309\n",
              "3     -0.002309 -0.413787 -0.565922  ...  -0.1857  0.356309 -0.356309\n",
              "4      1.533034  0.187888 -0.565922  ...  -0.1857  0.356309 -0.356309\n",
              "...         ...       ...       ...  ...      ...       ...       ...\n",
              "41183  3.164336  0.292025 -0.565922  ...  -0.1857 -2.806550  2.806550\n",
              "41184  0.573445  0.481012 -0.565922  ...  -0.1857  0.356309 -0.356309\n",
              "41185  1.533034 -0.267225 -0.204909  ...  -0.1857  0.356309 -0.356309\n",
              "41186  0.381527  0.708569 -0.565922  ...  -0.1857 -2.806550  2.806550\n",
              "41187  3.260295 -0.074380  0.156105  ...  -0.1857  0.356309 -0.356309\n",
              "\n",
              "[41188 rows x 65 columns]"
            ]
          },
          "metadata": {
            "tags": []
          },
          "execution_count": 131
        }
      ]
    },
    {
      "cell_type": "markdown",
      "metadata": {
        "id": "9OJubsdLFfnA",
        "colab_type": "text"
      },
      "source": [
        "trying using basic regression using sklearn\n"
      ]
    },
    {
      "cell_type": "code",
      "metadata": {
        "id": "mxYAVAHLFdvM",
        "colab_type": "code",
        "colab": {
          "base_uri": "https://localhost:8080/",
          "height": 221
        },
        "outputId": "8bd64691-8022-462a-ec4d-bad0e96ba3ac"
      },
      "source": [
        "final_data2['y_yes']"
      ],
      "execution_count": 133,
      "outputs": [
        {
          "output_type": "execute_result",
          "data": {
            "text/plain": [
              "0       -0.356309\n",
              "1       -0.356309\n",
              "2       -0.356309\n",
              "3       -0.356309\n",
              "4       -0.356309\n",
              "           ...   \n",
              "41183    2.806550\n",
              "41184   -0.356309\n",
              "41185   -0.356309\n",
              "41186    2.806550\n",
              "41187   -0.356309\n",
              "Name: y_yes, Length: 41188, dtype: float64"
            ]
          },
          "metadata": {
            "tags": []
          },
          "execution_count": 133
        }
      ]
    },
    {
      "cell_type": "code",
      "metadata": {
        "id": "O6ijBonRPL_C",
        "colab_type": "code",
        "colab": {
          "base_uri": "https://localhost:8080/",
          "height": 221
        },
        "outputId": "6ad60999-7fe6-41c3-ea2c-35b81d3878e6"
      },
      "source": [
        " final_data2.columns"
      ],
      "execution_count": 134,
      "outputs": [
        {
          "output_type": "execute_result",
          "data": {
            "text/plain": [
              "Index(['age', 'duration', 'campaign', 'pdays', 'previous', 'emp.var.rate',\n",
              "       'cons.price.idx', 'cons.conf.idx', 'euribor3m', 'nr.employed', 'admin.',\n",
              "       'blue-collar', 'entrepreneur', 'housemaid', 'management', 'retired',\n",
              "       'self-employed', 'services', 'student', 'technician', 'unemployed',\n",
              "       'unknown', 'divorced', 'married', 'single', 'unknown', 'basic.4y',\n",
              "       'basic.6y', 'basic.9y', 'high.school', 'illiterate',\n",
              "       'professional.course', 'university.degree', 'unknown', 'd_no',\n",
              "       'd_unknown', 'd_yes', 'h_no', 'h_unknown', 'h_yes', 'l_no', 'l_unknown',\n",
              "       'l_yes', 'cellular', 'telephone', 'apr', 'aug', 'dec', 'jul', 'jun',\n",
              "       'mar', 'may', 'nov', 'oct', 'sep', 'fri', 'mon', 'thu', 'tue', 'wed',\n",
              "       'failure', 'nonexistent', 'success', 'y_no', 'y_yes'],\n",
              "      dtype='object')"
            ]
          },
          "metadata": {
            "tags": []
          },
          "execution_count": 134
        }
      ]
    },
    {
      "cell_type": "markdown",
      "metadata": {
        "id": "CuaCk2tAkoze",
        "colab_type": "text"
      },
      "source": [
        "1st check"
      ]
    },
    {
      "cell_type": "code",
      "metadata": {
        "id": "_zNHH125kruV",
        "colab_type": "code",
        "colab": {}
      },
      "source": [
        "from sklearn.model_selection import train_test_split \n",
        "from sklearn.linear_model import LinearRegression\n",
        "X_train, X_test, y_train, y_test = train_test_split(X1, Y, test_size = 0.25)\n"
      ],
      "execution_count": 0,
      "outputs": []
    },
    {
      "cell_type": "code",
      "metadata": {
        "id": "S7SxEOohCPzb",
        "colab_type": "code",
        "colab": {
          "base_uri": "https://localhost:8080/",
          "height": 419
        },
        "outputId": "2bbfc4fe-a3cb-48c0-f527-199659be9b48"
      },
      "source": [
        "Y"
      ],
      "execution_count": 154,
      "outputs": [
        {
          "output_type": "execute_result",
          "data": {
            "text/html": [
              "<div>\n",
              "<style scoped>\n",
              "    .dataframe tbody tr th:only-of-type {\n",
              "        vertical-align: middle;\n",
              "    }\n",
              "\n",
              "    .dataframe tbody tr th {\n",
              "        vertical-align: top;\n",
              "    }\n",
              "\n",
              "    .dataframe thead th {\n",
              "        text-align: right;\n",
              "    }\n",
              "</style>\n",
              "<table border=\"1\" class=\"dataframe\">\n",
              "  <thead>\n",
              "    <tr style=\"text-align: right;\">\n",
              "      <th></th>\n",
              "      <th>0</th>\n",
              "    </tr>\n",
              "  </thead>\n",
              "  <tbody>\n",
              "    <tr>\n",
              "      <th>0</th>\n",
              "      <td>0</td>\n",
              "    </tr>\n",
              "    <tr>\n",
              "      <th>1</th>\n",
              "      <td>0</td>\n",
              "    </tr>\n",
              "    <tr>\n",
              "      <th>2</th>\n",
              "      <td>0</td>\n",
              "    </tr>\n",
              "    <tr>\n",
              "      <th>3</th>\n",
              "      <td>0</td>\n",
              "    </tr>\n",
              "    <tr>\n",
              "      <th>4</th>\n",
              "      <td>0</td>\n",
              "    </tr>\n",
              "    <tr>\n",
              "      <th>...</th>\n",
              "      <td>...</td>\n",
              "    </tr>\n",
              "    <tr>\n",
              "      <th>41183</th>\n",
              "      <td>1</td>\n",
              "    </tr>\n",
              "    <tr>\n",
              "      <th>41184</th>\n",
              "      <td>0</td>\n",
              "    </tr>\n",
              "    <tr>\n",
              "      <th>41185</th>\n",
              "      <td>0</td>\n",
              "    </tr>\n",
              "    <tr>\n",
              "      <th>41186</th>\n",
              "      <td>1</td>\n",
              "    </tr>\n",
              "    <tr>\n",
              "      <th>41187</th>\n",
              "      <td>0</td>\n",
              "    </tr>\n",
              "  </tbody>\n",
              "</table>\n",
              "<p>41188 rows × 1 columns</p>\n",
              "</div>"
            ],
            "text/plain": [
              "       0\n",
              "0      0\n",
              "1      0\n",
              "2      0\n",
              "3      0\n",
              "4      0\n",
              "...   ..\n",
              "41183  1\n",
              "41184  0\n",
              "41185  0\n",
              "41186  1\n",
              "41187  0\n",
              "\n",
              "[41188 rows x 1 columns]"
            ]
          },
          "metadata": {
            "tags": []
          },
          "execution_count": 154
        }
      ]
    },
    {
      "cell_type": "code",
      "metadata": {
        "id": "Mvcoz1lHCfd5",
        "colab_type": "code",
        "colab": {
          "base_uri": "https://localhost:8080/",
          "height": 71
        },
        "outputId": "e890766d-0f5b-4c7b-ffdb-fd3e3f0427a3"
      },
      "source": [
        "from sklearn import preprocessing \n",
        "label_encoder = preprocessing.LabelEncoder() \n",
        "Y= label_encoder.fit_transform(Y)\n",
        "Y = pd.DataFrame(Y)"
      ],
      "execution_count": 152,
      "outputs": [
        {
          "output_type": "stream",
          "text": [
            "/usr/local/lib/python3.6/dist-packages/sklearn/preprocessing/_label.py:251: DataConversionWarning: A column-vector y was passed when a 1d array was expected. Please change the shape of y to (n_samples, ), for example using ravel().\n",
            "  y = column_or_1d(y, warn=True)\n"
          ],
          "name": "stderr"
        }
      ]
    },
    {
      "cell_type": "code",
      "metadata": {
        "id": "QILASTXAlILV",
        "colab_type": "code",
        "colab": {
          "base_uri": "https://localhost:8080/",
          "height": 34
        },
        "outputId": "5e6b3f03-b579-42aa-b46a-b5affea6f352"
      },
      "source": [
        "regr = LinearRegression() \n",
        "  \n",
        "regr.fit(X_train, y_train) \n",
        "print(regr.score(X_test, y_test)) "
      ],
      "execution_count": 142,
      "outputs": [
        {
          "output_type": "stream",
          "text": [
            "0.36438740167451633\n"
          ],
          "name": "stdout"
        }
      ]
    },
    {
      "cell_type": "code",
      "metadata": {
        "id": "LlXxsQJ9C7cM",
        "colab_type": "code",
        "colab": {}
      },
      "source": [
        "from xgboost import XGBClassifier\n",
        "xgb = XGBClassifier(n_estimators=100)"
      ],
      "execution_count": 0,
      "outputs": []
    },
    {
      "cell_type": "code",
      "metadata": {
        "id": "HsI3d9lr0A4E",
        "colab_type": "code",
        "colab": {
          "base_uri": "https://localhost:8080/",
          "height": 224
        },
        "outputId": "ea244189-0ee5-4dc1-fcf8-b29fd9da55dc"
      },
      "source": [
        "xgb.fit(X_train, y_train)"
      ],
      "execution_count": 156,
      "outputs": [
        {
          "output_type": "stream",
          "text": [
            "/usr/local/lib/python3.6/dist-packages/sklearn/preprocessing/_label.py:235: DataConversionWarning: A column-vector y was passed when a 1d array was expected. Please change the shape of y to (n_samples, ), for example using ravel().\n",
            "  y = column_or_1d(y, warn=True)\n",
            "/usr/local/lib/python3.6/dist-packages/sklearn/preprocessing/_label.py:268: DataConversionWarning: A column-vector y was passed when a 1d array was expected. Please change the shape of y to (n_samples, ), for example using ravel().\n",
            "  y = column_or_1d(y, warn=True)\n"
          ],
          "name": "stderr"
        },
        {
          "output_type": "execute_result",
          "data": {
            "text/plain": [
              "XGBClassifier(base_score=0.5, booster='gbtree', colsample_bylevel=1,\n",
              "              colsample_bynode=1, colsample_bytree=1, gamma=0,\n",
              "              learning_rate=0.1, max_delta_step=0, max_depth=3,\n",
              "              min_child_weight=1, missing=None, n_estimators=100, n_jobs=1,\n",
              "              nthread=None, objective='binary:logistic', random_state=0,\n",
              "              reg_alpha=0, reg_lambda=1, scale_pos_weight=1, seed=None,\n",
              "              silent=None, subsample=1, verbosity=1)"
            ]
          },
          "metadata": {
            "tags": []
          },
          "execution_count": 156
        }
      ]
    },
    {
      "cell_type": "code",
      "metadata": {
        "id": "mKI_v5kJ0BnD",
        "colab_type": "code",
        "colab": {}
      },
      "source": [
        "preds = xgb.predict(X_test)"
      ],
      "execution_count": 0,
      "outputs": []
    },
    {
      "cell_type": "code",
      "metadata": {
        "id": "ayRoH1kr10Mf",
        "colab_type": "code",
        "colab": {}
      },
      "source": [
        "preds = pd.DataFrame(preds)"
      ],
      "execution_count": 0,
      "outputs": []
    },
    {
      "cell_type": "code",
      "metadata": {
        "id": "I3Tj02752Mfh",
        "colab_type": "code",
        "colab": {
          "base_uri": "https://localhost:8080/",
          "height": 419
        },
        "outputId": "3d9bd72b-e995-44fd-98a7-e277f5220bba"
      },
      "source": [
        "preds"
      ],
      "execution_count": 167,
      "outputs": [
        {
          "output_type": "execute_result",
          "data": {
            "text/html": [
              "<div>\n",
              "<style scoped>\n",
              "    .dataframe tbody tr th:only-of-type {\n",
              "        vertical-align: middle;\n",
              "    }\n",
              "\n",
              "    .dataframe tbody tr th {\n",
              "        vertical-align: top;\n",
              "    }\n",
              "\n",
              "    .dataframe thead th {\n",
              "        text-align: right;\n",
              "    }\n",
              "</style>\n",
              "<table border=\"1\" class=\"dataframe\">\n",
              "  <thead>\n",
              "    <tr style=\"text-align: right;\">\n",
              "      <th></th>\n",
              "      <th>0</th>\n",
              "    </tr>\n",
              "  </thead>\n",
              "  <tbody>\n",
              "    <tr>\n",
              "      <th>0</th>\n",
              "      <td>0</td>\n",
              "    </tr>\n",
              "    <tr>\n",
              "      <th>1</th>\n",
              "      <td>0</td>\n",
              "    </tr>\n",
              "    <tr>\n",
              "      <th>2</th>\n",
              "      <td>0</td>\n",
              "    </tr>\n",
              "    <tr>\n",
              "      <th>3</th>\n",
              "      <td>0</td>\n",
              "    </tr>\n",
              "    <tr>\n",
              "      <th>4</th>\n",
              "      <td>0</td>\n",
              "    </tr>\n",
              "    <tr>\n",
              "      <th>...</th>\n",
              "      <td>...</td>\n",
              "    </tr>\n",
              "    <tr>\n",
              "      <th>10292</th>\n",
              "      <td>0</td>\n",
              "    </tr>\n",
              "    <tr>\n",
              "      <th>10293</th>\n",
              "      <td>0</td>\n",
              "    </tr>\n",
              "    <tr>\n",
              "      <th>10294</th>\n",
              "      <td>0</td>\n",
              "    </tr>\n",
              "    <tr>\n",
              "      <th>10295</th>\n",
              "      <td>0</td>\n",
              "    </tr>\n",
              "    <tr>\n",
              "      <th>10296</th>\n",
              "      <td>0</td>\n",
              "    </tr>\n",
              "  </tbody>\n",
              "</table>\n",
              "<p>10297 rows × 1 columns</p>\n",
              "</div>"
            ],
            "text/plain": [
              "       0\n",
              "0      0\n",
              "1      0\n",
              "2      0\n",
              "3      0\n",
              "4      0\n",
              "...   ..\n",
              "10292  0\n",
              "10293  0\n",
              "10294  0\n",
              "10295  0\n",
              "10296  0\n",
              "\n",
              "[10297 rows x 1 columns]"
            ]
          },
          "metadata": {
            "tags": []
          },
          "execution_count": 167
        }
      ]
    },
    {
      "cell_type": "code",
      "metadata": {
        "id": "QliZ36a819kH",
        "colab_type": "code",
        "colab": {
          "base_uri": "https://localhost:8080/",
          "height": 419
        },
        "outputId": "faef1794-0eac-436a-9853-55855d220a25"
      },
      "source": [
        "y_test"
      ],
      "execution_count": 169,
      "outputs": [
        {
          "output_type": "execute_result",
          "data": {
            "text/html": [
              "<div>\n",
              "<style scoped>\n",
              "    .dataframe tbody tr th:only-of-type {\n",
              "        vertical-align: middle;\n",
              "    }\n",
              "\n",
              "    .dataframe tbody tr th {\n",
              "        vertical-align: top;\n",
              "    }\n",
              "\n",
              "    .dataframe thead th {\n",
              "        text-align: right;\n",
              "    }\n",
              "</style>\n",
              "<table border=\"1\" class=\"dataframe\">\n",
              "  <thead>\n",
              "    <tr style=\"text-align: right;\">\n",
              "      <th></th>\n",
              "      <th>0</th>\n",
              "    </tr>\n",
              "  </thead>\n",
              "  <tbody>\n",
              "    <tr>\n",
              "      <th>26648</th>\n",
              "      <td>0</td>\n",
              "    </tr>\n",
              "    <tr>\n",
              "      <th>2548</th>\n",
              "      <td>0</td>\n",
              "    </tr>\n",
              "    <tr>\n",
              "      <th>11620</th>\n",
              "      <td>0</td>\n",
              "    </tr>\n",
              "    <tr>\n",
              "      <th>18188</th>\n",
              "      <td>0</td>\n",
              "    </tr>\n",
              "    <tr>\n",
              "      <th>24383</th>\n",
              "      <td>0</td>\n",
              "    </tr>\n",
              "    <tr>\n",
              "      <th>...</th>\n",
              "      <td>...</td>\n",
              "    </tr>\n",
              "    <tr>\n",
              "      <th>35173</th>\n",
              "      <td>0</td>\n",
              "    </tr>\n",
              "    <tr>\n",
              "      <th>22731</th>\n",
              "      <td>0</td>\n",
              "    </tr>\n",
              "    <tr>\n",
              "      <th>5223</th>\n",
              "      <td>0</td>\n",
              "    </tr>\n",
              "    <tr>\n",
              "      <th>12399</th>\n",
              "      <td>0</td>\n",
              "    </tr>\n",
              "    <tr>\n",
              "      <th>25228</th>\n",
              "      <td>0</td>\n",
              "    </tr>\n",
              "  </tbody>\n",
              "</table>\n",
              "<p>10297 rows × 1 columns</p>\n",
              "</div>"
            ],
            "text/plain": [
              "       0\n",
              "26648  0\n",
              "2548   0\n",
              "11620  0\n",
              "18188  0\n",
              "24383  0\n",
              "...   ..\n",
              "35173  0\n",
              "22731  0\n",
              "5223   0\n",
              "12399  0\n",
              "25228  0\n",
              "\n",
              "[10297 rows x 1 columns]"
            ]
          },
          "metadata": {
            "tags": []
          },
          "execution_count": 169
        }
      ]
    },
    {
      "cell_type": "code",
      "metadata": {
        "id": "NWxviEbf3Pmi",
        "colab_type": "code",
        "colab": {
          "base_uri": "https://localhost:8080/",
          "height": 34
        },
        "outputId": "b0dbbfab-994a-4ffe-f562-44e436e515d8"
      },
      "source": [
        "from sklearn.metrics import accuracy_score\n",
        "accuracy_score(y_test, preds)"
      ],
      "execution_count": 171,
      "outputs": [
        {
          "output_type": "execute_result",
          "data": {
            "text/plain": [
              "0.9162862969797029"
            ]
          },
          "metadata": {
            "tags": []
          },
          "execution_count": 171
        }
      ]
    }
  ]
}