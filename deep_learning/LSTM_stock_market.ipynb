{
  "nbformat": 4,
  "nbformat_minor": 0,
  "metadata": {
    "colab": {
      "name": "LSTM_stock_market.ipynb",
      "provenance": []
    },
    "kernelspec": {
      "name": "python3",
      "display_name": "Python 3"
    }
  },
  "cells": [
    {
      "cell_type": "code",
      "metadata": {
        "id": "zNSGKqcHqLqk",
        "colab_type": "code",
        "colab": {}
      },
      "source": [
        "import pandas as pd\n",
        "import numpy as np"
      ],
      "execution_count": 18,
      "outputs": []
    },
    {
      "cell_type": "markdown",
      "metadata": {
        "id": "11p-mGfhq1xO",
        "colab_type": "text"
      },
      "source": [
        "**we can take data from direct website also just use pandas_reader library**"
      ]
    },
    {
      "cell_type": "code",
      "metadata": {
        "id": "2SdGljEFrAiK",
        "colab_type": "code",
        "colab": {}
      },
      "source": [
        "#import pandas_datareader as pdr\n",
        "#key=\"\"\n",
        "#df = pdr.get_data_tiingo('AAPL', api_key=key)\n",
        "#df.to_csv('AAPL.csv')"
      ],
      "execution_count": 6,
      "outputs": []
    },
    {
      "cell_type": "markdown",
      "metadata": {
        "id": "mFra4bPerJzC",
        "colab_type": "text"
      },
      "source": [
        "we are taking data using github raw data url."
      ]
    },
    {
      "cell_type": "code",
      "metadata": {
        "id": "_NtNlWTnqYrt",
        "colab_type": "code",
        "colab": {}
      },
      "source": [
        "url = 'https://raw.githubusercontent.com/krishnaik06/Stock-MArket-Forecasting/master/AAPL.csv'\n",
        "data =pd.read_csv(url)"
      ],
      "execution_count": 7,
      "outputs": []
    },
    {
      "cell_type": "code",
      "metadata": {
        "id": "Ek2dKB4Pqe2U",
        "colab_type": "code",
        "colab": {
          "base_uri": "https://localhost:8080/",
          "height": 107
        },
        "outputId": "31ddcf44-e03e-46d7-8ec8-d86d2ccd3c3a"
      },
      "source": [
        "data.head(2)"
      ],
      "execution_count": 9,
      "outputs": [
        {
          "output_type": "execute_result",
          "data": {
            "text/html": [
              "<div>\n",
              "<style scoped>\n",
              "    .dataframe tbody tr th:only-of-type {\n",
              "        vertical-align: middle;\n",
              "    }\n",
              "\n",
              "    .dataframe tbody tr th {\n",
              "        vertical-align: top;\n",
              "    }\n",
              "\n",
              "    .dataframe thead th {\n",
              "        text-align: right;\n",
              "    }\n",
              "</style>\n",
              "<table border=\"1\" class=\"dataframe\">\n",
              "  <thead>\n",
              "    <tr style=\"text-align: right;\">\n",
              "      <th></th>\n",
              "      <th>Unnamed: 0</th>\n",
              "      <th>symbol</th>\n",
              "      <th>date</th>\n",
              "      <th>close</th>\n",
              "      <th>high</th>\n",
              "      <th>low</th>\n",
              "      <th>open</th>\n",
              "      <th>volume</th>\n",
              "      <th>adjClose</th>\n",
              "      <th>adjHigh</th>\n",
              "      <th>adjLow</th>\n",
              "      <th>adjOpen</th>\n",
              "      <th>adjVolume</th>\n",
              "      <th>divCash</th>\n",
              "      <th>splitFactor</th>\n",
              "    </tr>\n",
              "  </thead>\n",
              "  <tbody>\n",
              "    <tr>\n",
              "      <th>0</th>\n",
              "      <td>0</td>\n",
              "      <td>AAPL</td>\n",
              "      <td>2015-05-27 00:00:00+00:00</td>\n",
              "      <td>132.045</td>\n",
              "      <td>132.26</td>\n",
              "      <td>130.05</td>\n",
              "      <td>130.34</td>\n",
              "      <td>45833246</td>\n",
              "      <td>121.682558</td>\n",
              "      <td>121.880685</td>\n",
              "      <td>119.844118</td>\n",
              "      <td>120.111360</td>\n",
              "      <td>45833246</td>\n",
              "      <td>0.0</td>\n",
              "      <td>1.0</td>\n",
              "    </tr>\n",
              "    <tr>\n",
              "      <th>1</th>\n",
              "      <td>1</td>\n",
              "      <td>AAPL</td>\n",
              "      <td>2015-05-28 00:00:00+00:00</td>\n",
              "      <td>131.780</td>\n",
              "      <td>131.95</td>\n",
              "      <td>131.10</td>\n",
              "      <td>131.86</td>\n",
              "      <td>30733309</td>\n",
              "      <td>121.438354</td>\n",
              "      <td>121.595013</td>\n",
              "      <td>120.811718</td>\n",
              "      <td>121.512076</td>\n",
              "      <td>30733309</td>\n",
              "      <td>0.0</td>\n",
              "      <td>1.0</td>\n",
              "    </tr>\n",
              "  </tbody>\n",
              "</table>\n",
              "</div>"
            ],
            "text/plain": [
              "   Unnamed: 0 symbol  ... divCash  splitFactor\n",
              "0           0   AAPL  ...     0.0          1.0\n",
              "1           1   AAPL  ...     0.0          1.0\n",
              "\n",
              "[2 rows x 15 columns]"
            ]
          },
          "metadata": {
            "tags": []
          },
          "execution_count": 9
        }
      ]
    },
    {
      "cell_type": "code",
      "metadata": {
        "id": "WaRnCxUhqiBs",
        "colab_type": "code",
        "colab": {
          "base_uri": "https://localhost:8080/",
          "height": 34
        },
        "outputId": "4d90d3ee-f221-4cdf-c9ea-236e708da408"
      },
      "source": [
        "data.shape"
      ],
      "execution_count": 5,
      "outputs": [
        {
          "output_type": "execute_result",
          "data": {
            "text/plain": [
              "(1258, 15)"
            ]
          },
          "metadata": {
            "tags": []
          },
          "execution_count": 5
        }
      ]
    },
    {
      "cell_type": "code",
      "metadata": {
        "id": "Z6PbltjTqnUL",
        "colab_type": "code",
        "colab": {
          "base_uri": "https://localhost:8080/",
          "height": 107
        },
        "outputId": "c0aebd53-549f-4b9a-dafc-7829e14f2e0d"
      },
      "source": [
        "data.tail(2)"
      ],
      "execution_count": 8,
      "outputs": [
        {
          "output_type": "execute_result",
          "data": {
            "text/html": [
              "<div>\n",
              "<style scoped>\n",
              "    .dataframe tbody tr th:only-of-type {\n",
              "        vertical-align: middle;\n",
              "    }\n",
              "\n",
              "    .dataframe tbody tr th {\n",
              "        vertical-align: top;\n",
              "    }\n",
              "\n",
              "    .dataframe thead th {\n",
              "        text-align: right;\n",
              "    }\n",
              "</style>\n",
              "<table border=\"1\" class=\"dataframe\">\n",
              "  <thead>\n",
              "    <tr style=\"text-align: right;\">\n",
              "      <th></th>\n",
              "      <th>Unnamed: 0</th>\n",
              "      <th>symbol</th>\n",
              "      <th>date</th>\n",
              "      <th>close</th>\n",
              "      <th>high</th>\n",
              "      <th>low</th>\n",
              "      <th>open</th>\n",
              "      <th>volume</th>\n",
              "      <th>adjClose</th>\n",
              "      <th>adjHigh</th>\n",
              "      <th>adjLow</th>\n",
              "      <th>adjOpen</th>\n",
              "      <th>adjVolume</th>\n",
              "      <th>divCash</th>\n",
              "      <th>splitFactor</th>\n",
              "    </tr>\n",
              "  </thead>\n",
              "  <tbody>\n",
              "    <tr>\n",
              "      <th>1256</th>\n",
              "      <td>1256</td>\n",
              "      <td>AAPL</td>\n",
              "      <td>2020-05-21 00:00:00+00:00</td>\n",
              "      <td>316.85</td>\n",
              "      <td>320.89</td>\n",
              "      <td>315.87</td>\n",
              "      <td>318.66</td>\n",
              "      <td>25672211</td>\n",
              "      <td>316.85</td>\n",
              "      <td>320.89</td>\n",
              "      <td>315.87</td>\n",
              "      <td>318.66</td>\n",
              "      <td>25672211</td>\n",
              "      <td>0.0</td>\n",
              "      <td>1.0</td>\n",
              "    </tr>\n",
              "    <tr>\n",
              "      <th>1257</th>\n",
              "      <td>1257</td>\n",
              "      <td>AAPL</td>\n",
              "      <td>2020-05-22 00:00:00+00:00</td>\n",
              "      <td>318.89</td>\n",
              "      <td>319.23</td>\n",
              "      <td>315.35</td>\n",
              "      <td>315.77</td>\n",
              "      <td>20450754</td>\n",
              "      <td>318.89</td>\n",
              "      <td>319.23</td>\n",
              "      <td>315.35</td>\n",
              "      <td>315.77</td>\n",
              "      <td>20450754</td>\n",
              "      <td>0.0</td>\n",
              "      <td>1.0</td>\n",
              "    </tr>\n",
              "  </tbody>\n",
              "</table>\n",
              "</div>"
            ],
            "text/plain": [
              "      Unnamed: 0 symbol  ... divCash  splitFactor\n",
              "1256        1256   AAPL  ...     0.0          1.0\n",
              "1257        1257   AAPL  ...     0.0          1.0\n",
              "\n",
              "[2 rows x 15 columns]"
            ]
          },
          "metadata": {
            "tags": []
          },
          "execution_count": 8
        }
      ]
    },
    {
      "cell_type": "code",
      "metadata": {
        "id": "u_1bw_myre0z",
        "colab_type": "code",
        "colab": {}
      },
      "source": [
        "df1=data.reset_index()['close']\n",
        "# reset_index() is used to reset index mostly used with groupby()"
      ],
      "execution_count": 10,
      "outputs": []
    },
    {
      "cell_type": "code",
      "metadata": {
        "id": "XL_BQHlzr1Dq",
        "colab_type": "code",
        "colab": {
          "base_uri": "https://localhost:8080/",
          "height": 70
        },
        "outputId": "1aad097d-397a-4390-abe0-48c77eab071b"
      },
      "source": [
        "df1.head(2)"
      ],
      "execution_count": 11,
      "outputs": [
        {
          "output_type": "execute_result",
          "data": {
            "text/plain": [
              "0    132.045\n",
              "1    131.780\n",
              "Name: close, dtype: float64"
            ]
          },
          "metadata": {
            "tags": []
          },
          "execution_count": 11
        }
      ]
    },
    {
      "cell_type": "code",
      "metadata": {
        "id": "9IqkCh7bvHk1",
        "colab_type": "code",
        "colab": {
          "base_uri": "https://localhost:8080/",
          "height": 34
        },
        "outputId": "b50b89ee-99b5-4eb9-932d-73f5fed3e8b9"
      },
      "source": [
        "type(df1)"
      ],
      "execution_count": 19,
      "outputs": [
        {
          "output_type": "execute_result",
          "data": {
            "text/plain": [
              "pandas.core.series.Series"
            ]
          },
          "metadata": {
            "tags": []
          },
          "execution_count": 19
        }
      ]
    },
    {
      "cell_type": "code",
      "metadata": {
        "id": "ABd6szMPsDkL",
        "colab_type": "code",
        "colab": {
          "base_uri": "https://localhost:8080/",
          "height": 282
        },
        "outputId": "f366bb6b-df6b-4141-8623-44370dec6193"
      },
      "source": [
        "import matplotlib.pyplot as plt\n",
        "plt.figure(figsize=(20,4))           \n",
        "plt.plot(df1)\n",
        "#https://matplotlib.org/3.2.2/api/_as_gen/matplotlib.pyplot.plot.html"
      ],
      "execution_count": 17,
      "outputs": [
        {
          "output_type": "execute_result",
          "data": {
            "text/plain": [
              "[<matplotlib.lines.Line2D at 0x7fd41b562fd0>]"
            ]
          },
          "metadata": {
            "tags": []
          },
          "execution_count": 17
        },
        {
          "output_type": "display_data",
          "data": {
            "image/png": "[encoded data removed]",
            "text/plain": [
              "<Figure size 1440x288 with 1 Axes>"
            ]
          },
          "metadata": {
            "tags": [],
            "needs_background": "light"
          }
        }
      ]
    },
    {
      "cell_type": "code",
      "metadata": {
        "id": "3Vtkz2fNvrqz",
        "colab_type": "code",
        "colab": {}
      },
      "source": [
        ""
      ],
      "execution_count": null,
      "outputs": []
    },
    {
      "cell_type": "markdown",
      "metadata": {
        "id": "bRpT5ByJuT5a",
        "colab_type": "text"
      },
      "source": [
        "**LSTM are sensitive to the scale of the data. so we apply MinMax scaler**"
      ]
    },
    {
      "cell_type": "code",
      "metadata": {
        "id": "rd0gjPDZuQvt",
        "colab_type": "code",
        "colab": {}
      },
      "source": [
        "from sklearn.preprocessing import MinMaxScaler\n",
        "scaler=MinMaxScaler(feature_range=(0,1))\n",
        "df1=scaler.fit_transform(np.array(df1).reshape(-1,1))"
      ],
      "execution_count": 20,
      "outputs": []
    },
    {
      "cell_type": "code",
      "metadata": {
        "id": "ql38W3npvMwJ",
        "colab_type": "code",
        "colab": {
          "base_uri": "https://localhost:8080/",
          "height": 34
        },
        "outputId": "b35f4fde-f20a-49a4-e4bc-d2dfc0b59b0c"
      },
      "source": [
        "type(df1)"
      ],
      "execution_count": 21,
      "outputs": [
        {
          "output_type": "execute_result",
          "data": {
            "text/plain": [
              "numpy.ndarray"
            ]
          },
          "metadata": {
            "tags": []
          },
          "execution_count": 21
        }
      ]
    },
    {
      "cell_type": "code",
      "metadata": {
        "id": "llz0R21gvP_K",
        "colab_type": "code",
        "colab": {
          "base_uri": "https://localhost:8080/",
          "height": 141
        },
        "outputId": "e6a571bb-17a2-4aa7-ea6e-c6a49ee6b8b6"
      },
      "source": [
        "df1"
      ],
      "execution_count": 22,
      "outputs": [
        {
          "output_type": "execute_result",
          "data": {
            "text/plain": [
              "array([[0.17607447],\n",
              "       [0.17495567],\n",
              "       [0.16862282],\n",
              "       ...,\n",
              "       [0.96635143],\n",
              "       [0.9563033 ],\n",
              "       [0.96491598]])"
            ]
          },
          "metadata": {
            "tags": []
          },
          "execution_count": 22
        }
      ]
    },
    {
      "cell_type": "code",
      "metadata": {
        "id": "fIwB0oWyvyEq",
        "colab_type": "code",
        "colab": {}
      },
      "source": [
        "##splitting dataset into train and test split\n",
        "training_size=int(len(df1)*0.65)\n",
        "test_size=len(df1)-training_size\n",
        "train_data,test_data=df1[0:training_size,:],df1[training_size:len(df1),:1]"
      ],
      "execution_count": 23,
      "outputs": []
    },
    {
      "cell_type": "code",
      "metadata": {
        "id": "gX_F4Qniv28K",
        "colab_type": "code",
        "colab": {
          "base_uri": "https://localhost:8080/",
          "height": 34
        },
        "outputId": "98af4830-4e87-417a-af11-1bbd9b1e7aec"
      },
      "source": [
        "training_size,test_size"
      ],
      "execution_count": 24,
      "outputs": [
        {
          "output_type": "execute_result",
          "data": {
            "text/plain": [
              "(817, 441)"
            ]
          },
          "metadata": {
            "tags": []
          },
          "execution_count": 24
        }
      ]
    },
    {
      "cell_type": "markdown",
      "metadata": {
        "id": "Qd-MYwxSwCWJ",
        "colab_type": "text"
      },
      "source": [
        "**most imp concept while preperating data to feed LSTM**"
      ]
    },
    {
      "cell_type": "code",
      "metadata": {
        "id": "TeWx0YZYv7ND",
        "colab_type": "code",
        "colab": {}
      },
      "source": [
        "import numpy\n",
        "# convert an array of values into a dataset matrix\n",
        "def create_dataset(dataset, time_step=1):\n",
        "\tdataX, dataY = [], []\n",
        "\tfor i in range(len(dataset)-time_step-1): # we have to exclude last 99 data***\n",
        "\t\ta = dataset[i:(i+time_step), 0]   ###i=0, 0,1,2,3-----99--->X   100---->Y \n",
        "\t\tdataX.append(a)\n",
        "\t\tdataY.append(dataset[i + time_step, 0])###??????????\n",
        "\treturn numpy.array(dataX), numpy.array(dataY)"
      ],
      "execution_count": 25,
      "outputs": []
    },
    {
      "cell_type": "code",
      "metadata": {
        "id": "d3a2aVIiwMlk",
        "colab_type": "code",
        "colab": {}
      },
      "source": [
        "# reshape into X=t,t+1,t+2,t+3 and Y=t+4\n",
        "time_step = 100\n",
        "X_train, y_train = create_dataset(train_data, time_step)\n",
        "X_test, ytest = create_dataset(test_data, time_step)"
      ],
      "execution_count": 26,
      "outputs": []
    },
    {
      "cell_type": "code",
      "metadata": {
        "id": "ogBXJQZOwxcq",
        "colab_type": "code",
        "colab": {
          "base_uri": "https://localhost:8080/",
          "height": 70
        },
        "outputId": "10bce9aa-88f9-486d-e957-f92d877698b2"
      },
      "source": [
        "print(X_test.shape), print(ytest.shape)"
      ],
      "execution_count": 28,
      "outputs": [
        {
          "output_type": "stream",
          "text": [
            "(340, 100)\n",
            "(340,)\n"
          ],
          "name": "stdout"
        },
        {
          "output_type": "execute_result",
          "data": {
            "text/plain": [
              "(None, None)"
            ]
          },
          "metadata": {
            "tags": []
          },
          "execution_count": 28
        }
      ]
    },
    {
      "cell_type": "code",
      "metadata": {
        "id": "VdBOzeAbw5cy",
        "colab_type": "code",
        "colab": {}
      },
      "source": [
        "# reshape input to be [samples, time steps, features] which is required for LSTM ?????????????????\n",
        "X_train =X_train.reshape(X_train.shape[0],X_train.shape[1] , 1)\n",
        "X_test = X_test.reshape(X_test.shape[0],X_test.shape[1] , 1)"
      ],
      "execution_count": 29,
      "outputs": []
    },
    {
      "cell_type": "code",
      "metadata": {
        "id": "cLsgCQhBxPXy",
        "colab_type": "code",
        "colab": {
          "base_uri": "https://localhost:8080/",
          "height": 301
        },
        "outputId": "1b87e170-7f9b-42c3-b121-de479f489005"
      },
      "source": [
        "### Create the Stacked LSTM model\n",
        "from tensorflow.keras.models import Sequential\n",
        "from tensorflow.keras.layers import Dense\n",
        "from tensorflow.keras.layers import LSTM\n",
        "model=Sequential()\n",
        "model.add(LSTM(50,return_sequences=True,input_shape=(100,1)))\n",
        "model.add(LSTM(50,return_sequences=True))\n",
        "model.add(LSTM(50))\n",
        "model.add(Dense(1))\n",
        "model.compile(loss='mean_squared_error',optimizer='adam')\n",
        "model.summary()"
      ],
      "execution_count": 30,
      "outputs": [
        {
          "output_type": "stream",
          "text": [
            "Model: \"sequential\"\n",
            "_________________________________________________________________\n",
            "Layer (type)                 Output Shape              Param #   \n",
            "=================================================================\n",
            "lstm (LSTM)                  (None, 100, 50)           10400     \n",
            "_________________________________________________________________\n",
            "lstm_1 (LSTM)                (None, 100, 50)           20200     \n",
            "_________________________________________________________________\n",
            "lstm_2 (LSTM)                (None, 50)                20200     \n",
            "_________________________________________________________________\n",
            "dense (Dense)                (None, 1)                 51        \n",
            "=================================================================\n",
            "Total params: 50,851\n",
            "Trainable params: 50,851\n",
            "Non-trainable params: 0\n",
            "_________________________________________________________________\n"
          ],
          "name": "stdout"
        }
      ]
    },
    {
      "cell_type": "code",
      "metadata": {
        "id": "SUpg48tFxYHR",
        "colab_type": "code",
        "colab": {
          "base_uri": "https://localhost:8080/",
          "height": 1000
        },
        "outputId": "a7956474-7bdc-491c-bee2-73a4abfd8745"
      },
      "source": [
        "model.fit(X_train,y_train,validation_data=(X_test,ytest),epochs=100,batch_size=64,verbose=1)"
      ],
      "execution_count": 31,
      "outputs": [
        {
          "output_type": "stream",
          "text": [
            "Epoch 1/100\n",
            "12/12 [==============================] - 3s 270ms/step - loss: 0.0142 - val_loss: 0.0603\n",
            "Epoch 2/100\n",
            "12/12 [==============================] - 2s 191ms/step - loss: 0.0033 - val_loss: 0.0045\n",
            "Epoch 3/100\n",
            "12/12 [==============================] - 2s 188ms/step - loss: 0.0010 - val_loss: 0.0043\n",
            "Epoch 4/100\n",
            "12/12 [==============================] - 2s 188ms/step - loss: 7.3748e-04 - val_loss: 0.0057\n",
            "Epoch 5/100\n",
            "12/12 [==============================] - 2s 188ms/step - loss: 6.4102e-04 - val_loss: 0.0051\n",
            "Epoch 6/100\n",
            "12/12 [==============================] - 2s 191ms/step - loss: 6.2328e-04 - val_loss: 0.0045\n",
            "Epoch 7/100\n",
            "12/12 [==============================] - 2s 190ms/step - loss: 6.4318e-04 - val_loss: 0.0048\n",
            "Epoch 8/100\n",
            "12/12 [==============================] - 2s 188ms/step - loss: 6.0037e-04 - val_loss: 0.0049\n",
            "Epoch 9/100\n",
            "12/12 [==============================] - 2s 189ms/step - loss: 6.0679e-04 - val_loss: 0.0042\n",
            "Epoch 10/100\n",
            "12/12 [==============================] - 2s 189ms/step - loss: 6.4178e-04 - val_loss: 0.0041\n",
            "Epoch 11/100\n",
            "12/12 [==============================] - 2s 190ms/step - loss: 5.7777e-04 - val_loss: 0.0046\n",
            "Epoch 12/100\n",
            "12/12 [==============================] - 2s 190ms/step - loss: 5.8764e-04 - val_loss: 0.0037\n",
            "Epoch 13/100\n",
            "12/12 [==============================] - 2s 188ms/step - loss: 5.7442e-04 - val_loss: 0.0033\n",
            "Epoch 14/100\n",
            "12/12 [==============================] - 2s 192ms/step - loss: 6.1939e-04 - val_loss: 0.0032\n",
            "Epoch 15/100\n",
            "12/12 [==============================] - 2s 193ms/step - loss: 5.9852e-04 - val_loss: 0.0034\n",
            "Epoch 16/100\n",
            "12/12 [==============================] - 2s 198ms/step - loss: 5.7714e-04 - val_loss: 0.0031\n",
            "Epoch 17/100\n",
            "12/12 [==============================] - 2s 194ms/step - loss: 5.3303e-04 - val_loss: 0.0030\n",
            "Epoch 18/100\n",
            "12/12 [==============================] - 2s 192ms/step - loss: 5.3573e-04 - val_loss: 0.0031\n",
            "Epoch 19/100\n",
            "12/12 [==============================] - 2s 193ms/step - loss: 5.3388e-04 - val_loss: 0.0030\n",
            "Epoch 20/100\n",
            "12/12 [==============================] - 2s 193ms/step - loss: 5.2577e-04 - val_loss: 0.0033\n",
            "Epoch 21/100\n",
            "12/12 [==============================] - 2s 201ms/step - loss: 5.1415e-04 - val_loss: 0.0028\n",
            "Epoch 22/100\n",
            "12/12 [==============================] - 3s 214ms/step - loss: 5.2755e-04 - val_loss: 0.0026\n",
            "Epoch 23/100\n",
            "12/12 [==============================] - 2s 203ms/step - loss: 4.9900e-04 - val_loss: 0.0025\n",
            "Epoch 24/100\n",
            "12/12 [==============================] - 2s 193ms/step - loss: 4.8101e-04 - val_loss: 0.0030\n",
            "Epoch 25/100\n",
            "12/12 [==============================] - 2s 196ms/step - loss: 4.8350e-04 - val_loss: 0.0025\n",
            "Epoch 26/100\n",
            "12/12 [==============================] - 2s 195ms/step - loss: 4.5152e-04 - val_loss: 0.0023\n",
            "Epoch 27/100\n",
            "12/12 [==============================] - 2s 199ms/step - loss: 4.3956e-04 - val_loss: 0.0021\n",
            "Epoch 28/100\n",
            "12/12 [==============================] - 2s 197ms/step - loss: 4.3603e-04 - val_loss: 0.0028\n",
            "Epoch 29/100\n",
            "12/12 [==============================] - 2s 196ms/step - loss: 4.3845e-04 - val_loss: 0.0019\n",
            "Epoch 30/100\n",
            "12/12 [==============================] - 2s 193ms/step - loss: 4.1737e-04 - val_loss: 0.0019\n",
            "Epoch 31/100\n",
            "12/12 [==============================] - 3s 213ms/step - loss: 4.1228e-04 - val_loss: 0.0022\n",
            "Epoch 32/100\n",
            "12/12 [==============================] - 3s 215ms/step - loss: 3.9890e-04 - val_loss: 0.0027\n",
            "Epoch 33/100\n",
            "12/12 [==============================] - 3s 212ms/step - loss: 5.0790e-04 - val_loss: 0.0017\n",
            "Epoch 34/100\n",
            "12/12 [==============================] - 3s 212ms/step - loss: 4.0712e-04 - val_loss: 0.0019\n",
            "Epoch 35/100\n",
            "12/12 [==============================] - 2s 198ms/step - loss: 3.8402e-04 - val_loss: 0.0018\n",
            "Epoch 36/100\n",
            "12/12 [==============================] - 2s 193ms/step - loss: 3.9864e-04 - val_loss: 0.0026\n",
            "Epoch 37/100\n",
            "12/12 [==============================] - 2s 194ms/step - loss: 4.6402e-04 - val_loss: 0.0017\n",
            "Epoch 38/100\n",
            "12/12 [==============================] - 2s 197ms/step - loss: 4.0016e-04 - val_loss: 0.0017\n",
            "Epoch 39/100\n",
            "12/12 [==============================] - 2s 201ms/step - loss: 3.5484e-04 - val_loss: 0.0018\n",
            "Epoch 40/100\n",
            "12/12 [==============================] - 2s 205ms/step - loss: 3.5514e-04 - val_loss: 0.0021\n",
            "Epoch 41/100\n",
            "12/12 [==============================] - 2s 194ms/step - loss: 3.4027e-04 - val_loss: 0.0016\n",
            "Epoch 42/100\n",
            "12/12 [==============================] - 2s 197ms/step - loss: 3.5076e-04 - val_loss: 0.0017\n",
            "Epoch 43/100\n",
            "12/12 [==============================] - 2s 198ms/step - loss: 3.3540e-04 - val_loss: 0.0018\n",
            "Epoch 44/100\n",
            "12/12 [==============================] - 2s 197ms/step - loss: 3.5645e-04 - val_loss: 0.0018\n",
            "Epoch 45/100\n",
            "12/12 [==============================] - 2s 199ms/step - loss: 3.2651e-04 - val_loss: 0.0023\n",
            "Epoch 46/100\n",
            "12/12 [==============================] - 2s 198ms/step - loss: 4.0328e-04 - val_loss: 0.0025\n",
            "Epoch 47/100\n",
            "12/12 [==============================] - 2s 198ms/step - loss: 3.6193e-04 - val_loss: 0.0020\n",
            "Epoch 48/100\n",
            "12/12 [==============================] - 2s 196ms/step - loss: 3.4495e-04 - val_loss: 0.0020\n",
            "Epoch 49/100\n",
            "12/12 [==============================] - 2s 195ms/step - loss: 3.1362e-04 - val_loss: 0.0020\n",
            "Epoch 50/100\n",
            "12/12 [==============================] - 2s 197ms/step - loss: 3.0259e-04 - val_loss: 0.0018\n",
            "Epoch 51/100\n",
            "12/12 [==============================] - 2s 200ms/step - loss: 3.3671e-04 - val_loss: 0.0025\n",
            "Epoch 52/100\n",
            "12/12 [==============================] - 2s 197ms/step - loss: 3.0231e-04 - val_loss: 0.0019\n",
            "Epoch 53/100\n",
            "12/12 [==============================] - 2s 197ms/step - loss: 3.0087e-04 - val_loss: 0.0019\n",
            "Epoch 54/100\n",
            "12/12 [==============================] - 2s 196ms/step - loss: 3.3520e-04 - val_loss: 0.0028\n",
            "Epoch 55/100\n",
            "12/12 [==============================] - 2s 197ms/step - loss: 3.1810e-04 - val_loss: 0.0022\n",
            "Epoch 56/100\n",
            "12/12 [==============================] - 2s 195ms/step - loss: 3.0680e-04 - val_loss: 0.0022\n",
            "Epoch 57/100\n",
            "12/12 [==============================] - 2s 200ms/step - loss: 2.8358e-04 - val_loss: 0.0020\n",
            "Epoch 58/100\n",
            "12/12 [==============================] - 2s 199ms/step - loss: 3.3943e-04 - val_loss: 0.0028\n",
            "Epoch 59/100\n",
            "12/12 [==============================] - 2s 198ms/step - loss: 3.3422e-04 - val_loss: 0.0021\n",
            "Epoch 60/100\n",
            "12/12 [==============================] - 2s 195ms/step - loss: 3.8503e-04 - val_loss: 0.0047\n",
            "Epoch 61/100\n",
            "12/12 [==============================] - 2s 200ms/step - loss: 3.6150e-04 - val_loss: 0.0022\n",
            "Epoch 62/100\n",
            "12/12 [==============================] - 2s 197ms/step - loss: 2.6542e-04 - val_loss: 0.0021\n",
            "Epoch 63/100\n",
            "12/12 [==============================] - 2s 200ms/step - loss: 2.6682e-04 - val_loss: 0.0022\n",
            "Epoch 64/100\n",
            "12/12 [==============================] - 2s 199ms/step - loss: 2.6738e-04 - val_loss: 0.0022\n",
            "Epoch 65/100\n",
            "12/12 [==============================] - 2s 199ms/step - loss: 2.6194e-04 - val_loss: 0.0022\n",
            "Epoch 66/100\n",
            "12/12 [==============================] - 2s 197ms/step - loss: 2.7519e-04 - val_loss: 0.0027\n",
            "Epoch 67/100\n",
            "12/12 [==============================] - 2s 196ms/step - loss: 2.8774e-04 - val_loss: 0.0025\n",
            "Epoch 68/100\n",
            "12/12 [==============================] - 2s 200ms/step - loss: 2.9954e-04 - val_loss: 0.0024\n",
            "Epoch 69/100\n",
            "12/12 [==============================] - 2s 197ms/step - loss: 2.5724e-04 - val_loss: 0.0023\n",
            "Epoch 70/100\n",
            "12/12 [==============================] - 2s 201ms/step - loss: 2.4875e-04 - val_loss: 0.0026\n",
            "Epoch 71/100\n",
            "12/12 [==============================] - 2s 199ms/step - loss: 2.8651e-04 - val_loss: 0.0046\n",
            "Epoch 72/100\n",
            "12/12 [==============================] - 2s 199ms/step - loss: 2.4294e-04 - val_loss: 0.0024\n",
            "Epoch 73/100\n",
            "12/12 [==============================] - 2s 204ms/step - loss: 2.5148e-04 - val_loss: 0.0026\n",
            "Epoch 74/100\n",
            "12/12 [==============================] - 2s 198ms/step - loss: 2.4920e-04 - val_loss: 0.0028\n",
            "Epoch 75/100\n",
            "12/12 [==============================] - 2s 203ms/step - loss: 2.2804e-04 - val_loss: 0.0034\n",
            "Epoch 76/100\n",
            "12/12 [==============================] - 2s 199ms/step - loss: 2.4585e-04 - val_loss: 0.0025\n",
            "Epoch 77/100\n",
            "12/12 [==============================] - 2s 199ms/step - loss: 2.2229e-04 - val_loss: 0.0038\n",
            "Epoch 78/100\n",
            "12/12 [==============================] - 2s 198ms/step - loss: 2.1082e-04 - val_loss: 0.0041\n",
            "Epoch 79/100\n",
            "12/12 [==============================] - 2s 200ms/step - loss: 2.1839e-04 - val_loss: 0.0082\n",
            "Epoch 80/100\n",
            "12/12 [==============================] - 2s 199ms/step - loss: 2.3791e-04 - val_loss: 0.0084\n",
            "Epoch 81/100\n",
            "12/12 [==============================] - 2s 203ms/step - loss: 2.3807e-04 - val_loss: 0.0028\n",
            "Epoch 82/100\n",
            "12/12 [==============================] - 2s 200ms/step - loss: 2.0855e-04 - val_loss: 0.0023\n",
            "Epoch 83/100\n",
            "12/12 [==============================] - 2s 200ms/step - loss: 2.0929e-04 - val_loss: 0.0028\n",
            "Epoch 84/100\n",
            "12/12 [==============================] - 2s 202ms/step - loss: 2.0473e-04 - val_loss: 0.0037\n",
            "Epoch 85/100\n",
            "12/12 [==============================] - 2s 200ms/step - loss: 2.1168e-04 - val_loss: 0.0028\n",
            "Epoch 86/100\n",
            "12/12 [==============================] - 2s 200ms/step - loss: 1.9769e-04 - val_loss: 0.0037\n",
            "Epoch 87/100\n",
            "12/12 [==============================] - 2s 199ms/step - loss: 2.2588e-04 - val_loss: 0.0030\n",
            "Epoch 88/100\n",
            "12/12 [==============================] - 2s 201ms/step - loss: 2.0061e-04 - val_loss: 0.0062\n",
            "Epoch 89/100\n",
            "12/12 [==============================] - 2s 200ms/step - loss: 1.9582e-04 - val_loss: 0.0024\n",
            "Epoch 90/100\n",
            "12/12 [==============================] - 2s 199ms/step - loss: 1.9587e-04 - val_loss: 0.0038\n",
            "Epoch 91/100\n",
            "12/12 [==============================] - 2s 200ms/step - loss: 1.8151e-04 - val_loss: 0.0058\n",
            "Epoch 92/100\n",
            "12/12 [==============================] - 2s 202ms/step - loss: 1.8162e-04 - val_loss: 0.0044\n",
            "Epoch 93/100\n",
            "12/12 [==============================] - 2s 197ms/step - loss: 1.8067e-04 - val_loss: 0.0047\n",
            "Epoch 94/100\n",
            "12/12 [==============================] - 2s 195ms/step - loss: 1.7042e-04 - val_loss: 0.0061\n",
            "Epoch 95/100\n",
            "12/12 [==============================] - 2s 198ms/step - loss: 1.7212e-04 - val_loss: 0.0050\n",
            "Epoch 96/100\n",
            "12/12 [==============================] - 2s 196ms/step - loss: 1.6656e-04 - val_loss: 0.0054\n",
            "Epoch 97/100\n",
            "12/12 [==============================] - 2s 199ms/step - loss: 1.8673e-04 - val_loss: 0.0091\n",
            "Epoch 98/100\n",
            "12/12 [==============================] - 2s 200ms/step - loss: 1.6357e-04 - val_loss: 0.0065\n",
            "Epoch 99/100\n",
            "12/12 [==============================] - 2s 200ms/step - loss: 1.6595e-04 - val_loss: 0.0047\n",
            "Epoch 100/100\n",
            "12/12 [==============================] - 2s 202ms/step - loss: 1.5717e-04 - val_loss: 0.0070\n"
          ],
          "name": "stdout"
        },
        {
          "output_type": "execute_result",
          "data": {
            "text/plain": [
              "<tensorflow.python.keras.callbacks.History at 0x7fd3cbe5d470>"
            ]
          },
          "metadata": {
            "tags": []
          },
          "execution_count": 31
        }
      ]
    },
    {
      "cell_type": "code",
      "metadata": {
        "id": "YA9p0DGuyoUg",
        "colab_type": "code",
        "colab": {}
      },
      "source": [
        "### Lets Do the prediction and check performance metrics\n",
        "train_predict=model.predict(X_train)\n",
        "test_predict=model.predict(X_test)"
      ],
      "execution_count": 32,
      "outputs": []
    },
    {
      "cell_type": "code",
      "metadata": {
        "id": "U8gcQjWhy8bP",
        "colab_type": "code",
        "colab": {}
      },
      "source": [
        "##Transformback to original form\n",
        "train_predict=scaler.inverse_transform(train_predict)\n",
        "test_predict=scaler.inverse_transform(test_predict)"
      ],
      "execution_count": 33,
      "outputs": []
    },
    {
      "cell_type": "code",
      "metadata": {
        "id": "girQuuB6y9tX",
        "colab_type": "code",
        "colab": {
          "base_uri": "https://localhost:8080/",
          "height": 34
        },
        "outputId": "877ead70-a216-4537-98c3-564f41c8b563"
      },
      "source": [
        "### Calculate RMSE performance metrics\n",
        "import math\n",
        "from sklearn.metrics import mean_squared_error\n",
        "math.sqrt(mean_squared_error(y_train,train_predict))"
      ],
      "execution_count": 34,
      "outputs": [
        {
          "output_type": "execute_result",
          "data": {
            "text/plain": [
              "144.6983334575643"
            ]
          },
          "metadata": {
            "tags": []
          },
          "execution_count": 34
        }
      ]
    },
    {
      "cell_type": "code",
      "metadata": {
        "id": "KfrT_8Y6zC6H",
        "colab_type": "code",
        "colab": {
          "base_uri": "https://localhost:8080/",
          "height": 34
        },
        "outputId": "1cc6f237-b3a0-4a38-c283-8e2f0003068b"
      },
      "source": [
        "math.sqrt(mean_squared_error(ytest,test_predict))"
      ],
      "execution_count": 35,
      "outputs": [
        {
          "output_type": "execute_result",
          "data": {
            "text/plain": [
              "252.1922249538394"
            ]
          },
          "metadata": {
            "tags": []
          },
          "execution_count": 35
        }
      ]
    },
    {
      "cell_type": "code",
      "metadata": {
        "id": "qTNO5fPvzH8v",
        "colab_type": "code",
        "colab": {
          "base_uri": "https://localhost:8080/",
          "height": 592
        },
        "outputId": "b9808de1-f385-4716-ef4a-d6065668646e"
      },
      "source": [
        "# shift train predictions for plotting\n",
        "look_back=100\n",
        "\n",
        "# reshape the figure\n",
        "plt.figure(figsize=(30,10))\n",
        "\n",
        "#first make empty numpy array of same size of df1\n",
        "trainPredictPlot = numpy.empty_like(df1)\n",
        "trainPredictPlot[:, :] = np.nan\n",
        "\n",
        "trainPredictPlot[look_back:len(train_predict)+look_back, :] = train_predict\n",
        "\n",
        "# shift test predictions for plotting\n",
        "testPredictPlot = numpy.empty_like(df1)\n",
        "testPredictPlot[:, :] = numpy.nan\n",
        "testPredictPlot[len(train_predict)+(look_back*2)+1:len(df1)-1, :] = test_predict\n",
        "\n",
        "# For plotting purpose we use following\n",
        "# plot baseline and predictions\n",
        "plt.plot(scaler.inverse_transform(df1),label='Original')\n",
        "plt.plot(trainPredictPlot,label='Train prediction')\n",
        "plt.plot(testPredictPlot,label='Test prediction')\n",
        "plt.legend()\n",
        "plt.show()"
      ],
      "execution_count": 44,
      "outputs": [
        {
          "output_type": "display_data",
          "data": {
            "image/png": "[encoded data removed]",
            "text/plain": [
              "<Figure size 2160x720 with 1 Axes>"
            ]
          },
          "metadata": {
            "tags": [],
            "needs_background": "light"
          }
        }
      ]
    }
  ]
}