{
  "nbformat": 4,
  "nbformat_minor": 0,
  "metadata": {
    "colab": {
      "name": "lstm_bookchapter.ipynb",
      "provenance": [],
      "collapsed_sections": []
    },
    "kernelspec": {
      "name": "python3",
      "display_name": "Python 3"
    }
  },
  "cells": [
    {
      "cell_type": "code",
      "metadata": {
        "id": "otN8Y8wkUpBz",
        "colab_type": "code",
        "colab": {}
      },
      "source": [
        "import pandas as pd\n",
        "import matplotlib.pyplot as plt\n",
        "import numpy as np\n",
        "import datetime\n"
      ],
      "execution_count": 35,
      "outputs": []
    },
    {
      "cell_type": "code",
      "metadata": {
        "id": "uLhW_OswUqMO",
        "colab_type": "code",
        "colab": {}
      },
      "source": [
        "# = \"https://raw.githubusercontent.com/akash9579/work/master/covid/datasets_549966_1296705_complete.csv\"\n",
        "data = pd.read_csv('/content/datasets_557629_1459761_covid_19_india.csv')\n",
        "#data = pd.read_csv(a)"
      ],
      "execution_count": 36,
      "outputs": []
    },
    {
      "cell_type": "code",
      "metadata": {
        "id": "kZxLOPTDFMDd",
        "colab_type": "code",
        "colab": {
          "base_uri": "https://localhost:8080/",
          "height": 34
        },
        "outputId": "a86ea5db-0b6c-47c1-9ff4-0d03de76f4ac"
      },
      "source": [
        "print(datetime.datetime.strptime(\"21/12/08\", \"%d/%m/%y\").strftime(\"%m-%d\"))\n",
        "#https://www.programiz.com/python-programming/datetime/strptime"
      ],
      "execution_count": 37,
      "outputs": [
        {
          "output_type": "stream",
          "text": [
            "12-21\n"
          ],
          "name": "stdout"
        }
      ]
    },
    {
      "cell_type": "code",
      "metadata": {
        "id": "BInp75-WEqYf",
        "colab_type": "code",
        "colab": {
          "base_uri": "https://localhost:8080/",
          "height": 105
        },
        "outputId": "2a36fe1d-b94f-43a2-81bd-665cf012df0b"
      },
      "source": [
        "for i in range(0,data.shape[0]):\n",
        "  data.Date[i]=datetime.datetime.strptime(data.Date[i], \"%d/%m/%y\").strftime(\"%y-%m-%d\")"
      ],
      "execution_count": 38,
      "outputs": [
        {
          "output_type": "stream",
          "text": [
            "/usr/local/lib/python3.6/dist-packages/ipykernel_launcher.py:2: SettingWithCopyWarning: \n",
            "A value is trying to be set on a copy of a slice from a DataFrame\n",
            "\n",
            "See the caveats in the documentation: https://pandas.pydata.org/pandas-docs/stable/user_guide/indexing.html#returning-a-view-versus-a-copy\n",
            "  \n"
          ],
          "name": "stderr"
        }
      ]
    },
    {
      "cell_type": "code",
      "metadata": {
        "id": "wRVOlIr2VmzE",
        "colab_type": "code",
        "colab": {
          "base_uri": "https://localhost:8080/",
          "height": 137
        },
        "outputId": "9a54b34f-cd17-4a02-d14d-013e2a87877c"
      },
      "source": [
        "data.head(3)"
      ],
      "execution_count": 39,
      "outputs": [
        {
          "output_type": "execute_result",
          "data": {
            "text/html": [
              "<div>\n",
              "<style scoped>\n",
              "    .dataframe tbody tr th:only-of-type {\n",
              "        vertical-align: middle;\n",
              "    }\n",
              "\n",
              "    .dataframe tbody tr th {\n",
              "        vertical-align: top;\n",
              "    }\n",
              "\n",
              "    .dataframe thead th {\n",
              "        text-align: right;\n",
              "    }\n",
              "</style>\n",
              "<table border=\"1\" class=\"dataframe\">\n",
              "  <thead>\n",
              "    <tr style=\"text-align: right;\">\n",
              "      <th></th>\n",
              "      <th>Sno</th>\n",
              "      <th>Date</th>\n",
              "      <th>Time</th>\n",
              "      <th>State/UnionTerritory</th>\n",
              "      <th>ConfirmedIndianNational</th>\n",
              "      <th>ConfirmedForeignNational</th>\n",
              "      <th>Cured</th>\n",
              "      <th>Deaths</th>\n",
              "      <th>Confirmed</th>\n",
              "    </tr>\n",
              "  </thead>\n",
              "  <tbody>\n",
              "    <tr>\n",
              "      <th>0</th>\n",
              "      <td>1</td>\n",
              "      <td>20-01-30</td>\n",
              "      <td>6:00 PM</td>\n",
              "      <td>Kerala</td>\n",
              "      <td>1</td>\n",
              "      <td>0</td>\n",
              "      <td>0</td>\n",
              "      <td>0</td>\n",
              "      <td>1</td>\n",
              "    </tr>\n",
              "    <tr>\n",
              "      <th>1</th>\n",
              "      <td>2</td>\n",
              "      <td>20-01-31</td>\n",
              "      <td>6:00 PM</td>\n",
              "      <td>Kerala</td>\n",
              "      <td>1</td>\n",
              "      <td>0</td>\n",
              "      <td>0</td>\n",
              "      <td>0</td>\n",
              "      <td>1</td>\n",
              "    </tr>\n",
              "    <tr>\n",
              "      <th>2</th>\n",
              "      <td>3</td>\n",
              "      <td>20-02-01</td>\n",
              "      <td>6:00 PM</td>\n",
              "      <td>Kerala</td>\n",
              "      <td>2</td>\n",
              "      <td>0</td>\n",
              "      <td>0</td>\n",
              "      <td>0</td>\n",
              "      <td>2</td>\n",
              "    </tr>\n",
              "  </tbody>\n",
              "</table>\n",
              "</div>"
            ],
            "text/plain": [
              "   Sno      Date     Time  ... Cured Deaths Confirmed\n",
              "0    1  20-01-30  6:00 PM  ...     0      0         1\n",
              "1    2  20-01-31  6:00 PM  ...     0      0         1\n",
              "2    3  20-02-01  6:00 PM  ...     0      0         2\n",
              "\n",
              "[3 rows x 9 columns]"
            ]
          },
          "metadata": {
            "tags": []
          },
          "execution_count": 39
        }
      ]
    },
    {
      "cell_type": "code",
      "metadata": {
        "id": "thyWX5H8Vvs2",
        "colab_type": "code",
        "colab": {
          "base_uri": "https://localhost:8080/",
          "height": 52
        },
        "outputId": "67a3d695-5d78-4784-e9eb-6a9d4ab4b100"
      },
      "source": [
        "data_num_india = data.groupby('Date')[\"Confirmed\", \"Cured\", \"Deaths\"].sum()"
      ],
      "execution_count": 40,
      "outputs": [
        {
          "output_type": "stream",
          "text": [
            "/usr/local/lib/python3.6/dist-packages/ipykernel_launcher.py:1: FutureWarning: Indexing with multiple keys (implicitly converted to a tuple of keys) will be deprecated, use a list instead.\n",
            "  \"\"\"Entry point for launching an IPython kernel.\n"
          ],
          "name": "stderr"
        }
      ]
    },
    {
      "cell_type": "code",
      "metadata": {
        "id": "ZTLNazb2WH61",
        "colab_type": "code",
        "colab": {
          "base_uri": "https://localhost:8080/",
          "height": 436
        },
        "outputId": "a0a159ff-3aa1-43c6-f3ad-46d03119e9a9"
      },
      "source": [
        "data_num_india"
      ],
      "execution_count": 41,
      "outputs": [
        {
          "output_type": "execute_result",
          "data": {
            "text/html": [
              "<div>\n",
              "<style scoped>\n",
              "    .dataframe tbody tr th:only-of-type {\n",
              "        vertical-align: middle;\n",
              "    }\n",
              "\n",
              "    .dataframe tbody tr th {\n",
              "        vertical-align: top;\n",
              "    }\n",
              "\n",
              "    .dataframe thead th {\n",
              "        text-align: right;\n",
              "    }\n",
              "</style>\n",
              "<table border=\"1\" class=\"dataframe\">\n",
              "  <thead>\n",
              "    <tr style=\"text-align: right;\">\n",
              "      <th></th>\n",
              "      <th>Confirmed</th>\n",
              "      <th>Cured</th>\n",
              "      <th>Deaths</th>\n",
              "    </tr>\n",
              "    <tr>\n",
              "      <th>Date</th>\n",
              "      <th></th>\n",
              "      <th></th>\n",
              "      <th></th>\n",
              "    </tr>\n",
              "  </thead>\n",
              "  <tbody>\n",
              "    <tr>\n",
              "      <th>20-01-30</th>\n",
              "      <td>1</td>\n",
              "      <td>0</td>\n",
              "      <td>0</td>\n",
              "    </tr>\n",
              "    <tr>\n",
              "      <th>20-01-31</th>\n",
              "      <td>1</td>\n",
              "      <td>0</td>\n",
              "      <td>0</td>\n",
              "    </tr>\n",
              "    <tr>\n",
              "      <th>20-02-01</th>\n",
              "      <td>2</td>\n",
              "      <td>0</td>\n",
              "      <td>0</td>\n",
              "    </tr>\n",
              "    <tr>\n",
              "      <th>20-02-02</th>\n",
              "      <td>3</td>\n",
              "      <td>0</td>\n",
              "      <td>0</td>\n",
              "    </tr>\n",
              "    <tr>\n",
              "      <th>20-02-03</th>\n",
              "      <td>3</td>\n",
              "      <td>0</td>\n",
              "      <td>0</td>\n",
              "    </tr>\n",
              "    <tr>\n",
              "      <th>...</th>\n",
              "      <td>...</td>\n",
              "      <td>...</td>\n",
              "      <td>...</td>\n",
              "    </tr>\n",
              "    <tr>\n",
              "      <th>20-08-29</th>\n",
              "      <td>3463972</td>\n",
              "      <td>2648998</td>\n",
              "      <td>62550</td>\n",
              "    </tr>\n",
              "    <tr>\n",
              "      <th>20-08-30</th>\n",
              "      <td>3542733</td>\n",
              "      <td>2713933</td>\n",
              "      <td>63498</td>\n",
              "    </tr>\n",
              "    <tr>\n",
              "      <th>20-08-31</th>\n",
              "      <td>3621245</td>\n",
              "      <td>2774801</td>\n",
              "      <td>64469</td>\n",
              "    </tr>\n",
              "    <tr>\n",
              "      <th>20-09-01</th>\n",
              "      <td>3691166</td>\n",
              "      <td>2839882</td>\n",
              "      <td>65288</td>\n",
              "    </tr>\n",
              "    <tr>\n",
              "      <th>20-09-02</th>\n",
              "      <td>3769523</td>\n",
              "      <td>2901908</td>\n",
              "      <td>66333</td>\n",
              "    </tr>\n",
              "  </tbody>\n",
              "</table>\n",
              "<p>217 rows × 3 columns</p>\n",
              "</div>"
            ],
            "text/plain": [
              "          Confirmed    Cured  Deaths\n",
              "Date                                \n",
              "20-01-30          1        0       0\n",
              "20-01-31          1        0       0\n",
              "20-02-01          2        0       0\n",
              "20-02-02          3        0       0\n",
              "20-02-03          3        0       0\n",
              "...             ...      ...     ...\n",
              "20-08-29    3463972  2648998   62550\n",
              "20-08-30    3542733  2713933   63498\n",
              "20-08-31    3621245  2774801   64469\n",
              "20-09-01    3691166  2839882   65288\n",
              "20-09-02    3769523  2901908   66333\n",
              "\n",
              "[217 rows x 3 columns]"
            ]
          },
          "metadata": {
            "tags": []
          },
          "execution_count": 41
        }
      ]
    },
    {
      "cell_type": "code",
      "metadata": {
        "id": "-H6WxP4oK56t",
        "colab_type": "code",
        "colab": {
          "base_uri": "https://localhost:8080/",
          "height": 782
        },
        "outputId": "51cab671-55fa-4c3c-fc3d-70ad2796315c"
      },
      "source": [
        "data_num_india.plot(figsize=(20,8),title='Per Day statistics for india',colormap='viridis',marker='.')\n",
        "plt.show()\n",
        "plt.ylabel('Number of cases') \n",
        "#https://matplotlib.org/3.1.1/api/markers_api.html"
      ],
      "execution_count": 42,
      "outputs": [
        {
          "output_type": "display_data",
          "data": {
            "image/png": "[encoded data removed]",
            "text/plain": [
              "<Figure size 1440x576 with 1 Axes>"
            ]
          },
          "metadata": {
            "tags": [],
            "needs_background": "light"
          }
        },
        {
          "output_type": "execute_result",
          "data": {
            "text/plain": [
              "Text(0, 0.5, 'Number of cases')"
            ]
          },
          "metadata": {
            "tags": []
          },
          "execution_count": 42
        },
        {
          "output_type": "display_data",
          "data": {
            "image/png": "[encoded data removed]",
            "text/plain": [
              "<Figure size 432x288 with 1 Axes>"
            ]
          },
          "metadata": {
            "tags": [],
            "needs_background": "light"
          }
        }
      ]
    },
    {
      "cell_type": "code",
      "metadata": {
        "id": "koAPCDTFK96X",
        "colab_type": "code",
        "colab": {}
      },
      "source": [
        "output = data_num_india.Confirmed"
      ],
      "execution_count": 43,
      "outputs": []
    },
    {
      "cell_type": "code",
      "metadata": {
        "id": "4mJdwru9LXgC",
        "colab_type": "code",
        "colab": {
          "base_uri": "https://localhost:8080/",
          "height": 247
        },
        "outputId": "51f6986d-3146-4c26-a9c8-997164f7ce25"
      },
      "source": [
        "output"
      ],
      "execution_count": 44,
      "outputs": [
        {
          "output_type": "execute_result",
          "data": {
            "text/plain": [
              "Date\n",
              "20-01-30          1\n",
              "20-01-31          1\n",
              "20-02-01          2\n",
              "20-02-02          3\n",
              "20-02-03          3\n",
              "             ...   \n",
              "20-08-29    3463972\n",
              "20-08-30    3542733\n",
              "20-08-31    3621245\n",
              "20-09-01    3691166\n",
              "20-09-02    3769523\n",
              "Name: Confirmed, Length: 217, dtype: int64"
            ]
          },
          "metadata": {
            "tags": []
          },
          "execution_count": 44
        }
      ]
    },
    {
      "cell_type": "code",
      "metadata": {
        "id": "kFlUjb4VLszV",
        "colab_type": "code",
        "colab": {}
      },
      "source": [
        "from sklearn.preprocessing import MinMaxScaler\n",
        "scaler=MinMaxScaler()\n",
        "output=scaler.fit_transform(np.array(output).reshape(-1,1))"
      ],
      "execution_count": 45,
      "outputs": []
    },
    {
      "cell_type": "code",
      "metadata": {
        "id": "Wzuv8Uo-L1sx",
        "colab_type": "code",
        "colab": {}
      },
      "source": [
        "##splitting dataset into train and test split\n",
        "training_size=int(len(output)*0.60)\n",
        "test_size=len(output)-training_size\n",
        "train_data,test_data=output[0:training_size,:],output[training_size:len(output),:1]"
      ],
      "execution_count": 46,
      "outputs": []
    },
    {
      "cell_type": "code",
      "metadata": {
        "id": "yyvufCtjp2TI",
        "colab_type": "code",
        "colab": {
          "base_uri": "https://localhost:8080/",
          "height": 34
        },
        "outputId": "a9207901-c65d-4447-d3f5-1eed2cc43a11"
      },
      "source": [
        "test_data.shape"
      ],
      "execution_count": 47,
      "outputs": [
        {
          "output_type": "execute_result",
          "data": {
            "text/plain": [
              "(87, 1)"
            ]
          },
          "metadata": {
            "tags": []
          },
          "execution_count": 47
        }
      ]
    },
    {
      "cell_type": "code",
      "metadata": {
        "id": "PxB85Cl8L_ky",
        "colab_type": "code",
        "colab": {
          "base_uri": "https://localhost:8080/",
          "height": 34
        },
        "outputId": "9ee523f5-4cc1-4ce2-e4dd-4495900d64e1"
      },
      "source": [
        "training_size,test_size"
      ],
      "execution_count": 48,
      "outputs": [
        {
          "output_type": "execute_result",
          "data": {
            "text/plain": [
              "(130, 87)"
            ]
          },
          "metadata": {
            "tags": []
          },
          "execution_count": 48
        }
      ]
    },
    {
      "cell_type": "code",
      "metadata": {
        "id": "ojXO9ci4MEwA",
        "colab_type": "code",
        "colab": {}
      },
      "source": [
        "import numpy\n",
        "# convert an array of values into a dataset matrix\n",
        "def create_dataset(dataset, time_step=1):\n",
        "\tdataX, dataY = [], []\n",
        "\tfor i in range(len(dataset)-time_step-1): # we have to exclude last 99 data***\n",
        "\t\ta = dataset[i:(i+time_step), 0]   ###i=0, 0,1,2,3-----99--->X   100---->Y \n",
        "\t\tdataX.append(a)\n",
        "\t\tdataY.append(dataset[i + time_step, 0])###??????????\n",
        "\treturn numpy.array(dataX), numpy.array(dataY)"
      ],
      "execution_count": 49,
      "outputs": []
    },
    {
      "cell_type": "code",
      "metadata": {
        "id": "WD1GC4U6MLry",
        "colab_type": "code",
        "colab": {}
      },
      "source": [
        "# reshape into X=t,t+1,t+2,t+3 and Y=t+4\n",
        "time_step = 40\n",
        "X_train, y_train = create_dataset(train_data, time_step)\n",
        "X_test, ytest = create_dataset(test_data, time_step)"
      ],
      "execution_count": 50,
      "outputs": []
    },
    {
      "cell_type": "code",
      "metadata": {
        "id": "rFmPbE7EMRMH",
        "colab_type": "code",
        "colab": {}
      },
      "source": [
        "# reshape input to be [samples, time steps, features] which is required for LSTM ?????????????????\n",
        "X_train =X_train.reshape(X_train.shape[0],X_train.shape[1] , 1)\n",
        "X_test = X_test.reshape(X_test.shape[0],X_test.shape[1] , 1)"
      ],
      "execution_count": 51,
      "outputs": []
    },
    {
      "cell_type": "code",
      "metadata": {
        "id": "0JsOsFSIp_-E",
        "colab_type": "code",
        "colab": {}
      },
      "source": [
        ""
      ],
      "execution_count": 51,
      "outputs": []
    },
    {
      "cell_type": "code",
      "metadata": {
        "id": "CO0dC0EmMVm6",
        "colab_type": "code",
        "colab": {
          "base_uri": "https://localhost:8080/",
          "height": 301
        },
        "outputId": "81027521-9fbc-4bae-b67e-8b2de8e92efc"
      },
      "source": [
        "from tensorflow.keras.layers import Dropout\n",
        "from tensorflow.keras.layers import Bidirectional\n",
        "### Create the Stacked LSTM model\n",
        "from tensorflow.keras.models import Sequential\n",
        "from tensorflow.keras.layers import Dense\n",
        "from tensorflow.keras.layers import LSTM\n",
        "model=Sequential()\n",
        "model.add(LSTM(50,return_sequences=True,input_shape=(40,1)))\n",
        "model.add(LSTM(50,return_sequences=True))\n",
        "model.add((LSTM(50)))\n",
        "model.add(Dense(1))\n",
        "model.compile(loss='mean_squared_error',optimizer='adam')\n",
        "model.summary()"
      ],
      "execution_count": 52,
      "outputs": [
        {
          "output_type": "stream",
          "text": [
            "Model: \"sequential_3\"\n",
            "_________________________________________________________________\n",
            "Layer (type)                 Output Shape              Param #   \n",
            "=================================================================\n",
            "lstm_3 (LSTM)                (None, 40, 50)            10400     \n",
            "_________________________________________________________________\n",
            "lstm_4 (LSTM)                (None, 40, 50)            20200     \n",
            "_________________________________________________________________\n",
            "lstm_5 (LSTM)                (None, 50)                20200     \n",
            "_________________________________________________________________\n",
            "dense_3 (Dense)              (None, 1)                 51        \n",
            "=================================================================\n",
            "Total params: 50,851\n",
            "Trainable params: 50,851\n",
            "Non-trainable params: 0\n",
            "_________________________________________________________________\n"
          ],
          "name": "stdout"
        }
      ]
    },
    {
      "cell_type": "code",
      "metadata": {
        "id": "IQUxcRBRMZgY",
        "colab_type": "code",
        "colab": {
          "base_uri": "https://localhost:8080/",
          "height": 1000
        },
        "outputId": "6d35772b-6052-4345-9445-08e9a5a0c2b2"
      },
      "source": [
        "model.fit(X_train,y_train,validation_data=(X_test,ytest),epochs=100,batch_size=64,verbose=1)"
      ],
      "execution_count": 53,
      "outputs": [
        {
          "output_type": "stream",
          "text": [
            "Epoch 1/100\n",
            "2/2 [==============================] - 1s 679ms/step - loss: 4.4463e-04 - val_loss: 0.2973\n",
            "Epoch 2/100\n",
            "2/2 [==============================] - 0s 42ms/step - loss: 3.0782e-04 - val_loss: 0.2778\n",
            "Epoch 3/100\n",
            "2/2 [==============================] - 0s 42ms/step - loss: 2.2974e-04 - val_loss: 0.2472\n",
            "Epoch 4/100\n",
            "2/2 [==============================] - 0s 49ms/step - loss: 2.3028e-04 - val_loss: 0.2033\n",
            "Epoch 5/100\n",
            "2/2 [==============================] - 0s 43ms/step - loss: 1.8257e-04 - val_loss: 0.1526\n",
            "Epoch 6/100\n",
            "2/2 [==============================] - 0s 46ms/step - loss: 1.5394e-04 - val_loss: 0.1066\n",
            "Epoch 7/100\n",
            "2/2 [==============================] - 0s 42ms/step - loss: 1.1738e-04 - val_loss: 0.0568\n",
            "Epoch 8/100\n",
            "2/2 [==============================] - 0s 43ms/step - loss: 8.1012e-05 - val_loss: 0.0123\n",
            "Epoch 9/100\n",
            "2/2 [==============================] - 0s 39ms/step - loss: 4.6250e-05 - val_loss: 5.3507e-04\n",
            "Epoch 10/100\n",
            "2/2 [==============================] - 0s 45ms/step - loss: 1.3408e-05 - val_loss: 0.0298\n",
            "Epoch 11/100\n",
            "2/2 [==============================] - 0s 40ms/step - loss: 1.6801e-05 - val_loss: 0.0603\n",
            "Epoch 12/100\n",
            "2/2 [==============================] - 0s 44ms/step - loss: 3.1037e-05 - val_loss: 0.0542\n",
            "Epoch 13/100\n",
            "2/2 [==============================] - 0s 42ms/step - loss: 4.3655e-05 - val_loss: 0.0208\n",
            "Epoch 14/100\n",
            "2/2 [==============================] - 0s 44ms/step - loss: 1.6671e-05 - val_loss: 0.0044\n",
            "Epoch 15/100\n",
            "2/2 [==============================] - 0s 39ms/step - loss: 5.0114e-06 - val_loss: 1.0884e-04\n",
            "Epoch 16/100\n",
            "2/2 [==============================] - 0s 46ms/step - loss: 1.1128e-05 - val_loss: 0.0012\n",
            "Epoch 17/100\n",
            "2/2 [==============================] - 0s 40ms/step - loss: 1.4029e-05 - val_loss: 0.0016\n",
            "Epoch 18/100\n",
            "2/2 [==============================] - 0s 48ms/step - loss: 1.0473e-05 - val_loss: 5.0404e-04\n",
            "Epoch 19/100\n",
            "2/2 [==============================] - 0s 45ms/step - loss: 1.1554e-05 - val_loss: 9.7991e-05\n",
            "Epoch 20/100\n",
            "2/2 [==============================] - 0s 46ms/step - loss: 4.3200e-06 - val_loss: 0.0024\n",
            "Epoch 21/100\n",
            "2/2 [==============================] - 0s 47ms/step - loss: 1.9333e-06 - val_loss: 0.0090\n",
            "Epoch 22/100\n",
            "2/2 [==============================] - 0s 55ms/step - loss: 1.8062e-06 - val_loss: 0.0157\n",
            "Epoch 23/100\n",
            "2/2 [==============================] - 0s 45ms/step - loss: 3.4526e-06 - val_loss: 0.0185\n",
            "Epoch 24/100\n",
            "2/2 [==============================] - 0s 47ms/step - loss: 3.9443e-06 - val_loss: 0.0153\n",
            "Epoch 25/100\n",
            "2/2 [==============================] - 0s 43ms/step - loss: 3.0123e-06 - val_loss: 0.0094\n",
            "Epoch 26/100\n",
            "2/2 [==============================] - 0s 44ms/step - loss: 1.4392e-06 - val_loss: 0.0049\n",
            "Epoch 27/100\n",
            "2/2 [==============================] - 0s 45ms/step - loss: 9.4077e-07 - val_loss: 0.0025\n",
            "Epoch 28/100\n",
            "2/2 [==============================] - 0s 44ms/step - loss: 1.6325e-06 - val_loss: 0.0015\n",
            "Epoch 29/100\n",
            "2/2 [==============================] - 0s 43ms/step - loss: 1.7558e-06 - val_loss: 0.0016\n",
            "Epoch 30/100\n",
            "2/2 [==============================] - 0s 42ms/step - loss: 1.5941e-06 - val_loss: 0.0024\n",
            "Epoch 31/100\n",
            "2/2 [==============================] - 0s 49ms/step - loss: 1.3342e-06 - val_loss: 0.0041\n",
            "Epoch 32/100\n",
            "2/2 [==============================] - 0s 45ms/step - loss: 1.2299e-06 - val_loss: 0.0058\n",
            "Epoch 33/100\n",
            "2/2 [==============================] - 0s 49ms/step - loss: 1.0721e-06 - val_loss: 0.0069\n",
            "Epoch 34/100\n",
            "2/2 [==============================] - 0s 48ms/step - loss: 1.0270e-06 - val_loss: 0.0075\n",
            "Epoch 35/100\n",
            "2/2 [==============================] - 0s 45ms/step - loss: 1.5119e-06 - val_loss: 0.0069\n",
            "Epoch 36/100\n",
            "2/2 [==============================] - 0s 43ms/step - loss: 1.2592e-06 - val_loss: 0.0063\n",
            "Epoch 37/100\n",
            "2/2 [==============================] - 0s 46ms/step - loss: 1.3382e-06 - val_loss: 0.0051\n",
            "Epoch 38/100\n",
            "2/2 [==============================] - 0s 44ms/step - loss: 1.0622e-06 - val_loss: 0.0039\n",
            "Epoch 39/100\n",
            "2/2 [==============================] - 0s 45ms/step - loss: 1.1149e-06 - val_loss: 0.0034\n",
            "Epoch 40/100\n",
            "2/2 [==============================] - 0s 51ms/step - loss: 1.3338e-06 - val_loss: 0.0031\n",
            "Epoch 41/100\n",
            "2/2 [==============================] - 0s 45ms/step - loss: 1.1741e-06 - val_loss: 0.0036\n",
            "Epoch 42/100\n",
            "2/2 [==============================] - 0s 46ms/step - loss: 9.8456e-07 - val_loss: 0.0042\n",
            "Epoch 43/100\n",
            "2/2 [==============================] - 0s 44ms/step - loss: 9.5021e-07 - val_loss: 0.0050\n",
            "Epoch 44/100\n",
            "2/2 [==============================] - 0s 43ms/step - loss: 9.6346e-07 - val_loss: 0.0055\n",
            "Epoch 45/100\n",
            "2/2 [==============================] - 0s 39ms/step - loss: 9.9001e-07 - val_loss: 0.0056\n",
            "Epoch 46/100\n",
            "2/2 [==============================] - 0s 48ms/step - loss: 9.3367e-07 - val_loss: 0.0054\n",
            "Epoch 47/100\n",
            "2/2 [==============================] - 0s 41ms/step - loss: 9.8717e-07 - val_loss: 0.0048\n",
            "Epoch 48/100\n",
            "2/2 [==============================] - 0s 45ms/step - loss: 9.6622e-07 - val_loss: 0.0043\n",
            "Epoch 49/100\n",
            "2/2 [==============================] - 0s 45ms/step - loss: 8.7301e-07 - val_loss: 0.0039\n",
            "Epoch 50/100\n",
            "2/2 [==============================] - 0s 45ms/step - loss: 9.2987e-07 - val_loss: 0.0039\n",
            "Epoch 51/100\n",
            "2/2 [==============================] - 0s 43ms/step - loss: 1.2242e-06 - val_loss: 0.0038\n",
            "Epoch 52/100\n",
            "2/2 [==============================] - 0s 53ms/step - loss: 8.7576e-07 - val_loss: 0.0042\n",
            "Epoch 53/100\n",
            "2/2 [==============================] - 0s 42ms/step - loss: 9.4998e-07 - val_loss: 0.0045\n",
            "Epoch 54/100\n",
            "2/2 [==============================] - 0s 47ms/step - loss: 8.7931e-07 - val_loss: 0.0046\n",
            "Epoch 55/100\n",
            "2/2 [==============================] - 0s 47ms/step - loss: 8.9573e-07 - val_loss: 0.0043\n",
            "Epoch 56/100\n",
            "2/2 [==============================] - 0s 42ms/step - loss: 9.2185e-07 - val_loss: 0.0039\n",
            "Epoch 57/100\n",
            "2/2 [==============================] - 0s 49ms/step - loss: 9.1661e-07 - val_loss: 0.0038\n",
            "Epoch 58/100\n",
            "2/2 [==============================] - 0s 49ms/step - loss: 9.3537e-07 - val_loss: 0.0039\n",
            "Epoch 59/100\n",
            "2/2 [==============================] - 0s 49ms/step - loss: 8.9699e-07 - val_loss: 0.0039\n",
            "Epoch 60/100\n",
            "2/2 [==============================] - 0s 43ms/step - loss: 9.7141e-07 - val_loss: 0.0041\n",
            "Epoch 61/100\n",
            "2/2 [==============================] - 0s 43ms/step - loss: 1.1249e-06 - val_loss: 0.0039\n",
            "Epoch 62/100\n",
            "2/2 [==============================] - 0s 41ms/step - loss: 1.2154e-06 - val_loss: 0.0036\n",
            "Epoch 63/100\n",
            "2/2 [==============================] - 0s 43ms/step - loss: 1.0417e-06 - val_loss: 0.0033\n",
            "Epoch 64/100\n",
            "2/2 [==============================] - 0s 47ms/step - loss: 1.2291e-06 - val_loss: 0.0035\n",
            "Epoch 65/100\n",
            "2/2 [==============================] - 0s 41ms/step - loss: 1.0370e-06 - val_loss: 0.0036\n",
            "Epoch 66/100\n",
            "2/2 [==============================] - 0s 40ms/step - loss: 7.8047e-07 - val_loss: 0.0036\n",
            "Epoch 67/100\n",
            "2/2 [==============================] - 0s 51ms/step - loss: 1.8889e-06 - val_loss: 0.0039\n",
            "Epoch 68/100\n",
            "2/2 [==============================] - 0s 46ms/step - loss: 1.6801e-06 - val_loss: 0.0034\n",
            "Epoch 69/100\n",
            "2/2 [==============================] - 0s 44ms/step - loss: 1.0920e-06 - val_loss: 0.0036\n",
            "Epoch 70/100\n",
            "2/2 [==============================] - 0s 43ms/step - loss: 9.3396e-07 - val_loss: 0.0035\n",
            "Epoch 71/100\n",
            "2/2 [==============================] - 0s 39ms/step - loss: 1.3637e-06 - val_loss: 0.0038\n",
            "Epoch 72/100\n",
            "2/2 [==============================] - 0s 41ms/step - loss: 1.0098e-06 - val_loss: 0.0035\n",
            "Epoch 73/100\n",
            "2/2 [==============================] - 0s 45ms/step - loss: 1.2522e-06 - val_loss: 0.0034\n",
            "Epoch 74/100\n",
            "2/2 [==============================] - 0s 43ms/step - loss: 8.5863e-07 - val_loss: 0.0030\n",
            "Epoch 75/100\n",
            "2/2 [==============================] - 0s 47ms/step - loss: 9.2781e-07 - val_loss: 0.0028\n",
            "Epoch 76/100\n",
            "2/2 [==============================] - 0s 47ms/step - loss: 9.3261e-07 - val_loss: 0.0028\n",
            "Epoch 77/100\n",
            "2/2 [==============================] - 0s 43ms/step - loss: 9.3265e-07 - val_loss: 0.0029\n",
            "Epoch 78/100\n",
            "2/2 [==============================] - 0s 47ms/step - loss: 9.6655e-07 - val_loss: 0.0031\n",
            "Epoch 79/100\n",
            "2/2 [==============================] - 0s 42ms/step - loss: 9.9927e-07 - val_loss: 0.0036\n",
            "Epoch 80/100\n",
            "2/2 [==============================] - 0s 45ms/step - loss: 8.5345e-07 - val_loss: 0.0037\n",
            "Epoch 81/100\n",
            "2/2 [==============================] - 0s 45ms/step - loss: 8.6969e-07 - val_loss: 0.0035\n",
            "Epoch 82/100\n",
            "2/2 [==============================] - 0s 48ms/step - loss: 9.3585e-07 - val_loss: 0.0032\n",
            "Epoch 83/100\n",
            "2/2 [==============================] - 0s 40ms/step - loss: 8.9350e-07 - val_loss: 0.0028\n",
            "Epoch 84/100\n",
            "2/2 [==============================] - 0s 44ms/step - loss: 8.6979e-07 - val_loss: 0.0026\n",
            "Epoch 85/100\n",
            "2/2 [==============================] - 0s 44ms/step - loss: 9.3262e-07 - val_loss: 0.0026\n",
            "Epoch 86/100\n",
            "2/2 [==============================] - 0s 43ms/step - loss: 1.0056e-06 - val_loss: 0.0027\n",
            "Epoch 87/100\n",
            "2/2 [==============================] - 0s 44ms/step - loss: 8.1729e-07 - val_loss: 0.0029\n",
            "Epoch 88/100\n",
            "2/2 [==============================] - 0s 53ms/step - loss: 8.6850e-07 - val_loss: 0.0032\n",
            "Epoch 89/100\n",
            "2/2 [==============================] - 0s 42ms/step - loss: 9.8341e-07 - val_loss: 0.0029\n",
            "Epoch 90/100\n",
            "2/2 [==============================] - 0s 44ms/step - loss: 1.4200e-06 - val_loss: 0.0029\n",
            "Epoch 91/100\n",
            "2/2 [==============================] - 0s 39ms/step - loss: 1.4257e-06 - val_loss: 0.0025\n",
            "Epoch 92/100\n",
            "2/2 [==============================] - 0s 46ms/step - loss: 9.7289e-07 - val_loss: 0.0025\n",
            "Epoch 93/100\n",
            "2/2 [==============================] - 0s 43ms/step - loss: 8.4234e-07 - val_loss: 0.0026\n",
            "Epoch 94/100\n",
            "2/2 [==============================] - 0s 52ms/step - loss: 8.8175e-07 - val_loss: 0.0029\n",
            "Epoch 95/100\n",
            "2/2 [==============================] - 0s 45ms/step - loss: 8.7415e-07 - val_loss: 0.0029\n",
            "Epoch 96/100\n",
            "2/2 [==============================] - 0s 44ms/step - loss: 1.0883e-06 - val_loss: 0.0031\n",
            "Epoch 97/100\n",
            "2/2 [==============================] - 0s 42ms/step - loss: 9.6769e-07 - val_loss: 0.0028\n",
            "Epoch 98/100\n",
            "2/2 [==============================] - 0s 46ms/step - loss: 1.0014e-06 - val_loss: 0.0029\n",
            "Epoch 99/100\n",
            "2/2 [==============================] - 0s 43ms/step - loss: 1.0126e-06 - val_loss: 0.0027\n",
            "Epoch 100/100\n",
            "2/2 [==============================] - 0s 47ms/step - loss: 9.0167e-07 - val_loss: 0.0026\n"
          ],
          "name": "stdout"
        },
        {
          "output_type": "execute_result",
          "data": {
            "text/plain": [
              "<tensorflow.python.keras.callbacks.History at 0x7f4f493e2d30>"
            ]
          },
          "metadata": {
            "tags": []
          },
          "execution_count": 53
        }
      ]
    },
    {
      "cell_type": "code",
      "metadata": {
        "id": "1wXkSK2lMmrd",
        "colab_type": "code",
        "colab": {}
      },
      "source": [
        "### Lets Do the prediction and check performance metrics\n",
        "train_predict=model.predict(X_train)\n",
        "test_predict=model.predict(X_test)"
      ],
      "execution_count": 54,
      "outputs": []
    },
    {
      "cell_type": "code",
      "metadata": {
        "id": "7IS5f3-gMoBN",
        "colab_type": "code",
        "colab": {}
      },
      "source": [
        "##Transformback to original form\n",
        "train_predict=scaler.inverse_transform(train_predict)\n",
        "test_predict=scaler.inverse_transform(test_predict)"
      ],
      "execution_count": 55,
      "outputs": []
    },
    {
      "cell_type": "code",
      "metadata": {
        "id": "p1653pVcpNhQ",
        "colab_type": "code",
        "colab": {
          "base_uri": "https://localhost:8080/",
          "height": 34
        },
        "outputId": "de9334b1-fc88-4077-826c-329640ba291e"
      },
      "source": [
        "test_predict.shape"
      ],
      "execution_count": 56,
      "outputs": [
        {
          "output_type": "execute_result",
          "data": {
            "text/plain": [
              "(46, 1)"
            ]
          },
          "metadata": {
            "tags": []
          },
          "execution_count": 56
        }
      ]
    },
    {
      "cell_type": "code",
      "metadata": {
        "id": "yX1OtksUpYfr",
        "colab_type": "code",
        "colab": {
          "base_uri": "https://localhost:8080/",
          "height": 34
        },
        "outputId": "f76cb734-030d-4458-bef5-96370aaa483e"
      },
      "source": [
        "scaler.inverse_transform(output).shape"
      ],
      "execution_count": 57,
      "outputs": [
        {
          "output_type": "execute_result",
          "data": {
            "text/plain": [
              "(217, 1)"
            ]
          },
          "metadata": {
            "tags": []
          },
          "execution_count": 57
        }
      ]
    },
    {
      "cell_type": "code",
      "metadata": {
        "id": "B2mjEuy6MsN-",
        "colab_type": "code",
        "colab": {
          "base_uri": "https://localhost:8080/",
          "height": 611
        },
        "outputId": "0b1e51bd-5c6c-4ba8-8751-1e0b9318a261"
      },
      "source": [
        "# shift train predictions for plotting\n",
        "look_back=40\n",
        "\n",
        "# reshape the figure\n",
        "plt.figure(figsize=(30,10))\n",
        "\n",
        "#first make empty numpy array of same size of df1\n",
        "trainPredictPlot = numpy.empty_like(output)\n",
        "trainPredictPlot[:, :] = np.nan\n",
        "\n",
        "trainPredictPlot[look_back:len(train_predict)+look_back, :] = train_predict\n",
        "\n",
        "# shift test predictions for plotting\n",
        "testPredictPlot = numpy.empty_like(output)\n",
        "testPredictPlot[:, :] = numpy.nan\n",
        "testPredictPlot[len(train_predict)+(look_back*2)+1:len(output)-1, :] = test_predict\n",
        "\n",
        "# For plotting purpose we use following\n",
        "# plot baseline and predictions\n",
        "plt.plot(scaler.inverse_transform(output),label='Original')\n",
        "plt.plot(trainPredictPlot,label='Train prediction')\n",
        "plt.plot(testPredictPlot,label='Test prediction')\n",
        "plt.legend()\n",
        "plt.ylabel('Number of cases') \n",
        "plt.xlabel('Days') \n",
        "plt.show()"
      ],
      "execution_count": 58,
      "outputs": [
        {
          "output_type": "display_data",
          "data": {
            "image/png": "[encoded data removed]",
            "text/plain": [
              "<Figure size 2160x720 with 1 Axes>"
            ]
          },
          "metadata": {
            "tags": [],
            "needs_background": "light"
          }
        }
      ]
    },
    {
      "cell_type": "code",
      "metadata": {
        "id": "Lk-ppadLqaY-",
        "colab_type": "code",
        "colab": {
          "base_uri": "https://localhost:8080/",
          "height": 301
        },
        "outputId": "83b7b859-238a-4ac1-f3b8-4addb83b9ee6"
      },
      "source": [
        "from tensorflow.keras.layers import Dropout\n",
        "from tensorflow.keras.layers import Bidirectional\n",
        "### Create the Stacked LSTM model\n",
        "from tensorflow.keras.models import Sequential\n",
        "from tensorflow.keras.layers import Dense\n",
        "from tensorflow.keras.layers import GRU\n",
        "#tf.keras.layers.GRU\n",
        "model1=Sequential()\n",
        "model1.add(GRU(50,return_sequences=True,input_shape=(40,1)))\n",
        "model1.add(GRU(50,return_sequences=True))\n",
        "model1.add((GRU(50)))\n",
        "model1.add(Dense(1))\n",
        "model1.compile(loss='mean_squared_error',optimizer='adam')\n",
        "model1.summary()"
      ],
      "execution_count": 59,
      "outputs": [
        {
          "output_type": "stream",
          "text": [
            "Model: \"sequential_4\"\n",
            "_________________________________________________________________\n",
            "Layer (type)                 Output Shape              Param #   \n",
            "=================================================================\n",
            "gru_3 (GRU)                  (None, 40, 50)            7950      \n",
            "_________________________________________________________________\n",
            "gru_4 (GRU)                  (None, 40, 50)            15300     \n",
            "_________________________________________________________________\n",
            "gru_5 (GRU)                  (None, 50)                15300     \n",
            "_________________________________________________________________\n",
            "dense_4 (Dense)              (None, 1)                 51        \n",
            "=================================================================\n",
            "Total params: 38,601\n",
            "Trainable params: 38,601\n",
            "Non-trainable params: 0\n",
            "_________________________________________________________________\n"
          ],
          "name": "stdout"
        }
      ]
    },
    {
      "cell_type": "code",
      "metadata": {
        "id": "HrP2KA2fq5CF",
        "colab_type": "code",
        "colab": {
          "base_uri": "https://localhost:8080/",
          "height": 1000
        },
        "outputId": "e9b87946-74f5-4fc3-9387-b5bbbb07d5a5"
      },
      "source": [
        "model1.fit(X_train,y_train,validation_data=(X_test,ytest),epochs=100,batch_size=64,verbose=1)"
      ],
      "execution_count": 60,
      "outputs": [
        {
          "output_type": "stream",
          "text": [
            "Epoch 1/100\n",
            "2/2 [==============================] - 1s 513ms/step - loss: 4.5960e-04 - val_loss: 0.2770\n",
            "Epoch 2/100\n",
            "2/2 [==============================] - 0s 43ms/step - loss: 3.3762e-04 - val_loss: 0.2497\n",
            "Epoch 3/100\n",
            "2/2 [==============================] - 0s 44ms/step - loss: 2.8040e-04 - val_loss: 0.1919\n",
            "Epoch 4/100\n",
            "2/2 [==============================] - 0s 44ms/step - loss: 1.7746e-04 - val_loss: 0.1268\n",
            "Epoch 5/100\n",
            "2/2 [==============================] - 0s 47ms/step - loss: 1.8036e-04 - val_loss: 0.0883\n",
            "Epoch 6/100\n",
            "2/2 [==============================] - 0s 45ms/step - loss: 1.0210e-04 - val_loss: 0.0623\n",
            "Epoch 7/100\n",
            "2/2 [==============================] - 0s 44ms/step - loss: 1.0404e-04 - val_loss: 0.0302\n",
            "Epoch 8/100\n",
            "2/2 [==============================] - 0s 46ms/step - loss: 4.0675e-05 - val_loss: 0.0059\n",
            "Epoch 9/100\n",
            "2/2 [==============================] - 0s 45ms/step - loss: 5.9795e-05 - val_loss: 1.5608e-04\n",
            "Epoch 10/100\n",
            "2/2 [==============================] - 0s 49ms/step - loss: 8.3950e-06 - val_loss: 0.0016\n",
            "Epoch 11/100\n",
            "2/2 [==============================] - 0s 47ms/step - loss: 3.4025e-05 - val_loss: 0.0094\n",
            "Epoch 12/100\n",
            "2/2 [==============================] - 0s 48ms/step - loss: 1.4881e-05 - val_loss: 0.0150\n",
            "Epoch 13/100\n",
            "2/2 [==============================] - 0s 59ms/step - loss: 1.5499e-05 - val_loss: 0.0120\n",
            "Epoch 14/100\n",
            "2/2 [==============================] - 0s 59ms/step - loss: 2.0867e-05 - val_loss: 0.0097\n",
            "Epoch 15/100\n",
            "2/2 [==============================] - 0s 52ms/step - loss: 4.9524e-06 - val_loss: 0.0056\n",
            "Epoch 16/100\n",
            "2/2 [==============================] - 0s 62ms/step - loss: 7.8851e-06 - val_loss: 0.0013\n",
            "Epoch 17/100\n",
            "2/2 [==============================] - 0s 52ms/step - loss: 5.3514e-06 - val_loss: 1.7733e-04\n",
            "Epoch 18/100\n",
            "2/2 [==============================] - 0s 74ms/step - loss: 2.2715e-06 - val_loss: 3.7681e-05\n",
            "Epoch 19/100\n",
            "2/2 [==============================] - 0s 61ms/step - loss: 5.9771e-06 - val_loss: 6.4606e-05\n",
            "Epoch 20/100\n",
            "2/2 [==============================] - 0s 52ms/step - loss: 2.5802e-06 - val_loss: 1.0962e-04\n",
            "Epoch 21/100\n",
            "2/2 [==============================] - 0s 54ms/step - loss: 4.5654e-06 - val_loss: 3.8424e-05\n",
            "Epoch 22/100\n",
            "2/2 [==============================] - 0s 53ms/step - loss: 1.7788e-06 - val_loss: 3.1734e-04\n",
            "Epoch 23/100\n",
            "2/2 [==============================] - 0s 48ms/step - loss: 1.3355e-06 - val_loss: 7.4547e-04\n",
            "Epoch 24/100\n",
            "2/2 [==============================] - 0s 59ms/step - loss: 1.3586e-06 - val_loss: 0.0017\n",
            "Epoch 25/100\n",
            "2/2 [==============================] - 0s 49ms/step - loss: 5.6542e-07 - val_loss: 0.0026\n",
            "Epoch 26/100\n",
            "2/2 [==============================] - 0s 76ms/step - loss: 8.7485e-07 - val_loss: 0.0027\n",
            "Epoch 27/100\n",
            "2/2 [==============================] - 0s 70ms/step - loss: 6.4972e-07 - val_loss: 0.0027\n",
            "Epoch 28/100\n",
            "2/2 [==============================] - 0s 46ms/step - loss: 4.2687e-07 - val_loss: 0.0025\n",
            "Epoch 29/100\n",
            "2/2 [==============================] - 0s 51ms/step - loss: 5.2863e-07 - val_loss: 0.0018\n",
            "Epoch 30/100\n",
            "2/2 [==============================] - 0s 51ms/step - loss: 3.8277e-07 - val_loss: 0.0013\n",
            "Epoch 31/100\n",
            "2/2 [==============================] - 0s 56ms/step - loss: 3.1204e-07 - val_loss: 9.9373e-04\n",
            "Epoch 32/100\n",
            "2/2 [==============================] - 0s 62ms/step - loss: 4.6328e-07 - val_loss: 6.6898e-04\n",
            "Epoch 33/100\n",
            "2/2 [==============================] - 0s 51ms/step - loss: 3.6298e-07 - val_loss: 6.1090e-04\n",
            "Epoch 34/100\n",
            "2/2 [==============================] - 0s 53ms/step - loss: 3.6113e-07 - val_loss: 7.8120e-04\n",
            "Epoch 35/100\n",
            "2/2 [==============================] - 0s 49ms/step - loss: 3.8650e-07 - val_loss: 9.4517e-04\n",
            "Epoch 36/100\n",
            "2/2 [==============================] - 0s 51ms/step - loss: 2.1545e-07 - val_loss: 0.0012\n",
            "Epoch 37/100\n",
            "2/2 [==============================] - 0s 62ms/step - loss: 1.8892e-07 - val_loss: 0.0015\n",
            "Epoch 38/100\n",
            "2/2 [==============================] - 0s 52ms/step - loss: 2.4021e-07 - val_loss: 0.0017\n",
            "Epoch 39/100\n",
            "2/2 [==============================] - 0s 49ms/step - loss: 2.2235e-07 - val_loss: 0.0017\n",
            "Epoch 40/100\n",
            "2/2 [==============================] - 0s 46ms/step - loss: 2.3367e-07 - val_loss: 0.0017\n",
            "Epoch 41/100\n",
            "2/2 [==============================] - 0s 43ms/step - loss: 2.2671e-07 - val_loss: 0.0015\n",
            "Epoch 42/100\n",
            "2/2 [==============================] - 0s 43ms/step - loss: 1.8729e-07 - val_loss: 0.0014\n",
            "Epoch 43/100\n",
            "2/2 [==============================] - 0s 47ms/step - loss: 1.9741e-07 - val_loss: 0.0012\n",
            "Epoch 44/100\n",
            "2/2 [==============================] - 0s 46ms/step - loss: 2.0488e-07 - val_loss: 0.0012\n",
            "Epoch 45/100\n",
            "2/2 [==============================] - 0s 51ms/step - loss: 1.7363e-07 - val_loss: 0.0012\n",
            "Epoch 46/100\n",
            "2/2 [==============================] - 0s 45ms/step - loss: 2.2262e-07 - val_loss: 0.0012\n",
            "Epoch 47/100\n",
            "2/2 [==============================] - 0s 42ms/step - loss: 1.9662e-07 - val_loss: 0.0013\n",
            "Epoch 48/100\n",
            "2/2 [==============================] - 0s 47ms/step - loss: 1.9564e-07 - val_loss: 0.0013\n",
            "Epoch 49/100\n",
            "2/2 [==============================] - 0s 44ms/step - loss: 2.2186e-07 - val_loss: 0.0013\n",
            "Epoch 50/100\n",
            "2/2 [==============================] - 0s 46ms/step - loss: 1.8706e-07 - val_loss: 0.0013\n",
            "Epoch 51/100\n",
            "2/2 [==============================] - 0s 45ms/step - loss: 1.8701e-07 - val_loss: 0.0013\n",
            "Epoch 52/100\n",
            "2/2 [==============================] - 0s 44ms/step - loss: 1.9989e-07 - val_loss: 0.0013\n",
            "Epoch 53/100\n",
            "2/2 [==============================] - 0s 46ms/step - loss: 1.8036e-07 - val_loss: 0.0013\n",
            "Epoch 54/100\n",
            "2/2 [==============================] - 0s 47ms/step - loss: 1.8304e-07 - val_loss: 0.0013\n",
            "Epoch 55/100\n",
            "2/2 [==============================] - 0s 43ms/step - loss: 1.8318e-07 - val_loss: 0.0013\n",
            "Epoch 56/100\n",
            "2/2 [==============================] - 0s 45ms/step - loss: 1.8096e-07 - val_loss: 0.0013\n",
            "Epoch 57/100\n",
            "2/2 [==============================] - 0s 48ms/step - loss: 1.7273e-07 - val_loss: 0.0013\n",
            "Epoch 58/100\n",
            "2/2 [==============================] - 0s 48ms/step - loss: 1.8207e-07 - val_loss: 0.0013\n",
            "Epoch 59/100\n",
            "2/2 [==============================] - 0s 45ms/step - loss: 1.8318e-07 - val_loss: 0.0014\n",
            "Epoch 60/100\n",
            "2/2 [==============================] - 0s 45ms/step - loss: 1.7989e-07 - val_loss: 0.0013\n",
            "Epoch 61/100\n",
            "2/2 [==============================] - 0s 44ms/step - loss: 1.6723e-07 - val_loss: 0.0012\n",
            "Epoch 62/100\n",
            "2/2 [==============================] - 0s 44ms/step - loss: 1.9006e-07 - val_loss: 0.0012\n",
            "Epoch 63/100\n",
            "2/2 [==============================] - 0s 45ms/step - loss: 2.2992e-07 - val_loss: 0.0012\n",
            "Epoch 64/100\n",
            "2/2 [==============================] - 0s 44ms/step - loss: 2.1269e-07 - val_loss: 0.0012\n",
            "Epoch 65/100\n",
            "2/2 [==============================] - 0s 47ms/step - loss: 1.8039e-07 - val_loss: 0.0014\n",
            "Epoch 66/100\n",
            "2/2 [==============================] - 0s 47ms/step - loss: 2.2299e-07 - val_loss: 0.0014\n",
            "Epoch 67/100\n",
            "2/2 [==============================] - 0s 51ms/step - loss: 1.9181e-07 - val_loss: 0.0015\n",
            "Epoch 68/100\n",
            "2/2 [==============================] - 0s 46ms/step - loss: 2.1263e-07 - val_loss: 0.0015\n",
            "Epoch 69/100\n",
            "2/2 [==============================] - 0s 46ms/step - loss: 2.2750e-07 - val_loss: 0.0015\n",
            "Epoch 70/100\n",
            "2/2 [==============================] - 0s 45ms/step - loss: 2.3293e-07 - val_loss: 0.0014\n",
            "Epoch 71/100\n",
            "2/2 [==============================] - 0s 48ms/step - loss: 2.1455e-07 - val_loss: 0.0013\n",
            "Epoch 72/100\n",
            "2/2 [==============================] - 0s 46ms/step - loss: 1.9983e-07 - val_loss: 0.0013\n",
            "Epoch 73/100\n",
            "2/2 [==============================] - 0s 45ms/step - loss: 2.1157e-07 - val_loss: 0.0012\n",
            "Epoch 74/100\n",
            "2/2 [==============================] - 0s 45ms/step - loss: 2.4056e-07 - val_loss: 0.0012\n",
            "Epoch 75/100\n",
            "2/2 [==============================] - 0s 44ms/step - loss: 2.3063e-07 - val_loss: 0.0012\n",
            "Epoch 76/100\n",
            "2/2 [==============================] - 0s 46ms/step - loss: 2.1486e-07 - val_loss: 0.0012\n",
            "Epoch 77/100\n",
            "2/2 [==============================] - 0s 50ms/step - loss: 1.9671e-07 - val_loss: 0.0013\n",
            "Epoch 78/100\n",
            "2/2 [==============================] - 0s 43ms/step - loss: 1.8015e-07 - val_loss: 0.0013\n",
            "Epoch 79/100\n",
            "2/2 [==============================] - 0s 49ms/step - loss: 1.9075e-07 - val_loss: 0.0015\n",
            "Epoch 80/100\n",
            "2/2 [==============================] - 0s 50ms/step - loss: 1.9815e-07 - val_loss: 0.0014\n",
            "Epoch 81/100\n",
            "2/2 [==============================] - 0s 46ms/step - loss: 2.1293e-07 - val_loss: 0.0014\n",
            "Epoch 82/100\n",
            "2/2 [==============================] - 0s 45ms/step - loss: 2.2607e-07 - val_loss: 0.0013\n",
            "Epoch 83/100\n",
            "2/2 [==============================] - 0s 54ms/step - loss: 2.2819e-07 - val_loss: 0.0012\n",
            "Epoch 84/100\n",
            "2/2 [==============================] - 0s 48ms/step - loss: 2.2286e-07 - val_loss: 0.0013\n",
            "Epoch 85/100\n",
            "2/2 [==============================] - 0s 47ms/step - loss: 1.8016e-07 - val_loss: 0.0013\n",
            "Epoch 86/100\n",
            "2/2 [==============================] - 0s 47ms/step - loss: 1.9470e-07 - val_loss: 0.0014\n",
            "Epoch 87/100\n",
            "2/2 [==============================] - 0s 49ms/step - loss: 2.7291e-07 - val_loss: 0.0014\n",
            "Epoch 88/100\n",
            "2/2 [==============================] - 0s 43ms/step - loss: 2.0862e-07 - val_loss: 0.0015\n",
            "Epoch 89/100\n",
            "2/2 [==============================] - 0s 45ms/step - loss: 1.8653e-07 - val_loss: 0.0014\n",
            "Epoch 90/100\n",
            "2/2 [==============================] - 0s 45ms/step - loss: 1.8044e-07 - val_loss: 0.0013\n",
            "Epoch 91/100\n",
            "2/2 [==============================] - 0s 45ms/step - loss: 1.8480e-07 - val_loss: 0.0013\n",
            "Epoch 92/100\n",
            "2/2 [==============================] - 0s 44ms/step - loss: 1.7504e-07 - val_loss: 0.0013\n",
            "Epoch 93/100\n",
            "2/2 [==============================] - 0s 44ms/step - loss: 1.8190e-07 - val_loss: 0.0013\n",
            "Epoch 94/100\n",
            "2/2 [==============================] - 0s 44ms/step - loss: 1.8121e-07 - val_loss: 0.0012\n",
            "Epoch 95/100\n",
            "2/2 [==============================] - 0s 47ms/step - loss: 1.8372e-07 - val_loss: 0.0013\n",
            "Epoch 96/100\n",
            "2/2 [==============================] - 0s 44ms/step - loss: 1.7070e-07 - val_loss: 0.0013\n",
            "Epoch 97/100\n",
            "2/2 [==============================] - 0s 42ms/step - loss: 1.7660e-07 - val_loss: 0.0014\n",
            "Epoch 98/100\n",
            "2/2 [==============================] - 0s 43ms/step - loss: 1.8650e-07 - val_loss: 0.0014\n",
            "Epoch 99/100\n",
            "2/2 [==============================] - 0s 44ms/step - loss: 1.7309e-07 - val_loss: 0.0014\n",
            "Epoch 100/100\n",
            "2/2 [==============================] - 0s 45ms/step - loss: 1.9660e-07 - val_loss: 0.0013\n"
          ],
          "name": "stdout"
        },
        {
          "output_type": "execute_result",
          "data": {
            "text/plain": [
              "<tensorflow.python.keras.callbacks.History at 0x7f4f46b23080>"
            ]
          },
          "metadata": {
            "tags": []
          },
          "execution_count": 60
        }
      ]
    },
    {
      "cell_type": "code",
      "metadata": {
        "id": "y4R6y5wbrGo3",
        "colab_type": "code",
        "colab": {}
      },
      "source": [
        "### Lets Do the prediction and check performance metrics\n",
        "train_predict1=model1.predict(X_train)\n",
        "test_predict1=model1.predict(X_test)"
      ],
      "execution_count": 61,
      "outputs": []
    },
    {
      "cell_type": "code",
      "metadata": {
        "id": "Bx5cuALVrK4e",
        "colab_type": "code",
        "colab": {}
      },
      "source": [
        "##Transformback to original form\n",
        "train_predict1=scaler.inverse_transform(train_predict1)\n",
        "test_predict1=scaler.inverse_transform(test_predict1)"
      ],
      "execution_count": 62,
      "outputs": []
    },
    {
      "cell_type": "code",
      "metadata": {
        "id": "HIQmrCNjrRzc",
        "colab_type": "code",
        "colab": {
          "base_uri": "https://localhost:8080/",
          "height": 611
        },
        "outputId": "44c74cb0-8d00-410e-c54a-db20683de5b3"
      },
      "source": [
        "# shift train predictions for plotting\n",
        "look_back=40\n",
        "\n",
        "# reshape the figure\n",
        "plt.figure(figsize=(30,10))\n",
        "\n",
        "#first make empty numpy array of same size of df1\n",
        "trainPredictPlot = numpy.empty_like(output)\n",
        "trainPredictPlot[:, :] = np.nan\n",
        "\n",
        "trainPredictPlot[look_back:len(train_predict1)+look_back, :] = train_predict1\n",
        "\n",
        "# shift test predictions for plotting\n",
        "testPredictPlot = numpy.empty_like(output)\n",
        "testPredictPlot[:, :] = numpy.nan\n",
        "testPredictPlot[len(train_predict1)+(look_back*2)+1:len(output)-1, :] = test_predict1\n",
        "\n",
        "# For plotting purpose we use following\n",
        "# plot baseline and predictions\n",
        "plt.plot(scaler.inverse_transform(output),label='Original')\n",
        "plt.plot(trainPredictPlot,label='Train prediction')\n",
        "plt.plot(testPredictPlot,label='Test prediction')\n",
        "plt.legend()\n",
        "plt.ylabel('Number of cases') \n",
        "plt.xlabel('Days') \n",
        "plt.show()"
      ],
      "execution_count": 63,
      "outputs": [
        {
          "output_type": "display_data",
          "data": {
            "image/png": "[encoded data removed]",
            "text/plain": [
              "<Figure size 2160x720 with 1 Axes>"
            ]
          },
          "metadata": {
            "tags": [],
            "needs_background": "light"
          }
        }
      ]
    },
    {
      "cell_type": "code",
      "metadata": {
        "id": "YXQM38jzr5D9",
        "colab_type": "code",
        "colab": {
          "base_uri": "https://localhost:8080/",
          "height": 301
        },
        "outputId": "b5441016-3bf8-4670-d02d-3652cbdb5348"
      },
      "source": [
        "from tensorflow.keras.layers import Dropout\n",
        "from tensorflow.keras.layers import Bidirectional\n",
        "### Create the Stacked LSTM model\n",
        "from tensorflow.keras.models import Sequential\n",
        "from tensorflow.keras.layers import Dense\n",
        "from tensorflow.keras.layers import SimpleRNN\n",
        "#tf.keras.layers.GRU\n",
        "model2=Sequential()\n",
        "model2.add(SimpleRNN(50,return_sequences=True,input_shape=(40,1)))\n",
        "model2.add(SimpleRNN(50,return_sequences=True))\n",
        "model2.add((SimpleRNN(50)))\n",
        "model2.add(Dense(1))\n",
        "model2.compile(loss='mean_squared_error',optimizer='adam')\n",
        "model2.summary()"
      ],
      "execution_count": 64,
      "outputs": [
        {
          "output_type": "stream",
          "text": [
            "Model: \"sequential_5\"\n",
            "_________________________________________________________________\n",
            "Layer (type)                 Output Shape              Param #   \n",
            "=================================================================\n",
            "simple_rnn_3 (SimpleRNN)     (None, 40, 50)            2600      \n",
            "_________________________________________________________________\n",
            "simple_rnn_4 (SimpleRNN)     (None, 40, 50)            5050      \n",
            "_________________________________________________________________\n",
            "simple_rnn_5 (SimpleRNN)     (None, 50)                5050      \n",
            "_________________________________________________________________\n",
            "dense_5 (Dense)              (None, 1)                 51        \n",
            "=================================================================\n",
            "Total params: 12,751\n",
            "Trainable params: 12,751\n",
            "Non-trainable params: 0\n",
            "_________________________________________________________________\n"
          ],
          "name": "stdout"
        }
      ]
    },
    {
      "cell_type": "code",
      "metadata": {
        "id": "DybicH3JsKyk",
        "colab_type": "code",
        "colab": {
          "base_uri": "https://localhost:8080/",
          "height": 1000
        },
        "outputId": "dd5645d6-c431-4926-ca51-1e4c0a8eca35"
      },
      "source": [
        "model2.fit(X_train,y_train,validation_data=(X_test,ytest),epochs=100,batch_size=64,verbose=1)"
      ],
      "execution_count": 65,
      "outputs": [
        {
          "output_type": "stream",
          "text": [
            "Epoch 1/100\n",
            "2/2 [==============================] - 0s 189ms/step - loss: 0.0941 - val_loss: 0.1898\n",
            "Epoch 2/100\n",
            "2/2 [==============================] - 0s 22ms/step - loss: 0.0397 - val_loss: 0.5604\n",
            "Epoch 3/100\n",
            "2/2 [==============================] - 0s 24ms/step - loss: 0.0113 - val_loss: 0.7121\n",
            "Epoch 4/100\n",
            "2/2 [==============================] - 0s 25ms/step - loss: 0.0040 - val_loss: 0.8168\n",
            "Epoch 5/100\n",
            "2/2 [==============================] - 0s 21ms/step - loss: 0.0031 - val_loss: 0.8072\n",
            "Epoch 6/100\n",
            "2/2 [==============================] - 0s 22ms/step - loss: 0.0022 - val_loss: 0.7359\n",
            "Epoch 7/100\n",
            "2/2 [==============================] - 0s 23ms/step - loss: 0.0019 - val_loss: 0.7300\n",
            "Epoch 8/100\n",
            "2/2 [==============================] - 0s 23ms/step - loss: 0.0018 - val_loss: 0.6563\n",
            "Epoch 9/100\n",
            "2/2 [==============================] - 0s 21ms/step - loss: 0.0013 - val_loss: 0.6169\n",
            "Epoch 10/100\n",
            "2/2 [==============================] - 0s 23ms/step - loss: 9.9736e-04 - val_loss: 0.6164\n",
            "Epoch 11/100\n",
            "2/2 [==============================] - 0s 22ms/step - loss: 0.0012 - val_loss: 0.5321\n",
            "Epoch 12/100\n",
            "2/2 [==============================] - 0s 22ms/step - loss: 0.0014 - val_loss: 0.5416\n",
            "Epoch 13/100\n",
            "2/2 [==============================] - 0s 22ms/step - loss: 7.0872e-04 - val_loss: 0.5354\n",
            "Epoch 14/100\n",
            "2/2 [==============================] - 0s 24ms/step - loss: 9.0190e-04 - val_loss: 0.4916\n",
            "Epoch 15/100\n",
            "2/2 [==============================] - 0s 26ms/step - loss: 6.9531e-04 - val_loss: 0.4877\n",
            "Epoch 16/100\n",
            "2/2 [==============================] - 0s 22ms/step - loss: 5.6086e-04 - val_loss: 0.4698\n",
            "Epoch 17/100\n",
            "2/2 [==============================] - 0s 22ms/step - loss: 5.5885e-04 - val_loss: 0.4594\n",
            "Epoch 18/100\n",
            "2/2 [==============================] - 0s 22ms/step - loss: 5.2743e-04 - val_loss: 0.4539\n",
            "Epoch 19/100\n",
            "2/2 [==============================] - 0s 22ms/step - loss: 5.2815e-04 - val_loss: 0.4381\n",
            "Epoch 20/100\n",
            "2/2 [==============================] - 0s 22ms/step - loss: 4.9565e-04 - val_loss: 0.4274\n",
            "Epoch 21/100\n",
            "2/2 [==============================] - 0s 23ms/step - loss: 4.8555e-04 - val_loss: 0.4287\n",
            "Epoch 22/100\n",
            "2/2 [==============================] - 0s 25ms/step - loss: 4.6433e-04 - val_loss: 0.4078\n",
            "Epoch 23/100\n",
            "2/2 [==============================] - 0s 23ms/step - loss: 4.6240e-04 - val_loss: 0.4095\n",
            "Epoch 24/100\n",
            "2/2 [==============================] - 0s 22ms/step - loss: 4.1070e-04 - val_loss: 0.3945\n",
            "Epoch 25/100\n",
            "2/2 [==============================] - 0s 22ms/step - loss: 4.1036e-04 - val_loss: 0.3983\n",
            "Epoch 26/100\n",
            "2/2 [==============================] - 0s 24ms/step - loss: 4.3981e-04 - val_loss: 0.3761\n",
            "Epoch 27/100\n",
            "2/2 [==============================] - 0s 23ms/step - loss: 4.3453e-04 - val_loss: 0.3747\n",
            "Epoch 28/100\n",
            "2/2 [==============================] - 0s 22ms/step - loss: 4.8510e-04 - val_loss: 0.3628\n",
            "Epoch 29/100\n",
            "2/2 [==============================] - 0s 21ms/step - loss: 5.1194e-04 - val_loss: 0.3704\n",
            "Epoch 30/100\n",
            "2/2 [==============================] - 0s 22ms/step - loss: 4.8443e-04 - val_loss: 0.3564\n",
            "Epoch 31/100\n",
            "2/2 [==============================] - 0s 26ms/step - loss: 4.6545e-04 - val_loss: 0.3469\n",
            "Epoch 32/100\n",
            "2/2 [==============================] - 0s 22ms/step - loss: 4.0078e-04 - val_loss: 0.3519\n",
            "Epoch 33/100\n",
            "2/2 [==============================] - 0s 23ms/step - loss: 4.7415e-04 - val_loss: 0.3327\n",
            "Epoch 34/100\n",
            "2/2 [==============================] - 0s 23ms/step - loss: 3.3354e-04 - val_loss: 0.3443\n",
            "Epoch 35/100\n",
            "2/2 [==============================] - 0s 22ms/step - loss: 4.1915e-04 - val_loss: 0.3187\n",
            "Epoch 36/100\n",
            "2/2 [==============================] - 0s 23ms/step - loss: 3.4965e-04 - val_loss: 0.3355\n",
            "Epoch 37/100\n",
            "2/2 [==============================] - 0s 22ms/step - loss: 4.2005e-04 - val_loss: 0.3093\n",
            "Epoch 38/100\n",
            "2/2 [==============================] - 0s 22ms/step - loss: 3.7411e-04 - val_loss: 0.3218\n",
            "Epoch 39/100\n",
            "2/2 [==============================] - 0s 22ms/step - loss: 3.5595e-04 - val_loss: 0.3052\n",
            "Epoch 40/100\n",
            "2/2 [==============================] - 0s 21ms/step - loss: 2.9614e-04 - val_loss: 0.3042\n",
            "Epoch 41/100\n",
            "2/2 [==============================] - 0s 24ms/step - loss: 2.3902e-04 - val_loss: 0.3086\n",
            "Epoch 42/100\n",
            "2/2 [==============================] - 0s 25ms/step - loss: 3.0993e-04 - val_loss: 0.2911\n",
            "Epoch 43/100\n",
            "2/2 [==============================] - 0s 23ms/step - loss: 2.7984e-04 - val_loss: 0.2976\n",
            "Epoch 44/100\n",
            "2/2 [==============================] - 0s 22ms/step - loss: 2.3488e-04 - val_loss: 0.2831\n",
            "Epoch 45/100\n",
            "2/2 [==============================] - 0s 22ms/step - loss: 2.6375e-04 - val_loss: 0.2979\n",
            "Epoch 46/100\n",
            "2/2 [==============================] - 0s 23ms/step - loss: 4.2590e-04 - val_loss: 0.2729\n",
            "Epoch 47/100\n",
            "2/2 [==============================] - 0s 26ms/step - loss: 3.5873e-04 - val_loss: 0.2885\n",
            "Epoch 48/100\n",
            "2/2 [==============================] - 0s 22ms/step - loss: 3.7872e-04 - val_loss: 0.2698\n",
            "Epoch 49/100\n",
            "2/2 [==============================] - 0s 23ms/step - loss: 2.7829e-04 - val_loss: 0.2738\n",
            "Epoch 50/100\n",
            "2/2 [==============================] - 0s 22ms/step - loss: 2.6720e-04 - val_loss: 0.2670\n",
            "Epoch 51/100\n",
            "2/2 [==============================] - 0s 24ms/step - loss: 2.6551e-04 - val_loss: 0.2701\n",
            "Epoch 52/100\n",
            "2/2 [==============================] - 0s 23ms/step - loss: 2.1892e-04 - val_loss: 0.2664\n",
            "Epoch 53/100\n",
            "2/2 [==============================] - 0s 23ms/step - loss: 2.6534e-04 - val_loss: 0.2641\n",
            "Epoch 54/100\n",
            "2/2 [==============================] - 0s 22ms/step - loss: 1.9678e-04 - val_loss: 0.2624\n",
            "Epoch 55/100\n",
            "2/2 [==============================] - 0s 25ms/step - loss: 1.4469e-04 - val_loss: 0.2516\n",
            "Epoch 56/100\n",
            "2/2 [==============================] - 0s 22ms/step - loss: 2.4204e-04 - val_loss: 0.2630\n",
            "Epoch 57/100\n",
            "2/2 [==============================] - 0s 23ms/step - loss: 2.1102e-04 - val_loss: 0.2468\n",
            "Epoch 58/100\n",
            "2/2 [==============================] - 0s 26ms/step - loss: 2.5383e-04 - val_loss: 0.2550\n",
            "Epoch 59/100\n",
            "2/2 [==============================] - 0s 25ms/step - loss: 1.5426e-04 - val_loss: 0.2479\n",
            "Epoch 60/100\n",
            "2/2 [==============================] - 0s 23ms/step - loss: 1.1762e-04 - val_loss: 0.2488\n",
            "Epoch 61/100\n",
            "2/2 [==============================] - 0s 23ms/step - loss: 1.3103e-04 - val_loss: 0.2371\n",
            "Epoch 62/100\n",
            "2/2 [==============================] - 0s 23ms/step - loss: 2.0705e-04 - val_loss: 0.2476\n",
            "Epoch 63/100\n",
            "2/2 [==============================] - 0s 25ms/step - loss: 2.3873e-04 - val_loss: 0.2307\n",
            "Epoch 64/100\n",
            "2/2 [==============================] - 0s 22ms/step - loss: 2.4952e-04 - val_loss: 0.2399\n",
            "Epoch 65/100\n",
            "2/2 [==============================] - 0s 23ms/step - loss: 1.8699e-04 - val_loss: 0.2275\n",
            "Epoch 66/100\n",
            "2/2 [==============================] - 0s 22ms/step - loss: 1.8761e-04 - val_loss: 0.2319\n",
            "Epoch 67/100\n",
            "2/2 [==============================] - 0s 27ms/step - loss: 1.1058e-04 - val_loss: 0.2273\n",
            "Epoch 68/100\n",
            "2/2 [==============================] - 0s 28ms/step - loss: 1.0496e-04 - val_loss: 0.2259\n",
            "Epoch 69/100\n",
            "2/2 [==============================] - 0s 22ms/step - loss: 9.2079e-05 - val_loss: 0.2224\n",
            "Epoch 70/100\n",
            "2/2 [==============================] - 0s 22ms/step - loss: 9.9747e-05 - val_loss: 0.2215\n",
            "Epoch 71/100\n",
            "2/2 [==============================] - 0s 23ms/step - loss: 7.8678e-05 - val_loss: 0.2180\n",
            "Epoch 72/100\n",
            "2/2 [==============================] - 0s 24ms/step - loss: 6.6467e-05 - val_loss: 0.2135\n",
            "Epoch 73/100\n",
            "2/2 [==============================] - 0s 23ms/step - loss: 7.6564e-05 - val_loss: 0.2118\n",
            "Epoch 74/100\n",
            "2/2 [==============================] - 0s 22ms/step - loss: 6.4852e-05 - val_loss: 0.2104\n",
            "Epoch 75/100\n",
            "2/2 [==============================] - 0s 24ms/step - loss: 6.3334e-05 - val_loss: 0.2048\n",
            "Epoch 76/100\n",
            "2/2 [==============================] - 0s 24ms/step - loss: 6.4179e-05 - val_loss: 0.2059\n",
            "Epoch 77/100\n",
            "2/2 [==============================] - 0s 24ms/step - loss: 6.2090e-05 - val_loss: 0.1987\n",
            "Epoch 78/100\n",
            "2/2 [==============================] - 0s 25ms/step - loss: 6.8048e-05 - val_loss: 0.2019\n",
            "Epoch 79/100\n",
            "2/2 [==============================] - 0s 24ms/step - loss: 7.5165e-05 - val_loss: 0.1923\n",
            "Epoch 80/100\n",
            "2/2 [==============================] - 0s 22ms/step - loss: 9.4029e-05 - val_loss: 0.1985\n",
            "Epoch 81/100\n",
            "2/2 [==============================] - 0s 27ms/step - loss: 1.1229e-04 - val_loss: 0.1870\n",
            "Epoch 82/100\n",
            "2/2 [==============================] - 0s 24ms/step - loss: 1.3740e-04 - val_loss: 0.1940\n",
            "Epoch 83/100\n",
            "2/2 [==============================] - 0s 24ms/step - loss: 1.0389e-04 - val_loss: 0.1853\n",
            "Epoch 84/100\n",
            "2/2 [==============================] - 0s 23ms/step - loss: 6.1874e-05 - val_loss: 0.1890\n",
            "Epoch 85/100\n",
            "2/2 [==============================] - 0s 23ms/step - loss: 5.7687e-05 - val_loss: 0.1827\n",
            "Epoch 86/100\n",
            "2/2 [==============================] - 0s 24ms/step - loss: 5.9730e-05 - val_loss: 0.1838\n",
            "Epoch 87/100\n",
            "2/2 [==============================] - 0s 22ms/step - loss: 2.1467e-05 - val_loss: 0.1808\n",
            "Epoch 88/100\n",
            "2/2 [==============================] - 0s 22ms/step - loss: 3.3726e-05 - val_loss: 0.1797\n",
            "Epoch 89/100\n",
            "2/2 [==============================] - 0s 21ms/step - loss: 1.9181e-05 - val_loss: 0.1792\n",
            "Epoch 90/100\n",
            "2/2 [==============================] - 0s 24ms/step - loss: 1.6642e-05 - val_loss: 0.1760\n",
            "Epoch 91/100\n",
            "2/2 [==============================] - 0s 24ms/step - loss: 1.6812e-05 - val_loss: 0.1760\n",
            "Epoch 92/100\n",
            "2/2 [==============================] - 0s 23ms/step - loss: 8.5623e-06 - val_loss: 0.1738\n",
            "Epoch 93/100\n",
            "2/2 [==============================] - 0s 22ms/step - loss: 6.8660e-06 - val_loss: 0.1732\n",
            "Epoch 94/100\n",
            "2/2 [==============================] - 0s 23ms/step - loss: 8.4038e-06 - val_loss: 0.1712\n",
            "Epoch 95/100\n",
            "2/2 [==============================] - 0s 23ms/step - loss: 4.7364e-06 - val_loss: 0.1696\n",
            "Epoch 96/100\n",
            "2/2 [==============================] - 0s 23ms/step - loss: 4.3693e-06 - val_loss: 0.1694\n",
            "Epoch 97/100\n",
            "2/2 [==============================] - 0s 23ms/step - loss: 8.4432e-06 - val_loss: 0.1671\n",
            "Epoch 98/100\n",
            "2/2 [==============================] - 0s 23ms/step - loss: 3.5161e-06 - val_loss: 0.1664\n",
            "Epoch 99/100\n",
            "2/2 [==============================] - 0s 22ms/step - loss: 2.2762e-06 - val_loss: 0.1652\n",
            "Epoch 100/100\n",
            "2/2 [==============================] - 0s 24ms/step - loss: 2.3767e-06 - val_loss: 0.1639\n"
          ],
          "name": "stdout"
        },
        {
          "output_type": "execute_result",
          "data": {
            "text/plain": [
              "<tensorflow.python.keras.callbacks.History at 0x7f4f442ee588>"
            ]
          },
          "metadata": {
            "tags": []
          },
          "execution_count": 65
        }
      ]
    },
    {
      "cell_type": "code",
      "metadata": {
        "id": "3DzmtLvisPd1",
        "colab_type": "code",
        "colab": {}
      },
      "source": [
        "### Lets Do the prediction and check performance metrics\n",
        "train_predict2=model2.predict(X_train)\n",
        "test_predict2=model2.predict(X_test)"
      ],
      "execution_count": 66,
      "outputs": []
    },
    {
      "cell_type": "code",
      "metadata": {
        "id": "3lyshwwxsWKB",
        "colab_type": "code",
        "colab": {}
      },
      "source": [
        "##Transformback to original form\n",
        "train_predict2=scaler.inverse_transform(train_predict2)\n",
        "test_predict2=scaler.inverse_transform(test_predict2)"
      ],
      "execution_count": 67,
      "outputs": []
    },
    {
      "cell_type": "code",
      "metadata": {
        "id": "3T6J96D6sdhk",
        "colab_type": "code",
        "colab": {
          "base_uri": "https://localhost:8080/",
          "height": 611
        },
        "outputId": "42a991b3-45ea-432f-fac7-833217543899"
      },
      "source": [
        "# shift train predictions for plotting\n",
        "look_back=40\n",
        "\n",
        "# reshape the figure\n",
        "plt.figure(figsize=(30,10))\n",
        "\n",
        "#first make empty numpy array of same size of df1\n",
        "trainPredictPlot = numpy.empty_like(output)\n",
        "trainPredictPlot[:, :] = np.nan\n",
        "\n",
        "trainPredictPlot[look_back:len(train_predict2)+look_back, :] = train_predict2\n",
        "\n",
        "# shift test predictions for plotting\n",
        "testPredictPlot = numpy.empty_like(output)\n",
        "testPredictPlot[:, :] = numpy.nan\n",
        "testPredictPlot[len(train_predict2)+(look_back*2)+1:len(output)-1, :] = test_predict2\n",
        "\n",
        "# For plotting purpose we use following\n",
        "# plot baseline and predictions\n",
        "plt.plot(scaler.inverse_transform(output),label='Original')\n",
        "plt.plot(trainPredictPlot,label='Train prediction')\n",
        "plt.plot(testPredictPlot,label='Test prediction')\n",
        "plt.legend()\n",
        "plt.ylabel('Number of cases') \n",
        "plt.xlabel('Days') \n",
        "plt.show()"
      ],
      "execution_count": 68,
      "outputs": [
        {
          "output_type": "display_data",
          "data": {
            "image/png": "[encoded data removed]",
            "text/plain": [
              "<Figure size 2160x720 with 1 Axes>"
            ]
          },
          "metadata": {
            "tags": [],
            "needs_background": "light"
          }
        }
      ]
    }
  ]
}